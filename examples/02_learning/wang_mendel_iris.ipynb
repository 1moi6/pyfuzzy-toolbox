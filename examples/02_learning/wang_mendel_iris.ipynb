{
 "cells": [
  {
   "cell_type": "code",
   "execution_count": null,
   "id": "0a6e1580",
   "metadata": {},
   "outputs": [],
   "source": []
  },
  {
   "cell_type": "code",
   "execution_count": null,
   "id": "e79738e6",
   "metadata": {},
   "outputs": [],
   "source": [
    "import sys\n",
    "sys.path.append('..')  \n",
    "import numpy as np\n",
    "import pandas as pd\n",
    "import matplotlib.pyplot as plt\n",
    "from sklearn.model_selection import train_test_split\n",
    "from sklearn.metrics import accuracy_score, confusion_matrix, classification_report\n",
    "import fuzzy_systems as fs\n",
    "from fuzzy_systems.learning import WangMendelClassification"
   ]
  },
  {
   "cell_type": "code",
   "execution_count": 4,
   "id": "576611ca",
   "metadata": {},
   "outputs": [
    {
     "name": "stdout",
     "output_type": "stream",
     "text": [
      "Shape: (210, 8)\n",
      "\n",
      "Classes: variety\n",
      "0    70\n",
      "1    70\n",
      "2    70\n",
      "Name: count, dtype: int64\n"
     ]
    },
    {
     "data": {
      "text/html": [
       "<div>\n",
       "<style scoped>\n",
       "    .dataframe tbody tr th:only-of-type {\n",
       "        vertical-align: middle;\n",
       "    }\n",
       "\n",
       "    .dataframe tbody tr th {\n",
       "        vertical-align: top;\n",
       "    }\n",
       "\n",
       "    .dataframe thead th {\n",
       "        text-align: right;\n",
       "    }\n",
       "</style>\n",
       "<table border=\"1\" class=\"dataframe\">\n",
       "  <thead>\n",
       "    <tr style=\"text-align: right;\">\n",
       "      <th></th>\n",
       "      <th>area</th>\n",
       "      <th>perimeter</th>\n",
       "      <th>compactness</th>\n",
       "      <th>length</th>\n",
       "      <th>width</th>\n",
       "      <th>asymmetry</th>\n",
       "      <th>groove_length</th>\n",
       "      <th>variety</th>\n",
       "    </tr>\n",
       "  </thead>\n",
       "  <tbody>\n",
       "    <tr>\n",
       "      <th>0</th>\n",
       "      <td>15.26</td>\n",
       "      <td>14.84</td>\n",
       "      <td>0.8710</td>\n",
       "      <td>5.763</td>\n",
       "      <td>3.312</td>\n",
       "      <td>2.221</td>\n",
       "      <td>5.220</td>\n",
       "      <td>0</td>\n",
       "    </tr>\n",
       "    <tr>\n",
       "      <th>1</th>\n",
       "      <td>14.88</td>\n",
       "      <td>14.57</td>\n",
       "      <td>0.8811</td>\n",
       "      <td>5.554</td>\n",
       "      <td>3.333</td>\n",
       "      <td>1.018</td>\n",
       "      <td>4.956</td>\n",
       "      <td>0</td>\n",
       "    </tr>\n",
       "    <tr>\n",
       "      <th>2</th>\n",
       "      <td>14.29</td>\n",
       "      <td>14.09</td>\n",
       "      <td>0.9050</td>\n",
       "      <td>5.291</td>\n",
       "      <td>3.337</td>\n",
       "      <td>2.699</td>\n",
       "      <td>4.825</td>\n",
       "      <td>0</td>\n",
       "    </tr>\n",
       "    <tr>\n",
       "      <th>3</th>\n",
       "      <td>13.84</td>\n",
       "      <td>13.94</td>\n",
       "      <td>0.8955</td>\n",
       "      <td>5.324</td>\n",
       "      <td>3.379</td>\n",
       "      <td>2.259</td>\n",
       "      <td>4.805</td>\n",
       "      <td>0</td>\n",
       "    </tr>\n",
       "    <tr>\n",
       "      <th>4</th>\n",
       "      <td>16.14</td>\n",
       "      <td>14.99</td>\n",
       "      <td>0.9034</td>\n",
       "      <td>5.658</td>\n",
       "      <td>3.562</td>\n",
       "      <td>1.355</td>\n",
       "      <td>5.175</td>\n",
       "      <td>0</td>\n",
       "    </tr>\n",
       "  </tbody>\n",
       "</table>\n",
       "</div>"
      ],
      "text/plain": [
       "    area  perimeter  compactness  length  width  asymmetry  groove_length  \\\n",
       "0  15.26      14.84       0.8710   5.763  3.312      2.221          5.220   \n",
       "1  14.88      14.57       0.8811   5.554  3.333      1.018          4.956   \n",
       "2  14.29      14.09       0.9050   5.291  3.337      2.699          4.825   \n",
       "3  13.84      13.94       0.8955   5.324  3.379      2.259          4.805   \n",
       "4  16.14      14.99       0.9034   5.658  3.562      1.355          5.175   \n",
       "\n",
       "   variety  \n",
       "0        0  \n",
       "1        0  \n",
       "2        0  \n",
       "3        0  \n",
       "4        0  "
      ]
     },
     "execution_count": 4,
     "metadata": {},
     "output_type": "execute_result"
    }
   ],
   "source": [
    "# URL do dataset\n",
    "url = 'https://archive.ics.uci.edu/ml/machine-learning-databases/00236/seeds_dataset.txt'\n",
    "\n",
    "# Carregar dados\n",
    "columns = ['area', 'perimeter', 'compactness', 'length', 'width', 'asymmetry', 'groove_length', 'variety']\n",
    "df = pd.read_csv(url, sep='\\s+', names=columns)\n",
    "\n",
    "# Converter classes para 0, 1, 2\n",
    "df['variety'] = df['variety'] - 1\n",
    "\n",
    "print(f\"Shape: {df.shape}\")\n",
    "print(f\"\\nClasses: {df['variety'].value_counts().sort_index()}\")\n",
    "df.head()"
   ]
  },
  {
   "cell_type": "code",
   "execution_count": 5,
   "id": "bbd454a7",
   "metadata": {},
   "outputs": [
    {
     "name": "stdout",
     "output_type": "stream",
     "text": [
      "X shape: (210, 4)\n",
      "y shape: (210,)\n"
     ]
    }
   ],
   "source": [
    "# Usar as 4 features mais discriminativas\n",
    "selected_features = ['area', 'perimeter', 'compactness', 'groove_length']\n",
    "\n",
    "X = df[selected_features].values\n",
    "y = df['variety'].values\n",
    "\n",
    "print(f\"X shape: {X.shape}\")\n",
    "print(f\"y shape: {y.shape}\")"
   ]
  },
  {
   "cell_type": "code",
   "execution_count": 6,
   "id": "c3a6a7f1",
   "metadata": {},
   "outputs": [
    {
     "name": "stdout",
     "output_type": "stream",
     "text": [
      "y_onehot shape: (210, 3)\n",
      "\n",
      "Exemplo:\n",
      "y[0] = 0 -> y_onehot[0] = [1. 0. 0.]\n"
     ]
    }
   ],
   "source": [
    "n_classes = 3\n",
    "y_onehot = np.zeros((len(y), n_classes))\n",
    "for i, label in enumerate(y):\n",
    "    y_onehot[i, label] = 1\n",
    "\n",
    "print(f\"y_onehot shape: {y_onehot.shape}\")\n",
    "print(f\"\\nExemplo:\")\n",
    "print(f\"y[0] = {y[0]} -> y_onehot[0] = {y_onehot[0]}\")"
   ]
  },
  {
   "cell_type": "code",
   "execution_count": 7,
   "id": "3aa1b2d2",
   "metadata": {},
   "outputs": [
    {
     "name": "stdout",
     "output_type": "stream",
     "text": [
      "Train: (147, 4), Test: (63, 4)\n"
     ]
    }
   ],
   "source": [
    "X_train, X_test, y_train_onehot, y_test_onehot, y_train, y_test = train_test_split(\n",
    "    X, y_onehot, y, test_size=0.3, random_state=42, stratify=y\n",
    ")\n",
    "\n",
    "print(f\"Train: {X_train.shape}, Test: {X_test.shape}\")"
   ]
  },
  {
   "cell_type": "code",
   "execution_count": 10,
   "id": "c473b2e8",
   "metadata": {},
   "outputs": [
    {
     "name": "stdout",
     "output_type": "stream",
     "text": [
      "   ✅ Sistema criado:\n",
      "      Entradas: ['comp_sepala', 'larg_sepala', 'comp_petala', 'larg_petala']\n",
      "      Saídas: ['is_Kama', 'is_Rosa', 'is_Canadian']\n",
      "\n"
     ]
    }
   ],
   "source": [
    "system = fs.MamdaniSystem(name=\"Iris One-vs-All\")\n",
    "input_names = ['comp_sepala', 'larg_sepala', 'comp_petala', 'larg_petala']\n",
    "\n",
    "universes = [\n",
    "        (np.min(X[:,0]), np.max(X[:,0])),  # comprimento sépala\n",
    "        (np.min(X[:,1]), np.max(X[:,1])),  # largura sépala\n",
    "        (np.min(X[:,2]), np.max(X[:,2])),  # comprimento pétala\n",
    "        (np.min(X[:,3]), np.max(X[:,3])),  # largura pétala\n",
    "    ]\n",
    "\n",
    "for name, universe in zip(input_names, universes):\n",
    "    system.add_input(name, universe)\n",
    "    # 3 partições por feature\n",
    "    system.add_term(name, 'pequeno', 'triangular',\n",
    "                    (universe[0], universe[0], (universe[0]+universe[1])/2))\n",
    "    system.add_term(name, 'medio', 'triangular',\n",
    "                    (universe[0], (universe[0]+universe[1])/2, universe[1]))\n",
    "    system.add_term(name, 'grande', 'triangular',\n",
    "                    ((universe[0]+universe[1])/2, universe[1], universe[1]))\n",
    "\n",
    "# Adicionar 3 saídas binárias\n",
    "output_names = ['is_Kama', 'is_Rosa', 'is_Canadian']\n",
    "for name in output_names:\n",
    "    system.add_output(name, (0, 1))\n",
    "    system.add_term(name, 'nao', 'triangular', (0,0,1.0))\n",
    "    system.add_term(name, 'sim', 'triangular', (0, 1, 1.0))\n",
    "\n",
    "print(f\"   ✅ Sistema criado:\")\n",
    "print(f\"      Entradas: {list(system.input_variables.keys())}\")\n",
    "print(f\"      Saídas: {list(system.output_variables.keys())}\")\n",
    "print()\n"
   ]
  },
  {
   "cell_type": "code",
   "execution_count": 14,
   "id": "a894259a",
   "metadata": {},
   "outputs": [
    {
     "name": "stdout",
     "output_type": "stream",
     "text": [
      "======================================================================\n",
      "WANG-MENDEL CLASSIFICAÇÃO - GERANDO REGRAS\n",
      "======================================================================\n",
      "\n",
      "📊 Configuração:\n",
      "   • Entradas:  4 (['comp_sepala', 'larg_sepala', 'comp_petala', 'larg_petala'])\n",
      "   • Saídas:    3 (['is_Kama', 'is_Rosa', 'is_Canadian'])\n",
      "   • Amostras:  147\n",
      "\n",
      "   🔍 Detectado: Classificação One-Hot Encoding\n",
      "      → Regras serão geradas considerando todas as saídas juntas\n",
      "\n",
      "======================================================================\n",
      "REGRAS GERADAS POR SAÍDA\n",
      "======================================================================\n",
      "\n",
      "📤 Saída: is_Kama\n",
      "   ✅ Regras geradas: 18\n",
      "   ⚠️  Conflitos resolvidos: 25\n",
      "\n",
      "   📋 Exemplos de regras (mostrando 5):\n",
      "      1. IF comp_sepala = pequeno AND larg_sepala = medio AND comp_petala = medio AND larg_petala = medio\n",
      "         THEN is_Kama = nao (grau=0.207)\n",
      "      2. IF comp_sepala = pequeno AND larg_sepala = pequeno AND comp_petala = medio AND larg_petala = pequeno\n",
      "         THEN is_Kama = nao (grau=0.492)\n",
      "      3. IF comp_sepala = pequeno AND larg_sepala = pequeno AND comp_petala = pequeno AND larg_petala = medio\n",
      "         THEN is_Kama = nao (grau=0.478)\n",
      "      4. IF comp_sepala = pequeno AND larg_sepala = pequeno AND comp_petala = medio AND larg_petala = medio\n",
      "         THEN is_Kama = nao (grau=0.341)\n",
      "      5. IF comp_sepala = medio AND larg_sepala = medio AND comp_petala = medio AND larg_petala = medio\n",
      "         THEN is_Kama = sim (grau=0.706)\n",
      "      ... (e mais 13 regras)\n",
      "\n",
      "📤 Saída: is_Rosa\n",
      "   ✅ Regras geradas: 18\n",
      "   ⚠️  Conflitos resolvidos: 25\n",
      "\n",
      "   📋 Exemplos de regras (mostrando 5):\n",
      "      1. IF comp_sepala = pequeno AND larg_sepala = medio AND comp_petala = medio AND larg_petala = medio\n",
      "         THEN is_Rosa = nao (grau=0.207)\n",
      "      2. IF comp_sepala = pequeno AND larg_sepala = pequeno AND comp_petala = medio AND larg_petala = pequeno\n",
      "         THEN is_Rosa = nao (grau=0.492)\n",
      "      3. IF comp_sepala = pequeno AND larg_sepala = pequeno AND comp_petala = pequeno AND larg_petala = medio\n",
      "         THEN is_Rosa = nao (grau=0.478)\n",
      "      4. IF comp_sepala = pequeno AND larg_sepala = pequeno AND comp_petala = medio AND larg_petala = medio\n",
      "         THEN is_Rosa = nao (grau=0.341)\n",
      "      5. IF comp_sepala = medio AND larg_sepala = medio AND comp_petala = medio AND larg_petala = medio\n",
      "         THEN is_Rosa = nao (grau=0.706)\n",
      "      ... (e mais 13 regras)\n",
      "\n",
      "📤 Saída: is_Canadian\n",
      "   ✅ Regras geradas: 18\n",
      "   ⚠️  Conflitos resolvidos: 25\n",
      "\n",
      "   📋 Exemplos de regras (mostrando 5):\n",
      "      1. IF comp_sepala = pequeno AND larg_sepala = medio AND comp_petala = medio AND larg_petala = medio\n",
      "         THEN is_Canadian = sim (grau=0.207)\n",
      "      2. IF comp_sepala = pequeno AND larg_sepala = pequeno AND comp_petala = medio AND larg_petala = pequeno\n",
      "         THEN is_Canadian = sim (grau=0.492)\n",
      "      3. IF comp_sepala = pequeno AND larg_sepala = pequeno AND comp_petala = pequeno AND larg_petala = medio\n",
      "         THEN is_Canadian = sim (grau=0.478)\n",
      "      4. IF comp_sepala = pequeno AND larg_sepala = pequeno AND comp_petala = medio AND larg_petala = medio\n",
      "         THEN is_Canadian = sim (grau=0.341)\n",
      "      5. IF comp_sepala = medio AND larg_sepala = medio AND comp_petala = medio AND larg_petala = medio\n",
      "         THEN is_Canadian = nao (grau=0.706)\n",
      "      ... (e mais 13 regras)\n",
      "\n",
      "======================================================================\n",
      "ADICIONANDO REGRAS AO SISTEMA\n",
      "======================================================================\n",
      "\n",
      "\n",
      "✅ 18 regras completas adicionadas ao sistema!\n",
      "\n",
      "   Entradas: ['comp_sepala', 'larg_sepala', 'comp_petala', 'larg_petala']\n",
      "   Saídas: ['is_Kama', 'is_Rosa', 'is_Canadian']\n"
     ]
    }
   ],
   "source": [
    "wm = WangMendelClassification(\n",
    "        system=system,\n",
    "        X_train=X_train,\n",
    "        y_train=y_train_onehot,\n",
    "    )\n",
    "\n",
    "system_trained = wm.fit(verbose=True)"
   ]
  },
  {
   "cell_type": "code",
   "execution_count": 18,
   "id": "cc374fae",
   "metadata": {},
   "outputs": [
    {
     "data": {
      "text/plain": [
       "array([1, 2, 2, 2, 1, 2, 0, 1, 2, 0, 1, 0, 0, 0, 2, 2, 2, 2, 2, 1, 2, 0,\n",
       "       2, 2, 0, 0, 0, 2, 0, 0, 2, 2, 1, 2, 2, 0, 2, 0, 0, 0, 0, 0, 1, 2,\n",
       "       0, 0, 0, 2, 0, 0, 2, 0, 0, 0, 0, 0, 2, 1, 0, 2, 1, 1, 1])"
      ]
     },
     "execution_count": 18,
     "metadata": {},
     "output_type": "execute_result"
    }
   ],
   "source": [
    "wm.predict(X_test)"
   ]
  },
  {
   "cell_type": "code",
   "execution_count": 21,
   "id": "88069a6d",
   "metadata": {},
   "outputs": [],
   "source": [
    "for i in range(len(X_test)):\n",
    "    # Criar entrada\n",
    "    inputs = {\n",
    "        'comp_sepala': X_test[i, 0],\n",
    "        'larg_sepala': X_test[i, 1],\n",
    "        'comp_petala': X_test[i, 2],\n",
    "        'larg_petala': X_test[i, 3]\n",
    "    }\n",
    "\n",
    "    # Obter saídas\n",
    "    output = system_trained.evaluate(inputs)"
   ]
  },
  {
   "cell_type": "code",
   "execution_count": 23,
   "id": "52102d1a",
   "metadata": {},
   "outputs": [
    {
     "data": {
      "text/plain": [
       "array([[16,  0,  5],\n",
       "       [10, 11,  0],\n",
       "       [ 2,  0, 19]])"
      ]
     },
     "execution_count": 23,
     "metadata": {},
     "output_type": "execute_result"
    }
   ],
   "source": [
    "confusion_matrix(y_test, wm.predict(X_test))"
   ]
  },
  {
   "cell_type": "code",
   "execution_count": null,
   "id": "9f09224b",
   "metadata": {},
   "outputs": [],
   "source": []
  },
  {
   "cell_type": "markdown",
   "id": "d1e76f29",
   "metadata": {},
   "source": [
    "#### Seção 2"
   ]
  },
  {
   "cell_type": "code",
   "execution_count": 43,
   "id": "b6f102b7",
   "metadata": {},
   "outputs": [
    {
     "name": "stdout",
     "output_type": "stream",
     "text": [
      "   ✅ Sistema criado:\n",
      "      Entradas: ['comp_sepala', 'larg_sepala', 'comp_petala', 'larg_petala']\n",
      "      Saídas: ['Tipo']\n",
      "\n"
     ]
    }
   ],
   "source": [
    "fis2 = fs.MamdaniSystem(name=\"Iris\")\n",
    "input_names = ['comp_sepala', 'larg_sepala', 'comp_petala', 'larg_petala']\n",
    "\n",
    "universes = [\n",
    "        (np.min(X[:,0]), np.max(X[:,0])),  # comprimento sépala\n",
    "        (np.min(X[:,1]), np.max(X[:,1])),  # largura sépala\n",
    "        (np.min(X[:,2]), np.max(X[:,2])),  # comprimento pétala\n",
    "        (np.min(X[:,3]), np.max(X[:,3])),  # largura pétala\n",
    "    ]\n",
    "\n",
    "for name, universe in zip(input_names, universes):\n",
    "    fis2.add_input(name, universe)\n",
    "    # 3 partições por feature\n",
    "    fis2.add_term(name, 'pequeno', 'triangular',\n",
    "                    (universe[0], universe[0], (universe[0]+universe[1])/2))\n",
    "    fis2.add_term(name, 'medio', 'triangular',\n",
    "                    (universe[0], (universe[0]+universe[1])/2, universe[1]))\n",
    "    fis2.add_term(name, 'grande', 'triangular',\n",
    "                    ((universe[0]+universe[1])/2, universe[1], universe[1]))\n",
    "\n",
    "# Adicionar 3 saídas binárias\n",
    "output_names = ['is_Kama', 'is_Rosa', 'is_Canadian']\n",
    "fis2.add_output('Tipo', (-1, 3))\n",
    "fis2.add_term('Tipo', 'is_Kama', 'triangular', (0,1,2))\n",
    "fis2.add_term('Tipo', 'is_Rosa', 'triangular',(1,2,3))\n",
    "fis2.add_term('Tipo', 'is_Canadian', 'triangular',(-1,0,1) )\n",
    "\n",
    "\n",
    "print(f\"   ✅ Sistema criado:\")\n",
    "print(f\"      Entradas: {list(fis2.input_variables.keys())}\")\n",
    "print(f\"      Saídas: {list(fis2.output_variables.keys())}\")\n",
    "print()\n"
   ]
  },
  {
   "cell_type": "code",
   "execution_count": 44,
   "id": "7cba29ec",
   "metadata": {},
   "outputs": [
    {
     "name": "stdout",
     "output_type": "stream",
     "text": [
      "======================================================================\n",
      "WANG-MENDEL CLASSIFICAÇÃO - GERANDO REGRAS\n",
      "======================================================================\n",
      "\n",
      "📊 Configuração:\n",
      "   • Entradas:  4 (['comp_sepala', 'larg_sepala', 'comp_petala', 'larg_petala'])\n",
      "   • Saídas:    1 (['Tipo'])\n",
      "   • Amostras:  147\n",
      "\n",
      "======================================================================\n",
      "REGRAS GERADAS POR SAÍDA\n",
      "======================================================================\n",
      "\n",
      "📤 Saída: Tipo\n",
      "   ✅ Regras geradas: 18\n",
      "   ⚠️  Conflitos resolvidos: 129\n",
      "\n",
      "   📋 Exemplos de regras (mostrando 5):\n",
      "      1. IF comp_sepala = pequeno AND larg_sepala = medio AND comp_petala = medio AND larg_petala = medio\n",
      "         THEN Tipo = is_Canadian (grau=0.207)\n",
      "      2. IF comp_sepala = pequeno AND larg_sepala = pequeno AND comp_petala = medio AND larg_petala = pequeno\n",
      "         THEN Tipo = is_Canadian (grau=0.492)\n",
      "      3. IF comp_sepala = pequeno AND larg_sepala = pequeno AND comp_petala = pequeno AND larg_petala = medio\n",
      "         THEN Tipo = is_Canadian (grau=0.478)\n",
      "      4. IF comp_sepala = pequeno AND larg_sepala = pequeno AND comp_petala = medio AND larg_petala = medio\n",
      "         THEN Tipo = is_Canadian (grau=0.341)\n",
      "      5. IF comp_sepala = medio AND larg_sepala = medio AND comp_petala = medio AND larg_petala = medio\n",
      "         THEN Tipo = is_Kama (grau=0.706)\n",
      "      ... (e mais 13 regras)\n",
      "\n",
      "======================================================================\n",
      "ADICIONANDO REGRAS AO SISTEMA\n",
      "======================================================================\n",
      "\n",
      "\n",
      "✅ 18 regras completas adicionadas ao sistema!\n",
      "\n",
      "   Entradas: ['comp_sepala', 'larg_sepala', 'comp_petala', 'larg_petala']\n",
      "   Saídas: ['Tipo']\n"
     ]
    },
    {
     "data": {
      "text/plain": [
       "MamdaniSystem(name='Iris', inputs=4, outputs=1, rules=18)"
      ]
     },
     "execution_count": 44,
     "metadata": {},
     "output_type": "execute_result"
    }
   ],
   "source": [
    "wm2= WangMendelClassification(\n",
    "        system=fis2,\n",
    "        X_train=X_train,\n",
    "        y_train=y_train,\n",
    "    )\n",
    "\n",
    "wm2.fit(verbose=True)"
   ]
  },
  {
   "cell_type": "code",
   "execution_count": 45,
   "id": "2383d3b3",
   "metadata": {},
   "outputs": [
    {
     "data": {
      "text/plain": [
       "array([[ 5, 16,  0],\n",
       "       [ 0, 10, 11],\n",
       "       [19,  2,  0]])"
      ]
     },
     "execution_count": 45,
     "metadata": {},
     "output_type": "execute_result"
    }
   ],
   "source": [
    "confusion_matrix(y_test, wm2.predict(X_test).round())"
   ]
  },
  {
   "cell_type": "code",
   "execution_count": 35,
   "id": "86e87348",
   "metadata": {},
   "outputs": [
    {
     "data": {
      "text/plain": [
       "[[{'is_Kama': 1.1102230246251565e-16,\n",
       "   'is_Rosa': 0.9999999999999999,\n",
       "   'is_Canadian': 0.0}],\n",
       " [{'is_Kama': 0.0,\n",
       "   'is_Rosa': 0.28030615462247543,\n",
       "   'is_Canadian': 0.7196938453775246}],\n",
       " [{'is_Kama': 0.0,\n",
       "   'is_Rosa': 0.51786411250174,\n",
       "   'is_Canadian': 0.48213588749826}],\n",
       " [{'is_Kama': 0.0,\n",
       "   'is_Rosa': 0.7453098372973073,\n",
       "   'is_Canadian': 0.25469016270269274}],\n",
       " [{'is_Kama': 0.2832049826331341,\n",
       "   'is_Rosa': 0.7167950173668659,\n",
       "   'is_Canadian': 0.0}],\n",
       " [{'is_Kama': 0.0,\n",
       "   'is_Rosa': 0.47995418198033435,\n",
       "   'is_Canadian': 0.5200458180196657}],\n",
       " [{'is_Kama': 0.733344408932288,\n",
       "   'is_Rosa': 0.26665559106771203,\n",
       "   'is_Canadian': 0.0}],\n",
       " [{'is_Kama': 0.4923686279222613,\n",
       "   'is_Rosa': 0.5076313720777387,\n",
       "   'is_Canadian': 0.0}],\n",
       " [{'is_Kama': 0.0,\n",
       "   'is_Rosa': 0.9207299166423697,\n",
       "   'is_Canadian': 0.0792700833576303}],\n",
       " [{'is_Kama': 0.020779873089058154,\n",
       "   'is_Rosa': 0.9792201269109418,\n",
       "   'is_Canadian': 0.0}],\n",
       " [{'is_Kama': 0.49392904376396307,\n",
       "   'is_Rosa': 0.5060709562360369,\n",
       "   'is_Canadian': 0.0}],\n",
       " [{'is_Kama': 0.23222580168557794,\n",
       "   'is_Rosa': 0.7677741983144221,\n",
       "   'is_Canadian': 0.0}],\n",
       " [{'is_Kama': 0.0, 'is_Rosa': 1.0, 'is_Canadian': 0.0}],\n",
       " [{'is_Kama': 0.7319855177628749,\n",
       "   'is_Rosa': 0.26801448223712515,\n",
       "   'is_Canadian': 0.0}],\n",
       " [{'is_Kama': 0.0,\n",
       "   'is_Rosa': 0.5570389282094721,\n",
       "   'is_Canadian': 0.4429610717905279}],\n",
       " [{'is_Kama': 0.0,\n",
       "   'is_Rosa': 0.7325474086391497,\n",
       "   'is_Canadian': 0.2674525913608503}],\n",
       " [{'is_Kama': 0.0,\n",
       "   'is_Rosa': 0.99559433449581,\n",
       "   'is_Canadian': 0.004405665504189971}],\n",
       " [{'is_Kama': 0.0,\n",
       "   'is_Rosa': 0.7064432357814832,\n",
       "   'is_Canadian': 0.29355676421851684}],\n",
       " [{'is_Kama': 0.0,\n",
       "   'is_Rosa': 0.8240523357806342,\n",
       "   'is_Canadian': 0.1759476642193658}],\n",
       " [{'is_Kama': 0.1374918932426995,\n",
       "   'is_Rosa': 0.8625081067573005,\n",
       "   'is_Canadian': 0.0}],\n",
       " [{'is_Kama': 0.0,\n",
       "   'is_Rosa': 0.7157509516884348,\n",
       "   'is_Canadian': 0.28424904831156517}],\n",
       " [{'is_Kama': 0.8814519562481459,\n",
       "   'is_Rosa': 0.11854804375185413,\n",
       "   'is_Canadian': 0.0}],\n",
       " [{'is_Kama': 0.0,\n",
       "   'is_Rosa': 0.7485135740995947,\n",
       "   'is_Canadian': 0.25148642590040526}],\n",
       " [{'is_Kama': 0.0,\n",
       "   'is_Rosa': 0.9139389807181084,\n",
       "   'is_Canadian': 0.08606101928189158}],\n",
       " [{'is_Kama': 0.1454818630258755,\n",
       "   'is_Rosa': 0.8545181369741245,\n",
       "   'is_Canadian': 0.0}],\n",
       " [{'is_Kama': 0.7261175938524185,\n",
       "   'is_Rosa': 0.27388240614758147,\n",
       "   'is_Canadian': 0.0}],\n",
       " [{'is_Kama': 0.6873970475701738,\n",
       "   'is_Rosa': 0.31260295242982616,\n",
       "   'is_Canadian': 0.0}],\n",
       " [{'is_Kama': 0.0,\n",
       "   'is_Rosa': 0.8332024721890019,\n",
       "   'is_Canadian': 0.1667975278109981}],\n",
       " [{'is_Kama': 0.22235389298422847,\n",
       "   'is_Rosa': 0.7776461070157715,\n",
       "   'is_Canadian': 0.0}],\n",
       " [{'is_Kama': 0.05362500345491239,\n",
       "   'is_Rosa': 0.9463749965450876,\n",
       "   'is_Canadian': 0.0}],\n",
       " [{'is_Kama': 0.0,\n",
       "   'is_Rosa': 0.7500598432984509,\n",
       "   'is_Canadian': 0.24994015670154912}],\n",
       " [{'is_Kama': 0.0,\n",
       "   'is_Rosa': 0.8196590236448467,\n",
       "   'is_Canadian': 0.18034097635515334}],\n",
       " [{'is_Kama': 0.42129695237963594,\n",
       "   'is_Rosa': 0.5787030476203641,\n",
       "   'is_Canadian': 0.0}],\n",
       " [{'is_Kama': 0.0,\n",
       "   'is_Rosa': 0.7625661418170548,\n",
       "   'is_Canadian': 0.23743385818294516}],\n",
       " [{'is_Kama': 0.0,\n",
       "   'is_Rosa': 0.7828665673235387,\n",
       "   'is_Canadian': 0.21713343267646135}],\n",
       " [{'is_Kama': 0.7612751477734805,\n",
       "   'is_Rosa': 0.23872485222651954,\n",
       "   'is_Canadian': 0.0}],\n",
       " [{'is_Kama': 0.0,\n",
       "   'is_Rosa': 0.9321425323482848,\n",
       "   'is_Canadian': 0.06785746765171519}],\n",
       " [{'is_Kama': 0.5438220972399854,\n",
       "   'is_Rosa': 0.4561779027600145,\n",
       "   'is_Canadian': 0.0}],\n",
       " [{'is_Kama': 0.43744258235406264,\n",
       "   'is_Rosa': 0.5625574176459374,\n",
       "   'is_Canadian': 0.0}],\n",
       " [{'is_Kama': 0.626992533253699,\n",
       "   'is_Rosa': 0.37300746674630103,\n",
       "   'is_Canadian': 0.0}],\n",
       " [{'is_Kama': 0.7330419526184033,\n",
       "   'is_Rosa': 0.2669580473815966,\n",
       "   'is_Canadian': 0.0}],\n",
       " [{'is_Kama': 0.22795795325041912,\n",
       "   'is_Rosa': 0.7720420467495809,\n",
       "   'is_Canadian': 0.0}],\n",
       " [{'is_Kama': 0.25895849917424263,\n",
       "   'is_Rosa': 0.7410415008257574,\n",
       "   'is_Canadian': 0.0}],\n",
       " [{'is_Kama': 0.0,\n",
       "   'is_Rosa': 0.933666711212473,\n",
       "   'is_Canadian': 0.06633328878752698}],\n",
       " [{'is_Kama': 0.3408191663492296,\n",
       "   'is_Rosa': 0.6591808336507704,\n",
       "   'is_Canadian': 0.0}],\n",
       " [{'is_Kama': 0.3621376066453559,\n",
       "   'is_Rosa': 0.6378623933546441,\n",
       "   'is_Canadian': 0.0}],\n",
       " [{'is_Kama': 0.16354357731692082,\n",
       "   'is_Rosa': 0.8364564226830792,\n",
       "   'is_Canadian': 0.0}],\n",
       " [{'is_Kama': 0.0,\n",
       "   'is_Rosa': 0.8333251876603258,\n",
       "   'is_Canadian': 0.16667481233967418}],\n",
       " [{'is_Kama': 0.38035343195351,\n",
       "   'is_Rosa': 0.61964656804649,\n",
       "   'is_Canadian': 0.0}],\n",
       " [{'is_Kama': 0.21440179385686786,\n",
       "   'is_Rosa': 0.7855982061431321,\n",
       "   'is_Canadian': 0.0}],\n",
       " [{'is_Kama': 0.0,\n",
       "   'is_Rosa': 0.8666491592260877,\n",
       "   'is_Canadian': 0.13335084077391235}],\n",
       " [{'is_Kama': 0.6104733291669878,\n",
       "   'is_Rosa': 0.3895266708330122,\n",
       "   'is_Canadian': 0.0}],\n",
       " [{'is_Kama': 0.2643459066578977,\n",
       "   'is_Rosa': 0.7356540933421023,\n",
       "   'is_Canadian': 0.0}],\n",
       " [{'is_Kama': 0.40680313274179514,\n",
       "   'is_Rosa': 0.5931968672582049,\n",
       "   'is_Canadian': 0.0}],\n",
       " [{'is_Kama': 0.5430727176799703,\n",
       "   'is_Rosa': 0.45692728232002966,\n",
       "   'is_Canadian': 0.0}],\n",
       " [{'is_Kama': 0.6739130323292251,\n",
       "   'is_Rosa': 0.3260869676707749,\n",
       "   'is_Canadian': 0.0}],\n",
       " [{'is_Kama': 0.0,\n",
       "   'is_Rosa': 0.8536894270077648,\n",
       "   'is_Canadian': 0.14631057299223515}],\n",
       " [{'is_Kama': 0.16510814861361778,\n",
       "   'is_Rosa': 0.8348918513863822,\n",
       "   'is_Canadian': 0.0}],\n",
       " [{'is_Kama': 0.5031550305285039,\n",
       "   'is_Rosa': 0.49684496947149615,\n",
       "   'is_Canadian': 0.0}],\n",
       " [{'is_Kama': 0.0,\n",
       "   'is_Rosa': 0.8917597572186913,\n",
       "   'is_Canadian': 0.10824024278130873}],\n",
       " [{'is_Kama': 0.3970234136449031,\n",
       "   'is_Rosa': 0.6029765863550969,\n",
       "   'is_Canadian': 0.0}],\n",
       " [{'is_Kama': 0.34232695090063137,\n",
       "   'is_Rosa': 0.6576730490993686,\n",
       "   'is_Canadian': 0.0}],\n",
       " [{'is_Kama': 0.4647086124257065,\n",
       "   'is_Rosa': 0.5352913875742935,\n",
       "   'is_Canadian': 0.0}]]"
      ]
     },
     "execution_count": 35,
     "metadata": {},
     "output_type": "execute_result"
    }
   ],
   "source": [
    "wm2.predict_membership(X_test)"
   ]
  },
  {
   "cell_type": "code",
   "execution_count": null,
   "id": "10b3a66f",
   "metadata": {},
   "outputs": [],
   "source": []
  }
 ],
 "metadata": {
  "kernelspec": {
   "display_name": "Python (generico)",
   "language": "python",
   "name": "generico"
  },
  "language_info": {
   "codemirror_mode": {
    "name": "ipython",
    "version": 3
   },
   "file_extension": ".py",
   "mimetype": "text/x-python",
   "name": "python",
   "nbconvert_exporter": "python",
   "pygments_lexer": "ipython3",
   "version": "3.11.9"
  }
 },
 "nbformat": 4,
 "nbformat_minor": 5
}
