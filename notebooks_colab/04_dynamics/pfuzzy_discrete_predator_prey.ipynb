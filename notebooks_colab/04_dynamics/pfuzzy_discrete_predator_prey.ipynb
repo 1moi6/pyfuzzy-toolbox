{
 "cells": [
  {
   "cell_type": "markdown",
   "metadata": {},
   "source": "#### Discrete p-Fuzzy Predator-Prey Model\n\nModels ecological predator-prey interactions using discrete p-fuzzy systems where $x_{n+1} = x_n + f(x_n)$ and $f(x_n)$ is determined by fuzzy inference rules."
  },
  {
   "cell_type": "code",
   "execution_count": null,
   "metadata": {},
   "outputs": [],
   "source": "# Install pyfuzzy-toolbox and dependencies\n!pip install pyfuzzy-toolbox matplotlib numpy -q"
  },
  {
   "cell_type": "code",
   "execution_count": null,
   "metadata": {},
   "outputs": [],
   "source": "# Import libraries for fuzzy systems and visualization\nimport numpy as np\nimport matplotlib.pyplot as plt\n\nfrom fuzzy_systems import MamdaniSystem\nfrom fuzzy_systems.dynamics import PFuzzyDiscrete\n\nprint(\"✅ Libraries imported successfully!\")"
  },
  {
   "cell_type": "code",
   "execution_count": null,
   "metadata": {},
   "outputs": [],
   "source": "# Create Mamdani system for predator-prey dynamics\nfis = MamdaniSystem(name=\"Discrete Predator-Prey\")\n\n# ========================================\n# INPUTS: Prey (x) and Predators (y)\n# ========================================\n\n# Define universe of discourse [0, 100] for both populations\nfis.add_input('prey', (0, 100))\nfis.add_input('predator', (0, 100))\n\n# Linguistic terms with 4 levels: B (Low), MB (Med-Low), MA (Med-High), A (High)\nfor var in ['prey', 'predator']:\n    fis.add_term(var, 'B', 'gaussian', (0, 12))           # Low\n    fis.add_term(var, 'MB', 'gaussian', (100/3, 12))      # Med-Low\n    fis.add_term(var, 'MA', 'gaussian', (2*100/3, 12))    # Med-High\n    fis.add_term(var, 'A', 'gaussian', (100, 12))         # High\n\nfis.plot_variables()"
  },
  {
   "cell_type": "code",
   "execution_count": null,
   "metadata": {},
   "outputs": [],
   "source": "# ========================================\n# OUTPUTS: Population variations Δprey and Δpredator\n# ========================================\n\n# Output 1: Δprey (prey variation) - negative terms for decrease, positive for increase\nvar_prey_universe = (-2,2)\nlrg = 0.5\n\nfis.add_output('var_prey', var_prey_universe)\nfis.add_term('var_prey', 'B_n', 'triangular', (-lrg,0,0))\nfis.add_term('var_prey', 'MB_n', 'triangular', (-2*lrg,-lrg, 0))\nfis.add_term('var_prey', 'MA_n', 'triangular', (-3*lrg, -2*lrg, -lrg))\nfis.add_term('var_prey', 'A_n', 'trapezoidal', (-4*lrg,-4*lrg, -3*lrg, -2*lrg))\nfis.add_term('var_prey', 'B_p', 'triangular', (0, 0, lrg))\nfis.add_term('var_prey', 'MB_p', 'triangular', (0, lrg, 2*lrg))\nfis.add_term('var_prey', 'MA_p', 'triangular', (lrg, 2*lrg, 3*lrg))\nfis.add_term('var_prey', 'A_p', 'trapezoidal', (2*lrg, 3*lrg, 4*lrg,4*lrg))\n\n# Output 2: Δpredator (predator variation) - same structure as prey variation\nvar_predator_universe = (-2,2)\nlrg = 0.5\n\nfis.add_output('var_predator', var_predator_universe)\nfis.add_term('var_predator', 'B_n', 'triangular', (-lrg,0,0))\nfis.add_term('var_predator', 'MB_n', 'triangular', (-2*lrg,-lrg, 0))\nfis.add_term('var_predator', 'MA_n', 'triangular', (-3*lrg, -2*lrg, -lrg))\nfis.add_term('var_predator', 'A_n', 'trapezoidal', (-4*lrg,-4*lrg, -3*lrg, -2*lrg))\nfis.add_term('var_predator', 'B_p', 'triangular', (0, 0, lrg))\nfis.add_term('var_predator', 'MB_p', 'triangular', (0, lrg, 2*lrg))\nfis.add_term('var_predator', 'MA_p', 'triangular', (lrg, 2*lrg, 3*lrg))\nfis.add_term('var_predator', 'A_p', 'trapezoidal', (2*lrg, 3*lrg, 4*lrg,4*lrg))\n\nfis.plot_variables(['var_prey','var_predator'])\n"
  },
  {
   "cell_type": "code",
   "execution_count": null,
   "metadata": {},
   "outputs": [],
   "source": "# ========================================\n# FUZZY RULE BASE (16 rules)\n# ========================================\n\n# Define rules encoding predator-prey interactions\n# Format: ('prey_term', 'predator_term', 'var_prey_term', 'var_predator_term')\n\nrules = [\n    # Row 1: prey = B (low)\n    ('B', 'B', 'MB_p', 'MB_n'),\n    ('B', 'MB', 'B_p', 'MB_n'),\n    ('B', 'MA', 'B_n', 'MA_n'),\n    ('B', 'A', 'MB_n', 'A_n'),\n    \n    # Row 2: prey = MB (med-low)\n    ('MB', 'B', 'MA_p', 'B_n'),\n    ('MB', 'MB', 'MB_p', 'B_n'),\n    ('MB', 'MA', 'B_n', 'MB_n'),\n    ('MB', 'A', 'MB_n', 'MA_n'),\n    \n    # Row 3: prey = MA (med-high)\n    ('MA', 'B', 'MB_p', 'MA_p'),\n    ('MA', 'MB', 'B_p', 'MB_p'),\n    ('MA', 'MA', 'MB_n', 'B_p'),\n    ('MA', 'A', 'MA_n', 'B_p'),\n    \n    # Row 4: prey = A (high)\n    ('A', 'B', 'B_n', 'A_p'),\n    ('A', 'MB', 'MB_n', 'MA_p'),\n    ('A', 'MA', 'MA_n', 'MB_p'),\n    ('A', 'A', 'A_n', 'B_p')\n]\n\n# Add rules to the fuzzy inference system\nfis.add_rules(rules)\nfis.plot_rule_matrix()\n\n# Use fis.export_rules(filename) to save the rules\n# Use fis.import_rules(filename) to import rules\n# Use fis.save(filename) to save the fis entirely\n# Use fis.load(filename) to load a fis"
  },
  {
   "cell_type": "code",
   "execution_count": null,
   "metadata": {},
   "outputs": [],
   "source": "# Create discrete p-fuzzy dynamical system\n# Mode 'absolute': x_{n+1} = x_n + f(x_n) where f is the fuzzy inference output\npfuzzy = PFuzzyDiscrete(\n    fis=fis,\n    mode='absolute',  # x_{n+1} = x_n + f(x_n)\n    state_vars=['prey', 'predator'],\n)\n"
  },
  {
   "cell_type": "code",
   "execution_count": null,
   "metadata": {},
   "outputs": [],
   "source": "# Simulate the predator-prey dynamics\nx0 = {'prey': 50, 'predator': 40}  # Initial conditions\nn_steps = 250  # Number of time steps\n\n# Run simulation\ntrajectory = pfuzzy.simulate(x0=x0, n_steps=n_steps)\n\n# Plot temporal dynamics showing oscillatory behavior\nfig, ax = pfuzzy.plot_trajectory(\n    variables=['prey', 'predator'],\n    figsize=(12, 6),\n    title='Discrete Predator-Prey System',\n    xlabel='Time (steps)',\n    ylabel='Population'\n)\n\nplt.show()"
  },
  {
   "cell_type": "code",
   "execution_count": null,
   "metadata": {},
   "outputs": [],
   "source": "# Visualize the phase space trajectory\n# Shows the relationship between prey and predator populations over time\nfig, ax = pfuzzy.plot_phase_space(\n    'prey', 'predator',\n    figsize=(8, 5),\n    title='Phase Space: Discrete Predator-Prey'\n)\n\nplt.show()"
  },
  {
   "cell_type": "code",
   "execution_count": null,
   "metadata": {},
   "outputs": [],
   "source": "# Compare dynamics for different initial conditions\n# Shows how the system behaves from various starting points\ninitial_conditions = [\n    {'prey': 30, 'predator': 20},\n    {'prey': 50, 'predator': 55},\n    {'prey': 70, 'predator': 30},\n    {'prey': 40, 'predator': 60}\n]\n\ncolors = ['blue', 'red', 'green', 'purple']\n\n# Create figure with two subplots\nfig, (ax1, ax2) = plt.subplots(1, 2, figsize=(16, 6))\n\nfor i, x0 in enumerate(initial_conditions):\n    print(f\"{i+1}. Prey={x0['prey']}, Predators={x0['predator']}\")\n    \n    # Simulate\n    t,traj = pfuzzy.simulate(x0=x0, n_steps=n_steps)\n    time = pfuzzy.time\n    \n    # Plot temporal dynamics\n    ax1.plot(time, traj[:, 0], '--', color=colors[i], alpha=0.5, linewidth=1.5)\n    ax1.plot(time, traj[:, 1], '-', color=colors[i], linewidth=2, \n             label=f\"IC{i+1}: ({x0['prey']}, {x0['predator']})\")\n    \n    # Plot phase space\n    ax2.plot(traj[:, 0], traj[:, 1], color=colors[i], linewidth=2, alpha=0.7)\n    ax2.plot(traj[0, 0], traj[0, 1], 'o', color=colors[i], markersize=10)\n    ax2.plot(traj[-1, 0], traj[-1, 1], 's', color=colors[i], markersize=8)\n\n# Configure temporal plot\nax1.set_xlabel('Time (steps)', fontsize=12)\nax1.set_ylabel('Populations', fontsize=12)\nax1.set_title('Temporal Dynamics (solid line=predator, dashed=prey)', \n              fontsize=12, fontweight='bold')\nax1.legend(loc='best', fontsize=9)\nax1.grid(True, alpha=0.3)\n\n# Configure phase space plot\nax2.set_xlabel('Prey', fontsize=12)\nax2.set_ylabel('Predator', fontsize=12)\nax2.set_title('Phase Space (o=initial, □=final)', fontsize=12, fontweight='bold')\nax2.grid(True, alpha=0.3)\n\nplt.tight_layout()\nplt.show()\n"
  },
  {
   "cell_type": "code",
   "execution_count": null,
   "metadata": {},
   "outputs": [],
   "source": "# Export trajectory data to CSV (optional)\n# Uncomment to save simulation results for further analysis\n# pfuzzy.to_csv('/tmp/predator_prey_discrete.csv')\n\n# print(\"✅ Data exported to: /tmp/predator_prey_discrete.csv\")\n\n# import pandas as pd\n# df = pd.read_csv('/tmp/predator_prey_discrete.csv')\n# print(df.head())"
  }
 ],
 "metadata": {
  "colab": {
   "include_colab_link": true,
   "provenance": []
  },
  "kernelspec": {
   "display_name": "Python (generico)",
   "language": "python",
   "name": "generico"
  },
  "language_info": {
   "codemirror_mode": {
    "name": "ipython",
    "version": 3
   },
   "file_extension": ".py",
   "mimetype": "text/x-python",
   "name": "python",
   "nbconvert_exporter": "python",
   "pygments_lexer": "ipython3",
   "version": "3.11.9"
  }
 },
 "nbformat": 4,
 "nbformat_minor": 0
}