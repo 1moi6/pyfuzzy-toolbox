{
 "cells": [
  {
   "cell_type": "markdown",
   "metadata": {},
   "source": [
    "### P-Fuzzy System: Single Population\n",
    "\n",
    "Population growth model using fuzzy rules.\n",
    "\n",
    "**Discrete model:**\n",
    "$$x_{n+1} = x_n + \\Delta x$$\n",
    "\n",
    "where $\\Delta x$ is determined by fuzzy rules based on current population."
   ]
  },
  {
   "cell_type": "code",
   "execution_count": null,
   "metadata": {},
   "outputs": [],
   "source": [
    "# Install required packages for p-fuzzy dynamics simulation\n",
    "!pip install pyfuzzy-toolbox matplotlib numpy -q"
   ]
  },
  {
   "cell_type": "code",
   "execution_count": null,
   "metadata": {},
   "outputs": [],
   "source": [
    "# Import p-fuzzy classes for discrete/continuous dynamics and Mamdani inference system\n",
    "from fuzzy_systems.dynamics import PFuzzyDiscrete, PFuzzyContinuous\n",
    "from fuzzy_systems.inference import MamdaniSystem\n",
    "import numpy as np\n",
    "import matplotlib.pyplot as plt"
   ]
  },
  {
   "cell_type": "code",
   "execution_count": null,
   "metadata": {},
   "outputs": [],
   "source": [
    "# Create fuzzy system with population size as input and variation as output\n",
    "# Rules model growth dynamics: low population grows fast, high population declines\n",
    "fis = MamdaniSystem(name=\"Population Dynamics\")\n",
    "\n",
    "# Input: populatio size\n",
    "fis.add_input('population_size', (0, 100))\n",
    "fis.add_term('population_size','L','triangular',[0,0,25])\n",
    "fis.add_term('population_size','ML','triangular',[0,25,50])\n",
    "fis.add_term('population_size','M','triangular',[25,50,75])\n",
    "fis.add_term('population_size','MH','triangular',[50,75,100])\n",
    "fis.add_term('population_size','H','triangular',[75,100,100])\n",
    "\n",
    "# Output: variation of population\n",
    "fis.add_output('var_population', (-1, 4))\n",
    "fis.add_term('var_population', 'NL', 'triangular', (-1, 0, 0))\n",
    "fis.add_term('var_population', 'PL', 'triangular', (0, 0, 2))\n",
    "fis.add_term('var_population', 'PM', 'triangular', (0, 2, 4))\n",
    "fis.add_term('var_population', 'PH', 'triangular', (2, 4, 4))\n",
    "\n",
    "# Rules (sintaxe de tupla plana)\n",
    "fis.add_rules([\n",
    "    ('L', 'PL'),\n",
    "    ('ML', 'PM'),\n",
    "    ('M', 'PH'),\n",
    "    ('MH', 'PL'),\n",
    "    ('H', 'NL'),\n",
    "])\n"
   ]
  },
  {
   "cell_type": "code",
   "execution_count": null,
   "metadata": {},
   "outputs": [],
   "source": [
    "# Simulate discrete p-fuzzy dynamics with multiple initial conditions\n",
    "# Mode 'absolute' uses fuzzy output directly: x_{n+1} = x_n + Δx\n",
    "pfuzzy = PFuzzyDiscrete(fis=fis, mode='absolute')\n",
    "\n",
    "# Several initial conditions\n",
    "initial_conditions = [1, 20, 50, 70, 95]\n",
    "colors = ['blue', 'green', 'orange', 'red', 'purple']\n",
    "\n",
    "fig, ax = plt.subplots(figsize=(12, 6))\n",
    "\n",
    "for x0, color in zip(initial_conditions, colors):\n",
    "    t,traj = pfuzzy.simulate(x0={'population_size': x0}, n_steps=50)\n",
    "    ax.plot(t, traj[:, 0], color=color, linewidth=2, label=f'x₀={x0}')\n",
    "\n",
    "ax.set_xlabel('Time steps', fontsize=12)\n",
    "ax.set_ylabel('Population size', fontsize=12)\n",
    "ax.set_title('Discrete Pfuzzy Dynamics', fontsize=13, fontweight='bold')\n",
    "ax.legend()\n",
    "ax.grid(True, alpha=0.3)\n",
    "plt.tight_layout()\n",
    "plt.show()"
   ]
  },
  {
   "cell_type": "code",
   "execution_count": null,
   "metadata": {},
   "outputs": [],
   "source": [
    "# Simulate continuous p-fuzzy dynamics using ODE solver (RK4 method)\n",
    "# Adaptive step size for accurate integration of fuzzy differential equations\n",
    "pfuzzy_cnt = PFuzzyContinuous(fis=fis, mode='absolute')\n",
    "\n",
    "# Several initial conditions for continuous mode\n",
    "initial_conditions = [10, 30, 50, 70, 90]\n",
    "colors = ['blue', 'green', 'orange', 'red', 'purple']\n",
    "\n",
    "fig, ax = plt.subplots(figsize=(12, 6))\n",
    "\n",
    "for x0, color in zip(initial_conditions, colors):\n",
    "    t,traj = pfuzzy_cnt.simulate(x0={'population': x0}, t_span=(0, 20), adaptive=True)\n",
    "    ax.plot(t, traj[:, 0], color=color, linewidth=2, label=f'x₀={x0}')\n",
    "\n",
    "ax.set_xlabel('Time', fontsize=12)\n",
    "ax.set_ylabel('Population', fontsize=12)\n",
    "ax.set_title('Continuous p-Fuzzy Population Growth (RK4)', fontsize=13, fontweight='bold')\n",
    "ax.legend()\n",
    "ax.grid(True, alpha=0.3)\n",
    "plt.tight_layout()\n",
    "plt.show()"
   ]
  },
  {
   "cell_type": "markdown",
   "metadata": {},
   "source": [
    "### Custom dynamics"
   ]
  },
  {
   "cell_type": "code",
   "execution_count": null,
   "metadata": {},
   "outputs": [],
   "source": [
    "# Define custom dynamics functions to model logistic-like growth\n",
    "# Discrete: x_{n+1} = x_n + 0.05*x_n*f(x_n), Continuous: dx/dt = 0.05*x*f(x)\n",
    "def my_dynamics_discrete(state, output_fis):\n",
    "    \"\"\"Simple and intuitive function for discrete dynamics\n",
    "\n",
    "    Implements the difference equation: x_{n+1} = x_n + 0.05 * x_n * f(x_n)\n",
    "    where f(x_n) is the fuzzy inference system output\n",
    "\n",
    "    Args:\n",
    "        state: Current state [x_n]\n",
    "        output_fis: Fuzzy system output (population variation)\n",
    "\n",
    "    Returns:\n",
    "        Next state [x_{n+1}]\n",
    "    \"\"\"\n",
    "    x = state[0]\n",
    "    dx =  output_fis[0]\n",
    "    return [x + 0.05*x*dx]\n",
    "\n",
    "def my_dynamics_continuous(state, output_fis):\n",
    "    \"\"\"Simple and intuitive function for continuous dynamics\n",
    "\n",
    "    Implements the differential equation: dx/dt = 0.05 * x * f(x)\n",
    "    where f(x) is the fuzzy inference system output\n",
    "\n",
    "    Args:\n",
    "        state: Current state [x]\n",
    "        output_fis: Fuzzy system output (population variation)\n",
    "\n",
    "    Returns:\n",
    "        Derivative [dx/dt]\n",
    "    \"\"\"\n",
    "    x = state[0]\n",
    "    dx =  output_fis[0]\n",
    "    return [0.05*x*dx]"
   ]
  },
  {
   "cell_type": "code",
   "execution_count": null,
   "metadata": {},
   "outputs": [],
   "source": [
    "# Simulate with custom dynamics function in 'custom' mode\n",
    "# This allows more complex interaction between state and fuzzy output\n",
    "pfuzzy = PFuzzyDiscrete(fis=fis, dynamic_function=my_dynamics_discrete,mode='custom')\n",
    "\n",
    "# several initial conditions\n",
    "initial_conditions = [1, 20, 50, 70, 95]\n",
    "colors = ['blue', 'green', 'orange', 'red', 'purple']\n",
    "\n",
    "fig, ax = plt.subplots(figsize=(12, 6))\n",
    "\n",
    "for x0, color in zip(initial_conditions, colors):\n",
    "    t,traj = pfuzzy.simulate(x0={'population_size': x0}, n_steps=50)\n",
    "    ax.plot(t, traj[:, 0], color=color, linewidth=2, label=f'x₀={x0}')\n",
    "\n",
    "ax.set_xlabel('Time steps', fontsize=12)\n",
    "ax.set_ylabel('Population size', fontsize=12)\n",
    "ax.set_title('Discrete Pfuzzy Dynamics', fontsize=13, fontweight='bold')\n",
    "ax.legend()\n",
    "ax.grid(True, alpha=0.3)\n",
    "plt.tight_layout()\n",
    "plt.show()"
   ]
  }
 ],
 "metadata": {
  "kernelspec": {
   "display_name": "Python (generico)",
   "language": "python",
   "name": "generico"
  },
  "language_info": {
   "codemirror_mode": {
    "name": "ipython",
    "version": 3
   },
   "file_extension": ".py",
   "mimetype": "text/x-python",
   "name": "python",
   "nbconvert_exporter": "python",
   "pygments_lexer": "ipython3",
   "version": "3.11.9"
  }
 },
 "nbformat": 4,
 "nbformat_minor": 4
}
