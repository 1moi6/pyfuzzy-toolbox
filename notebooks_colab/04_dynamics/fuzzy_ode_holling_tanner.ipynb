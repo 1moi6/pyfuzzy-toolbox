{
 "cells": [
  {
   "cell_type": "code",
   "execution_count": null,
   "id": "df012d38",
   "metadata": {},
   "outputs": [],
   "source": "\"\"\"\nHolling-Tanner Model with FUZZY Initial Conditions\n=====================================================\n\nTests scenarios with fuzzy prey and predators\nin cases WITH and WITHOUT limit cycles.\n\nHolling-Tanner Model:\n    dx/dt = r * x * (1 - x/K) - (a*x*y) / (b + x)\n    dy/dt = c * y*(1-d*y/x)\nScenarios:\n    1. WITH cycles + Fuzzy Prey and Predators\n    2. WITHOUT cycles + Fuzzy Prey and Predators\n\"\"\"\n\n\nimport numpy as np\nimport matplotlib.pyplot as plt\nimport warnings\n\n# Suppress scipy warnings for cleaner output\nwarnings.filterwarnings('ignore', category=UserWarning)\nwarnings.filterwarnings('ignore', category=RuntimeWarning)\n\n\nimport sys\nimport os\n\n# Add paths to import fuzzy_systems module\nsys.path.insert(0, os.getcwd())\nsys.path.insert(1, os.path.abspath('../..'))\n\nfrom fuzzy_systems.dynamics.fuzzy_ode import FuzzyODESolver, FuzzyNumber"
  },
  {
   "cell_type": "code",
   "execution_count": null,
   "id": "88b576da",
   "metadata": {},
   "outputs": [],
   "source": "# ============================================================================\n# HOLLING-TANNER MODEL\n# ============================================================================\n\ndef holling_tanner_model(t, z, r, K, m, d, a, b):\n    \"\"\"\n    Holling-Tanner predator-prey model.\n\n    Arguments:\n        t: Time (not used)\n        z: Vector [x, y] (prey, predator)\n        r: Prey growth rate\n        K: Prey carrying capacity\n        m: Maximum predation rate\n        d: Saturation density\n        a: Conversion efficiency\n        b: Predator mortality rate\n\n    Returns:\n        dy/dt = [dx/dt, dy/dt]\n    \"\"\"\n    x, y = z\n\n    # Model equations\n    dx_dt = r * x * (1 - x/K) - (m*x*y) / (d + x)\n    dy_dt = a * y*(1-b*y/x)\n\n    return np.array([dx_dt, dy_dt])\n\n\n# ============================================================================\n# PARAMETER SETS\n# ============================================================================\n\n# Case 1: WITHOUT cycles (stable equilibrium)\nparams_sem_ciclos = {\n    'r': 0.2,\n    'K': 100.0,\n    'm': 0.03,\n    'd': 20.0,\n    'a': 0.02,\n    'b': 0.155\n}\n\n# Case 2: WITH cycles (persistent oscillations)\nparams_com_ciclos = {\n    'r': 0.2,\n    'K': 100.0,\n    'm': 0.03,\n    'd': 20.0,\n    'a': 0.02,\n    'b': 0.12\n}"
  },
  {
   "cell_type": "code",
   "execution_count": null,
   "id": "ae24f1fa",
   "metadata": {},
   "outputs": [],
   "source": "# ============================================================================\n# SCENARIO 1: WITHOUT CYCLES + FUZZY INITIAL CONDITIONS\n# ============================================================================\n\n# Time span for simulation\nt_sim = (0, 700)\n\n# Fuzzy initial conditions: prey centered at 40 ± 5, predator at 245 ± 5\nx0_fuzzy = FuzzyNumber.triangular(center=40, spread=5)\ny0_fuzzy = FuzzyNumber.triangular(center=245, spread=5)\n\n# Create solver with parameters for stable equilibrium (no cycles)\nsolver = FuzzyODESolver(\n    ode_func=holling_tanner_model,\n    t_span=t_sim,\n    initial_condition=[x0_fuzzy, y0_fuzzy],\n    params=params_sem_ciclos,\n    n_alpha_cuts=20,\n)\n\n# Solve using Monte Carlo method with 20000 samples\nsol = solver.solve(method='monte_carlo', n_samples=20000, verbose=True)\nsol.plot()"
  },
  {
   "cell_type": "code",
   "execution_count": null,
   "id": "41a07637",
   "metadata": {},
   "outputs": [],
   "source": "# ============================================================================\n# SCENARIO 2: WITH CYCLES + FUZZY INITIAL CONDITIONS\n# ============================================================================\n\n# Time span for simulation\nt_sim = (0, 700)\n\n# Fuzzy initial conditions: prey centered at 40 ± 5, predator at 245 ± 5\nx0_fuzzy = FuzzyNumber.triangular(center=40, spread=5)\ny0_fuzzy = FuzzyNumber.triangular(center=245, spread=5)\n\n# Create solver with parameters for persistent oscillations (with cycles)\nsolver = FuzzyODESolver(\n    ode_func=holling_tanner_model,\n    t_span=t_sim,\n    initial_condition=[x0_fuzzy, y0_fuzzy],\n    params=params_com_ciclos,\n    n_alpha_cuts=20,\n)\n\n# Solve using Monte Carlo method with 20000 samples\nsol = solver.solve(method='monte_carlo', n_samples=20000, verbose=True)\nsol.plot()"
  }
 ],
 "metadata": {
  "kernelspec": {
   "display_name": "generico (3.11.9)",
   "language": "python",
   "name": "python3"
  },
  "language_info": {
   "codemirror_mode": {
    "name": "ipython",
    "version": 3
   },
   "file_extension": ".py",
   "mimetype": "text/x-python",
   "name": "python",
   "nbconvert_exporter": "python",
   "pygments_lexer": "ipython3",
   "version": "3.11.9"
  }
 },
 "nbformat": 4,
 "nbformat_minor": 5
}