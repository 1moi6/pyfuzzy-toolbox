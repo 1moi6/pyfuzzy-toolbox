{
 "cells": [
  {
   "cell_type": "code",
   "execution_count": null,
   "id": "27cbb7f7",
   "metadata": {},
   "outputs": [],
   "source": [
    "import sys\n",
    "import os\n",
    "\n",
    "import numpy as np\n",
    "import matplotlib.pyplot as plt\n",
    "\n",
    "# Importa o módulo fuzzy_ode do local correto\n",
    "from fuzzy_systems.dynamics.fuzzy_ode import FuzzyODESolver, FuzzyNumber\n",
    "\n",
    "# ============================================================================\n",
    "# MODELO LOGÍSTICO\n",
    "# ============================================================================\n",
    "\n",
    "def logistic_model(t, y, r, K):\n",
    "    \"\"\"\n",
    "    Modelo logístico: dy/dt = r * y * (1 - y/K)\n",
    "\n",
    "    Argumentos:\n",
    "        t: Tempo (não usado)\n",
    "        y: Vetor de estado [y]\n",
    "        r: Taxa de crescimento\n",
    "        K: Capacidade suporte (carrying capacity)\n",
    "\n",
    "    Retorna:\n",
    "        dy/dt\n",
    "    \"\"\"\n",
    "    return r * y * (1 - y / K)"
   ]
  },
  {
   "cell_type": "code",
   "execution_count": null,
   "id": "f223dd35",
   "metadata": {},
   "outputs": [],
   "source": [
    "# ========== CENÁRIO A: Condição Inicial Fuzzy ==========\n",
    "t_span = (0, 50)      # Tempo: 0 a 50\n",
    "r_base = 0.2       # Taxa de crescimento\n",
    "K_base = 100  \n",
    "\n",
    "y0_fuzzy_a = FuzzyNumber.triangular(center=10, spread=4)\n",
    "\n",
    "solver_a = FuzzyODESolver(\n",
    "    ode_func=logistic_model,\n",
    "    t_span=t_span,\n",
    "    initial_condition=[y0_fuzzy_a],\n",
    "    params={'r': r_base, 'K': K_base},\n",
    "    n_alpha_cuts=25,\n",
    ")\n",
    "\n",
    "sol_a = solver_a.solve(method='monte_carlo',verbose=True)\n",
    "# sol_a = solver_a.solve(method='standard',n_grid_points=100,verbose=True)\n",
    "sol_a.plot()"
   ]
  },
  {
   "cell_type": "code",
   "execution_count": null,
   "id": "393227f7",
   "metadata": {},
   "outputs": [],
   "source": [
    "K_fuzzy_b = FuzzyNumber.triangular(center=500, spread=100)\n",
    "\n",
    "solver_b = FuzzyODESolver(\n",
    "    ode_func=logistic_model,\n",
    "    t_span=t_span,\n",
    "    initial_condition=[10.0],\n",
    "    params={'r': r_base, 'K': K_fuzzy_b},\n",
    "    n_alpha_cuts=25,\n",
    ")\n",
    "\n",
    "sol_b = solver_b.solve(method='monte_carlo')\n",
    "sol_b.plot()"
   ]
  },
  {
   "cell_type": "code",
   "execution_count": null,
   "id": "3fb78a1a",
   "metadata": {},
   "outputs": [],
   "source": [
    "\n",
    "r_fuzzy_c = FuzzyNumber.triangular(center=0.2, spread=0.02)\n",
    "\n",
    "solver_c = FuzzyODESolver(\n",
    "    ode_func=logistic_model,\n",
    "    t_span=t_span,\n",
    "    initial_condition=[10.0],\n",
    "    params={'r': r_fuzzy_c, 'K': K_base},\n",
    "    n_alpha_cuts=25,\n",
    ")\n",
    "\n",
    "sol_c = solver_c.solve(method='monte_carlo',verbose=True)\n",
    "sol_c.plot()\n"
   ]
  },
  {
   "cell_type": "code",
   "execution_count": null,
   "id": "fa2f2bc1",
   "metadata": {},
   "outputs": [],
   "source": [
    "y0_fuzzy_d = FuzzyNumber.triangular(center=10, spread=4)\n",
    "r_fuzzy_d = FuzzyNumber.triangular(center=0.2, spread=0.02)\n",
    "K_fuzzy_d = FuzzyNumber.triangular(center=500, spread=100)\n",
    "\n",
    "solver_d = FuzzyODESolver(\n",
    "    ode_func=logistic_model,\n",
    "    t_span=t_span,\n",
    "    initial_condition=[y0_fuzzy_d],\n",
    "    params={'r': r_fuzzy_d, 'K': K_fuzzy_d},\n",
    "    n_alpha_cuts=25,\n",
    ")\n",
    "\n",
    "sol_d = solver_d.solve(method='monte_carlo',verbose=True,n_samples=10000)\n",
    "sol_d.plot()"
   ]
  },
  {
   "cell_type": "code",
   "execution_count": null,
   "id": "f3550e1a",
   "metadata": {},
   "outputs": [],
   "source": [
    "fig, axes = plt.subplots(2, 2, figsize=(14, 10))\n",
    "axes = axes.flatten()\n",
    "\n",
    "scenarios = [\n",
    "    (sol_a, 'Cenário A: y₀ Fuzzy'),\n",
    "    (sol_b, 'Cenário B: K Fuzzy'),\n",
    "    (sol_c, 'Cenário C: r Fuzzy'),\n",
    "    (sol_d, 'Cenário D: Todos Fuzzy')\n",
    "]\n",
    "\n",
    "for ax, (sol, title) in zip(axes, scenarios):\n",
    "    cmap = plt.cm.Blues\n",
    "    for i, alpha in enumerate(sol.alphas):\n",
    "        y_min = sol.y_min[i, 0, :]\n",
    "        y_max = sol.y_max[i, 0, :]\n",
    "        color = cmap(0.3 + 0.7 * alpha)\n",
    "        ax.fill_between(sol.t, y_min, y_max, alpha=0.3, color=color)\n",
    "\n",
    "    ax.set_xlabel('Tempo (t)', fontsize=11)\n",
    "    ax.set_ylabel('y(t)', fontsize=11)\n",
    "    ax.set_title(title, fontweight='bold', fontsize=12)\n",
    "    ax.grid(True, alpha=0.3)\n",
    "\n",
    "plt.tight_layout()\n",
    "# plt.savefig('fuzzy_ode_logistic_scenarios.png', dpi=150, bbox_inches='tight')\n"
   ]
  }
 ],
 "metadata": {
  "kernelspec": {
   "display_name": "Python (generico)",
   "language": "python",
   "name": "generico"
  },
  "language_info": {
   "codemirror_mode": {
    "name": "ipython",
    "version": 3
   },
   "file_extension": ".py",
   "mimetype": "text/x-python",
   "name": "python",
   "nbconvert_exporter": "python",
   "pygments_lexer": "ipython3",
   "version": "3.11.9"
  }
 },
 "nbformat": 4,
 "nbformat_minor": 5
}
