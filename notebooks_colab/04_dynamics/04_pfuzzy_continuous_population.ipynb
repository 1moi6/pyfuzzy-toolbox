{
 "cells": [
  {
   "cell_type": "markdown",
   "metadata": {},
   "source": [
    "<a href=\"https://colab.research.google.com/github/1moi6/pyfuzzy-toolbox/blob/main/notebooks_colab/04_dynamics/04_pfuzzy_continuous_population.ipynb\" target=\"_parent\"><img src=\"https://colab.research.google.com/assets/colab-badge.svg\" alt=\"Open In Colab\"/></a>"
   ]
  },
  {
   "cell_type": "markdown",
   "metadata": {},
   "source": [
    "# Sistema p-Fuzzy Contínuo: População Única\n",
    "\n",
    "Modelo de crescimento populacional usando regras fuzzy.\n",
    "\n",
    "**Modelo contínuo:**\n",
    "$$\\frac{dx}{dt} = f(x)$$\n",
    "\n",
    "onde $f(x)$ é determinado por regras fuzzy baseadas na população atual."
   ]
  },
  {
   "cell_type": "code",
   "execution_count": null,
   "metadata": {},
   "outputs": [],
   "source": [
    "!pip install pyfuzzy-toolbox matplotlib numpy -q"
   ]
  },
  {
   "cell_type": "code",
   "execution_count": null,
   "metadata": {},
   "outputs": [],
   "source": [
    "import fuzzy_systems as fs\n",
    "import numpy as np\n",
    "import matplotlib.pyplot as plt"
   ]
  },
  {
   "cell_type": "markdown",
   "metadata": {},
   "source": [
    "## Sistema de Inferência Fuzzy\n",
    "\n",
    "Regras baseadas em crescimento logístico:\n",
    "- População baixa → crescimento forte\n",
    "- População média → crescimento moderado\n",
    "- População alta → declínio (competição/recursos)"
   ]
  },
  {
   "cell_type": "code",
   "execution_count": null,
   "metadata": {},
   "outputs": [],
   "source": [
    "fis = fs.MamdaniSystem(name=\"Population\")\n",
    "\n",
    "# Entrada: população atual\n",
    "fis.add_input('population', (0, 100))\n",
    "fis.add_term('population', 'baixa', 'gaussian', (10, 10))\n",
    "fis.add_term('population', 'media', 'gaussian', (50, 12))\n",
    "fis.add_term('population', 'alta', 'gaussian', (90, 10))\n",
    "\n",
    "# Saída: taxa de variação da população (dx/dt)\n",
    "fis.add_output('d_population', (-5, 5))\n",
    "fis.add_term('d_population', 'declinio', 'triangular', (-5, -2.5, 0))\n",
    "fis.add_term('d_population', 'estavel', 'triangular', (-1, 0, 1))\n",
    "fis.add_term('d_population', 'crescimento', 'triangular', (0, 2.5, 5))\n",
    "\n",
    "# Regras (sintaxe de tupla plana)\n",
    "fis.add_rules([\n",
    "    ('baixa', 'crescimento'),\n",
    "    ('media', 'estavel'),\n",
    "    ('alta', 'declinio')\n",
    "])"
   ]
  },
  {
   "cell_type": "markdown",
   "metadata": {},
   "source": [
    "## Simulação"
   ]
  },
  {
   "cell_type": "code",
   "execution_count": null,
   "metadata": {},
   "outputs": [],
   "source": [
    "pfuzzy = fs.dynamics.PFuzzyContinuous(fis=fis, mode='absolute', method='rk4')\n",
    "\n",
    "# Diferentes condições iniciais\n",
    "initial_conditions = [10, 30, 50, 70, 90]\n",
    "colors = ['blue', 'green', 'orange', 'red', 'purple']\n",
    "\n",
    "fig, ax = plt.subplots(figsize=(12, 6))\n",
    "\n",
    "for x0, color in zip(initial_conditions, colors):\n",
    "    traj = pfuzzy.simulate(x0={'population': x0}, t_span=(0, 20), dt=0.01)\n",
    "    ax.plot(pfuzzy.time, traj[:, 0], color=color, linewidth=2, label=f'x₀={x0}')\n",
    "\n",
    "ax.set_xlabel('Tempo', fontsize=12)\n",
    "ax.set_ylabel('População', fontsize=12)\n",
    "ax.set_title('Crescimento Populacional p-Fuzzy Contínuo (RK4)', fontsize=13, fontweight='bold')\n",
    "ax.legend()\n",
    "ax.grid(True, alpha=0.3)\n",
    "plt.tight_layout()\n",
    "plt.show()"
   ]
  }
 ],
 "metadata": {
  "kernelspec": {
   "display_name": "Python 3",
   "language": "python",
   "name": "python3"
  },
  "language_info": {
   "name": "python",
   "version": "3.8.0"
  }
 },
 "nbformat": 4,
 "nbformat_minor": 4
}
