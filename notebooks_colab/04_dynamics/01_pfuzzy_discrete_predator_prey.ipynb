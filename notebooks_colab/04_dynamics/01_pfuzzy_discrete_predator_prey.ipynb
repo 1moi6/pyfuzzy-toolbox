{
 "cells": [
  {
   "cell_type": "markdown",
   "metadata": {
    "colab_type": "text",
    "id": "view-in-github"
   },
   "source": [
    "<a href=\"https://colab.research.google.com/github/1moi6/pyfuzzy-toolbox/blob/main/notebooks_colab/04_dynamics/01_pfuzzy_discrete_predator_prey.ipynb\" target=\"_parent\"><img src=\"https://colab.research.google.com/assets/colab-badge.svg\" alt=\"Open In Colab\"/></a>"
   ]
  },
  {
   "cell_type": "markdown",
   "metadata": {},
   "source": [
    "# Sistema p-Fuzzy Discreto: Predador-Presa\n",
    "\n",
    "## 📘 Introdução\n",
    "\n",
    "Este notebook implementa um **sistema dinâmico p-fuzzy discreto** para modelar a interação entre **presas e predadores**, baseado no exemplo do livro:\n",
    "\n",
    "> Barros, L. C., Bassanezi, R. C., & Lodwick, W. A. (2017).  \n",
    "> *A First Course in Fuzzy Logic, Fuzzy Dynamical Systems, and Biomathematics*\n",
    "\n",
    "---\n",
    "\n",
    "## 🎯 O que é um Sistema p-Fuzzy?\n",
    "\n",
    "Um **sistema p-fuzzy** é um sistema dinâmico onde a função de evolução é definida por **regras fuzzy** ao invés de equações matemáticas explícitas.\n",
    "\n",
    "### Sistema Discreto:\n",
    "$$x_{n+1} = x_n + f(x_n)$$\n",
    "\n",
    "Onde $f(x_n)$ é determinado por um **Sistema de Inferência Fuzzy (FIS)**.\n",
    "\n",
    "---\n",
    "\n",
    "## 🦊 Modelo Predador-Presa\n",
    "\n",
    "O modelo clássico de Lotka-Volterra descreve a interação entre duas espécies:\n",
    "- **Presas** (população x₁)\n",
    "- **Predadores** (população x₂)\n",
    "\n",
    "### Regras Fuzzy do Livro (Figura 4.15):\n",
    "\n",
    "A base de regras considera **4 níveis linguísticos** para cada espécie:\n",
    "- **B** (Baixa)\n",
    "- **MB** (Média-Baixa)  \n",
    "- **MA** (Média-Alta)\n",
    "- **A** (Alta)\n",
    "\n",
    "E define **16 regras** que determinam a variação populacional.\n",
    "\n",
    "---\n",
    "\n",
    "## 🚀 Vamos começar!"
   ]
  },
  {
   "cell_type": "markdown",
   "metadata": {},
   "source": [
    "## Instalação e Imports"
   ]
  },
  {
   "cell_type": "code",
   "execution_count": null,
   "metadata": {},
   "outputs": [],
   "source": [
    "# Instalar pyfuzzy-toolbox\n",
    "!pip install pyfuzzy-toolbox matplotlib numpy -q"
   ]
  },
  {
   "cell_type": "code",
   "execution_count": null,
   "metadata": {},
   "outputs": [],
   "source": [
    "import fuzzy_systems as fs\n",
    "import numpy as np\n",
    "import matplotlib.pyplot as plt\n",
    "\n",
    "print(\"✅ Bibliotecas importadas com sucesso!\")"
   ]
  },
  {
   "cell_type": "markdown",
   "metadata": {},
   "source": [
    "---\n",
    "\n",
    "## 1️⃣ Criar o Sistema de Inferência Fuzzy\n",
    "\n",
    "Vamos criar um FIS que implementa as **16 regras fuzzy** do livro."
   ]
  },
  {
   "cell_type": "code",
   "execution_count": null,
   "metadata": {},
   "outputs": [],
   "source": [
    "# Criar sistema Mamdani para predador-presa\n",
    "fis = fs.MamdaniSystem(name=\"Predador-Presa Discreto\")\n",
    "\n",
    "# ========================================\n",
    "# ENTRADAS: Presas (x) e Predadores (y)\n",
    "# ========================================\n",
    "\n",
    "# Universo de discurso: [0, 100] para ambas\n",
    "fis.add_input('prey', (0, 100))\n",
    "fis.add_input('predator', (0, 100))\n",
    "\n",
    "# Termos linguísticos (4 níveis como no livro)\n",
    "for var in ['prey', 'predator']:\n",
    "    fis.add_term(var, 'B', 'gaussian', (12.5, 8))    # Baixa\n",
    "    fis.add_term(var, 'MB', 'gaussian', (37.5, 8))   # Média-Baixa\n",
    "    fis.add_term(var, 'MA', 'gaussian', (62.5, 8))   # Média-Alta\n",
    "    fis.add_term(var, 'A', 'gaussian', (87.5, 8))    # Alta\n",
    "\n",
    "print(\"✅ Variáveis de entrada criadas:\")\n",
    "print(f\"   • prey: 4 termos (B, MB, MA, A)\")\n",
    "print(f\"   • predator: 4 termos (B, MB, MA, A)\")"
   ]
  },
  {
   "cell_type": "code",
   "execution_count": null,
   "metadata": {},
   "outputs": [],
   "source": [
    "# ========================================\n",
    "# SAÍDAS: Variação de Presas e Predadores\n",
    "# ========================================\n",
    "\n",
    "# Saída 1: Δprey (variação de presas)\n",
    "fis.add_output('d_prey', (-30, 30))\n",
    "fis.add_term('d_prey', 'declinio_forte', 'triangular', (-30, -30, -15))\n",
    "fis.add_term('d_prey', 'declinio', 'triangular', (-20, -10, 0))\n",
    "fis.add_term('d_prey', 'estavel', 'triangular', (-5, 0, 5))\n",
    "fis.add_term('d_prey', 'crescimento', 'triangular', (0, 10, 20))\n",
    "fis.add_term('d_prey', 'crescimento_forte', 'triangular', (15, 30, 30))\n",
    "\n",
    "# Saída 2: Δpredator (variação de predadores)\n",
    "fis.add_output('d_predator', (-30, 30))\n",
    "fis.add_term('d_predator', 'declinio_forte', 'triangular', (-30, -30, -15))\n",
    "fis.add_term('d_predator', 'declinio', 'triangular', (-20, -10, 0))\n",
    "fis.add_term('d_predator', 'estavel', 'triangular', (-5, 0, 5))\n",
    "fis.add_term('d_predator', 'crescimento', 'triangular', (0, 10, 20))\n",
    "fis.add_term('d_predator', 'crescimento_forte', 'triangular', (15, 30, 30))\n",
    "\n",
    "print(\"\\n✅ Variáveis de saída criadas:\")\n",
    "print(f\"   • prey (Δx): 5 termos\")\n",
    "print(f\"   • predator (Δy): 5 termos\")"
   ]
  },
  {
   "cell_type": "markdown",
   "metadata": {},
   "source": [
    "### Base de Regras (16 regras do livro)\n",
    "\n",
    "As regras implementam a lógica:\n",
    "- **Presas:**\n",
    "  - Crescem quando há poucos predadores\n",
    "  - Decrescem quando há muitos predadores\n",
    "  \n",
    "- **Predadores:**\n",
    "  - Crescem quando há muitas presas (alimento)\n",
    "  - Decrescem quando há poucas presas"
   ]
  },
  {
   "cell_type": "code",
   "execution_count": null,
   "metadata": {},
   "outputs": [],
   "source": "# ========================================\n# BASE DE REGRAS (16 regras)\n# ========================================\n\n# Definir regras usando sintaxe de tupla plana\n# Formato: ('prey_term', 'predator_term', 'd_prey_term', 'd_predator_term')\n\nrules = [\n    # Linha 1: prey = B (baixa)\n    ('B', 'B', 'crescimento', 'declinio'),\n    ('B', 'MB', 'declinio', 'declinio'),\n    ('B', 'MA', 'declinio_forte', 'declinio_forte'),\n    ('B', 'A', 'declinio_forte', 'declinio_forte'),\n    \n    # Linha 2: prey = MB (média-baixa)\n    ('MB', 'B', 'crescimento', 'crescimento'),\n    ('MB', 'MB', 'estavel', 'estavel'),\n    ('MB', 'MA', 'declinio', 'declinio'),\n    ('MB', 'A', 'declinio_forte', 'declinio_forte'),\n    \n    # Linha 3: prey = MA (média-alta)\n    ('MA', 'B', 'crescimento_forte', 'crescimento'),\n    ('MA', 'MB', 'crescimento', 'crescimento'),\n    ('MA', 'MA', 'estavel', 'estavel'),\n    ('MA', 'A', 'declinio', 'estavel'),\n    \n    # Linha 4: prey = A (alta)\n    ('A', 'B', 'crescimento_forte', 'crescimento_forte'),\n    ('A', 'MB', 'crescimento', 'crescimento_forte'),\n    ('A', 'MA', 'estavel', 'crescimento'),\n    ('A', 'A', 'estavel', 'estavel')\n]\n\n# Adicionar regras ao FIS usando a nova sintaxe\nfis.add_rules(rules)\n\nprint(f\"\\n✅ Base de regras criada: {len(fis.rule_base.rules)} regras\")\nprint(\"\\n📋 Exemplo de regras:\")\nprint(\"   1. SE prey=B E predator=B ENTÃO Δprey=crescimento, Δpredator=declinio\")\nprint(\"   2. SE prey=MB E predator=MB ENTÃO Δprey=estavel, Δpredator=estavel\")\nprint(\"   3. SE prey=A E predator=B ENTÃO Δprey=crescimento_forte, Δpredator=crescimento_forte\")"
  },
  {
   "cell_type": "markdown",
   "metadata": {},
   "source": [
    "---\n",
    "\n",
    "## 2️⃣ Criar o Sistema p-Fuzzy Discreto\n",
    "\n",
    "Agora vamos criar o sistema dinâmico discreto usando `PFuzzyDiscrete`."
   ]
  },
  {
   "cell_type": "code",
   "execution_count": null,
   "metadata": {},
   "outputs": [],
   "source": [
    "# Criar sistema p-fuzzy discreto\n",
    "pfuzzy = fs.dynamics.PFuzzyDiscrete(\n",
    "    fis=fis,\n",
    "    mode='absolute',  # x_{n+1} = x_n + f(x_n)\n",
    "    state_vars=['prey', 'predator'],\n",
    "    dt=1.0  # Passo de tempo (1 unidade)\n",
    ")\n",
    "\n",
    "print(\"✅ Sistema p-Fuzzy Discreto criado!\")\n",
    "print(f\"\\n📊 Configuração:\")\n",
    "print(f\"   • Modo: absolute (x_n+1 = x_n + Δx)\")\n",
    "print(f\"   • Variáveis de estado: {pfuzzy.state_vars}\")\n",
    "print(f\"   • Passo de tempo: dt = {pfuzzy.dt}\")"
   ]
  },
  {
   "cell_type": "markdown",
   "metadata": {},
   "source": [
    "---\n",
    "\n",
    "## 3️⃣ Simulação do Sistema\n",
    "\n",
    "Vamos simular o sistema com diferentes condições iniciais."
   ]
  },
  {
   "cell_type": "code",
   "execution_count": null,
   "metadata": {},
   "outputs": [],
   "source": [
    "# Condições iniciais (mesmas do livro)\n",
    "x0 = {'prey': 50, 'predator': 40}\n",
    "\n",
    "# Número de passos de tempo\n",
    "n_steps = 100\n",
    "\n",
    "print(f\"🚀 Iniciando simulação...\")\n",
    "print(f\"\\n📊 Condições iniciais:\")\n",
    "print(f\"   • Presas (x₁): {x0['prey']}\")\n",
    "print(f\"   • Predadores (x₂): {x0['predator']}\")\n",
    "print(f\"\\n⏱️  Simulando {n_steps} passos de tempo...\")\n",
    "\n",
    "# Simular\n",
    "trajectory = pfuzzy.simulate(x0=x0, n_steps=n_steps)\n",
    "\n",
    "print(f\"\\n✅ Simulação concluída!\")\n",
    "print(f\"\\n📈 Estatísticas finais:\")\n",
    "print(f\"   Presas:\")\n",
    "print(f\"      • Inicial: {trajectory[0, 0]:.2f}\")\n",
    "print(f\"      • Final: {trajectory[-1, 0]:.2f}\")\n",
    "print(f\"      • Mínimo: {trajectory[:, 0].min():.2f}\")\n",
    "print(f\"      • Máximo: {trajectory[:, 0].max():.2f}\")\n",
    "print(f\"\\n   Predadores:\")\n",
    "print(f\"      • Inicial: {trajectory[0, 1]:.2f}\")\n",
    "print(f\"      • Final: {trajectory[-1, 1]:.2f}\")\n",
    "print(f\"      • Mínimo: {trajectory[:, 1].min():.2f}\")\n",
    "print(f\"      • Máximo: {trajectory[:, 1].max():.2f}\")"
   ]
  },
  {
   "cell_type": "markdown",
   "metadata": {},
   "source": [
    "---\n",
    "\n",
    "## 4️⃣ Visualizações\n",
    "\n",
    "### 📊 Dinâmica Temporal"
   ]
  },
  {
   "cell_type": "code",
   "execution_count": null,
   "metadata": {},
   "outputs": [],
   "source": [
    "# Plot da dinâmica temporal\n",
    "fig, ax = pfuzzy.plot_trajectory(\n",
    "    variables=['prey', 'predator'],\n",
    "    figsize=(12, 6),\n",
    "    title='Sistema Predador-Presa Discreto',\n",
    "    xlabel='Tempo (passos)',\n",
    "    ylabel='População'\n",
    ")\n",
    "\n",
    "plt.show()"
   ]
  },
  {
   "cell_type": "markdown",
   "metadata": {},
   "source": [
    "### 🔄 Espaço de Fase\n",
    "\n",
    "O **espaço de fase** mostra a trajetória no plano (presas × predadores)."
   ]
  },
  {
   "cell_type": "code",
   "execution_count": null,
   "metadata": {},
   "outputs": [],
   "source": [
    "# Plot do espaço de fase\n",
    "fig, ax = pfuzzy.plot_phase_space(\n",
    "    'prey', 'predator',\n",
    "    figsize=(10, 10),\n",
    "    title='Espaço de Fase: Predador-Presa (Discreto)'\n",
    ")\n",
    "\n",
    "plt.show()"
   ]
  },
  {
   "cell_type": "markdown",
   "metadata": {},
   "source": [
    "---\n",
    "\n",
    "## 5️⃣ Múltiplas Condições Iniciais\n",
    "\n",
    "Vamos testar diferentes populações iniciais para observar o comportamento do sistema."
   ]
  },
  {
   "cell_type": "code",
   "execution_count": null,
   "metadata": {},
   "outputs": [],
   "source": [
    "# Diferentes condições iniciais\n",
    "initial_conditions = [\n",
    "    {'prey': 30, 'predator': 20},\n",
    "    {'prey': 50, 'predator': 50},\n",
    "    {'prey': 70, 'predator': 30},\n",
    "    {'prey': 40, 'predator': 60}\n",
    "]\n",
    "\n",
    "colors = ['blue', 'red', 'green', 'purple']\n",
    "\n",
    "# Criar figura\n",
    "fig, (ax1, ax2) = plt.subplots(1, 2, figsize=(16, 6))\n",
    "\n",
    "print(\"🔄 Simulando múltiplas condições iniciais...\\n\")\n",
    "\n",
    "for i, x0 in enumerate(initial_conditions):\n",
    "    print(f\"{i+1}. Presas={x0['prey']}, Predadores={x0['predator']}\")\n",
    "    \n",
    "    # Simular\n",
    "    traj = pfuzzy.simulate(x0=x0, n_steps=100)\n",
    "    time = pfuzzy.time\n",
    "    \n",
    "    # Plot temporal\n",
    "    ax1.plot(time, traj[:, 0], '--', color=colors[i], alpha=0.5, linewidth=1.5)\n",
    "    ax1.plot(time, traj[:, 1], '-', color=colors[i], linewidth=2, \n",
    "             label=f\"IC{i+1}: ({x0['prey']}, {x0['predator']})\")\n",
    "    \n",
    "    # Plot espaço de fase\n",
    "    ax2.plot(traj[:, 0], traj[:, 1], color=colors[i], linewidth=2, alpha=0.7)\n",
    "    ax2.plot(traj[0, 0], traj[0, 1], 'o', color=colors[i], markersize=10)\n",
    "    ax2.plot(traj[-1, 0], traj[-1, 1], 's', color=colors[i], markersize=8)\n",
    "\n",
    "# Configurar plot temporal\n",
    "ax1.set_xlabel('Tempo (passos)', fontsize=12)\n",
    "ax1.set_ylabel('População', fontsize=12)\n",
    "ax1.set_title('Dinâmica Temporal (linha sólida=predador, tracejada=presa)', \n",
    "              fontsize=12, fontweight='bold')\n",
    "ax1.legend(loc='best', fontsize=9)\n",
    "ax1.grid(True, alpha=0.3)\n",
    "\n",
    "# Configurar plot espaço de fase\n",
    "ax2.set_xlabel('Presas', fontsize=12)\n",
    "ax2.set_ylabel('Predadores', fontsize=12)\n",
    "ax2.set_title('Espaço de Fase (o=inicial, □=final)', fontsize=12, fontweight='bold')\n",
    "ax2.grid(True, alpha=0.3)\n",
    "\n",
    "plt.tight_layout()\n",
    "plt.show()\n",
    "\n",
    "print(\"\\n✅ Simulações concluídas!\")"
   ]
  },
  {
   "cell_type": "markdown",
   "metadata": {},
   "source": [
    "---\n",
    "\n",
    "## 6️⃣ Exportar Resultados\n",
    "\n",
    "Podemos exportar a trajetória para um arquivo CSV."
   ]
  },
  {
   "cell_type": "code",
   "execution_count": null,
   "metadata": {},
   "outputs": [],
   "source": [
    "# Exportar para CSV\n",
    "pfuzzy.to_csv('/tmp/predator_prey_discrete.csv')\n",
    "\n",
    "print(\"✅ Dados exportados para: /tmp/predator_prey_discrete.csv\")\n",
    "print(\"\\n📄 Primeiras 5 linhas:\")\n",
    "\n",
    "# Ler e mostrar primeiras linhas\n",
    "import pandas as pd\n",
    "df = pd.read_csv('/tmp/predator_prey_discrete.csv')\n",
    "print(df.head())"
   ]
  },
  {
   "cell_type": "markdown",
   "metadata": {},
   "source": [
    "---\n",
    "\n",
    "## 🎯 Conclusões\n",
    "\n",
    "### ✅ O que aprendemos:\n",
    "\n",
    "1. **Sistema p-Fuzzy Discreto:**\n",
    "   - Evolução por passos discretos: $x_{n+1} = x_n + \\Delta x$\n",
    "   - A variação $\\Delta x$ é determinada por regras fuzzy\n",
    "\n",
    "2. **Dinâmica Predador-Presa:**\n",
    "   - Comportamento oscilatório (ciclos)\n",
    "   - Presas e predadores em equilíbrio dinâmico\n",
    "   - Diferentes condições iniciais convergem para padrões similares\n",
    "\n",
    "3. **Vantagens da Abordagem Fuzzy:**\n",
    "   - **Interpretabilidade:** Regras linguísticas claras\n",
    "   - **Flexibilidade:** Fácil ajustar comportamentos\n",
    "   - **Conhecimento especialista:** Não precisa de parâmetros matemáticos precisos\n",
    "\n",
    "---\n",
    "\n",
    "## 🧪 Experimentos Sugeridos:\n",
    "\n",
    "1. **Modifique as regras fuzzy:**\n",
    "   - O que acontece se predadores crescem mais rápido?\n",
    "   - E se as presas tiverem maior resiliência?\n",
    "\n",
    "2. **Altere as funções de pertinência:**\n",
    "   - Use funções triangulares ao invés de gaussianas\n",
    "   - Varie os valores de centro e dispersão\n",
    "\n",
    "3. **Teste diferentes condições iniciais:**\n",
    "   - O que acontece com populações muito desequilibradas?\n",
    "   - Existe um ponto de equilíbrio?\n",
    "\n",
    "4. **Compare com o modelo contínuo:**\n",
    "   - Execute o notebook `02_pfuzzy_continuous_predator_prey.ipynb`\n",
    "   - Observe as diferenças entre os dois modelos\n",
    "\n",
    "---\n",
    "\n",
    "## 📚 Referências:\n",
    "\n",
    "- Barros, L. C., Bassanezi, R. C., & Lodwick, W. A. (2017). *A First Course in Fuzzy Logic, Fuzzy Dynamical Systems, and Biomathematics*\n",
    "- Documentação: https://github.com/1moi6/pyfuzzy-toolbox\n",
    "\n",
    "---\n",
    "\n",
    "**🤖 Notebook criado com pyfuzzy-toolbox**"
   ]
  }
 ],
 "metadata": {
  "colab": {
   "include_colab_link": true,
   "provenance": []
  },
  "kernelspec": {
   "display_name": "Python (generico)",
   "language": "python",
   "name": "generico"
  },
  "language_info": {
   "codemirror_mode": {
    "name": "ipython",
    "version": 3
   },
   "file_extension": ".py",
   "mimetype": "text/x-python",
   "name": "python",
   "nbconvert_exporter": "python",
   "pygments_lexer": "ipython3",
   "version": "3.11.9"
  }
 },
 "nbformat": 4,
 "nbformat_minor": 0
}