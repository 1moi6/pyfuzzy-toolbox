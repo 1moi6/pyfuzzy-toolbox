{
 "cells": [
  {
   "cell_type": "code",
   "execution_count": null,
   "id": "27cbb7f7",
   "metadata": {},
   "outputs": [],
   "source": "import sys\nimport os\n\nimport numpy as np\nimport matplotlib.pyplot as plt\n\n# Import fuzzy ODE solver for modeling uncertainty in differential equations\nfrom fuzzy_systems.dynamics.fuzzy_ode import FuzzyODESolver, FuzzyNumber\n\n# ============================================================================\n# LOGISTIC MODEL\n# ============================================================================\n\ndef logistic_model(t, y, r, K):\n    \"\"\"\n    Logistic growth model: dy/dt = r * y * (1 - y/K)\n\n    Arguments:\n        t: Time (not used)\n        y: State vector [y]\n        r: Growth rate\n        K: Carrying capacity\n\n    Returns:\n        dy/dt\n    \"\"\"\n    return r * y * (1 - y / K)"
  },
  {
   "cell_type": "code",
   "execution_count": null,
   "id": "f223dd35",
   "metadata": {},
   "outputs": [],
   "source": "# ========== SCENARIO A: Fuzzy Initial Condition ==========\n# Uncertainty in the initial population (y0 = 10 ± 4)\nt_span = (0, 50)      # Time: 0 to 50\nr_base = 0.2       # Growth rate\nK_base = 100  \n\n# Define fuzzy initial condition with triangular membership\ny0_fuzzy_a = FuzzyNumber.triangular(center=10, spread=4)\n\nsolver_a = FuzzyODESolver(\n    ode_func=logistic_model,\n    t_span=t_span,\n    initial_condition=[y0_fuzzy_a],\n    params={'r': r_base, 'K': K_base},\n    n_alpha_cuts=25,\n)\n\n# Solve using Monte Carlo sampling to propagate uncertainty\nsol_a = solver_a.solve(method='monte_carlo',verbose=True)\n# sol_a = solver_a.solve(method='standard',n_grid_points=100,verbose=True)\nsol_a.plot()"
  },
  {
   "cell_type": "code",
   "execution_count": null,
   "id": "393227f7",
   "metadata": {},
   "outputs": [],
   "source": "# ========== SCENARIO B: Fuzzy Carrying Capacity ==========\n# Uncertainty in carrying capacity (K = 500 ± 100)\nK_fuzzy_b = FuzzyNumber.triangular(center=500, spread=100)\n\nsolver_b = FuzzyODESolver(\n    ode_func=logistic_model,\n    t_span=t_span,\n    initial_condition=[10.0],\n    params={'r': r_base, 'K': K_fuzzy_b},\n    n_alpha_cuts=25,\n)\n\n# Solve with uncertain parameter K\nsol_b = solver_b.solve(method='monte_carlo')\nsol_b.plot()"
  },
  {
   "cell_type": "code",
   "execution_count": null,
   "id": "3fb78a1a",
   "metadata": {},
   "outputs": [],
   "source": "# ========== SCENARIO C: Fuzzy Growth Rate ==========\n# Uncertainty in growth rate (r = 0.2 ± 0.02)\nr_fuzzy_c = FuzzyNumber.triangular(center=0.2, spread=0.02)\n\nsolver_c = FuzzyODESolver(\n    ode_func=logistic_model,\n    t_span=t_span,\n    initial_condition=[10.0],\n    params={'r': r_fuzzy_c, 'K': K_base},\n    n_alpha_cuts=25,\n)\n\n# Solve with uncertain parameter r\nsol_c = solver_c.solve(method='monte_carlo',verbose=True)\nsol_c.plot()\n"
  },
  {
   "cell_type": "code",
   "execution_count": null,
   "id": "fa2f2bc1",
   "metadata": {},
   "outputs": [],
   "source": "# ========== SCENARIO D: All Parameters Fuzzy ==========\n# Combined uncertainty in initial condition, growth rate, and carrying capacity\ny0_fuzzy_d = FuzzyNumber.triangular(center=10, spread=4)\nr_fuzzy_d = FuzzyNumber.triangular(center=0.2, spread=0.02)\nK_fuzzy_d = FuzzyNumber.triangular(center=500, spread=100)\n\nsolver_d = FuzzyODESolver(\n    ode_func=logistic_model,\n    t_span=t_span,\n    initial_condition=[y0_fuzzy_d],\n    params={'r': r_fuzzy_d, 'K': K_fuzzy_d},\n    n_alpha_cuts=25,\n)\n\n# Solve with all uncertain parameters (increased samples for better accuracy)\nsol_d = solver_d.solve(method='monte_carlo',verbose=True,n_samples=10000)\nsol_d.plot()"
  },
  {
   "cell_type": "code",
   "execution_count": null,
   "id": "f3550e1a",
   "metadata": {},
   "outputs": [],
   "source": "# ========== COMPARISON: All Scenarios ==========\n# Compare uncertainty propagation across all four scenarios\nfig, axes = plt.subplots(2, 2, figsize=(14, 10))\naxes = axes.flatten()\n\nscenarios = [\n    (sol_a, 'Scenario A: y₀ Fuzzy'),\n    (sol_b, 'Scenario B: K Fuzzy'),\n    (sol_c, 'Scenario C: r Fuzzy'),\n    (sol_d, 'Scenario D: All Fuzzy')\n]\n\n# Plot each scenario with alpha-cuts showing uncertainty bands\nfor ax, (sol, title) in zip(axes, scenarios):\n    cmap = plt.cm.Blues\n    for i, alpha in enumerate(sol.alphas):\n        y_min = sol.y_min[i, 0, :]\n        y_max = sol.y_max[i, 0, :]\n        color = cmap(0.3 + 0.7 * alpha)\n        ax.fill_between(sol.t, y_min, y_max, alpha=0.3, color=color)\n\n    ax.set_xlabel('Time (t)', fontsize=11)\n    ax.set_ylabel('y(t)', fontsize=11)\n    ax.set_title(title, fontweight='bold', fontsize=12)\n    ax.grid(True, alpha=0.3)\n\nplt.tight_layout()\n# plt.savefig('fuzzy_ode_logistic_scenarios.png', dpi=150, bbox_inches='tight')"
  }
 ],
 "metadata": {
  "kernelspec": {
   "display_name": "Python (generico)",
   "language": "python",
   "name": "generico"
  },
  "language_info": {
   "codemirror_mode": {
    "name": "ipython",
    "version": 3
   },
   "file_extension": ".py",
   "mimetype": "text/x-python",
   "name": "python",
   "nbconvert_exporter": "python",
   "pygments_lexer": "ipython3",
   "version": "3.11.9"
  }
 },
 "nbformat": 4,
 "nbformat_minor": 5
}