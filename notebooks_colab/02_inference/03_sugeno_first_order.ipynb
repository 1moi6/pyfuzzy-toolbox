{
 "cells": [
  {
   "cell_type": "markdown",
   "metadata": {},
   "source": [
    "# Sugeno Fuzzy System (First-Order)\n",
    "\n",
    "**Linear Output Functions**"
   ]
  },
  {
   "cell_type": "code",
   "execution_count": null,
   "metadata": {},
   "outputs": [],
   "source": [
    "!pip install pyfuzzy-toolbox -q"
   ]
  },
  {
   "cell_type": "code",
   "execution_count": null,
   "metadata": {},
   "outputs": [],
   "source": [
    "import numpy as np\n",
    "import matplotlib.pyplot as plt\n",
    "from fuzzy_systems.inference import SugenoSystem\n",
    "\n",
    "%matplotlib inline"
   ]
  },
  {
   "cell_type": "markdown",
   "metadata": {},
   "source": [
    "### 1. Create Sugeno System"
   ]
  },
  {
   "cell_type": "code",
   "execution_count": null,
   "metadata": {},
   "outputs": [],
   "source": [
    "# Create Sugeno system with linear output functions\n",
    "fis = SugenoSystem()\n",
    "\n",
    "# Add input variables\n",
    "temp = fis.add_input('temp', (0, 40))\n",
    "humidity = fis.add_input('humidity', (0, 100))\n",
    "\n",
    "# Add terms to temperature\n",
    "fis.add_term('temp', 'low', 'triangular', (0, 0, 20))\n",
    "fis.add_term('temp', 'medium', 'triangular', (10, 20, 30))\n",
    "fis.add_term('temp', 'high', 'triangular', (20, 40, 40))\n",
    "\n",
    "# Add terms to humidity\n",
    "fis.add_term('humidity', 'dry', 'triangular', (0, 0, 50))\n",
    "fis.add_term('humidity', 'normal', 'triangular', (20, 50, 80))\n",
    "fis.add_term('humidity', 'wet', 'triangular', (50, 100, 100))\n",
    "\n",
    "# Visualize\n",
    "fis.plot_variables(figsize=(14, 4))"
   ]
  },
  {
   "cell_type": "markdown",
   "metadata": {},
   "source": [
    "### 2. First-Order Rules"
   ]
  },
  {
   "cell_type": "code",
   "execution_count": null,
   "metadata": {},
   "outputs": [],
   "source": [
    "# First-order rules: output = f(temp, humidity)\n",
    "fis.add_rule(\"IF temp IS low AND humidity IS dry THEN output = 0.5*temp + 0.1*humidity + 5\")\n",
    "fis.add_rule(\"IF temp IS medium AND humidity IS normal THEN output = 0.3*temp + 0.2*humidity + 10\")\n",
    "fis.add_rule(\"IF temp IS high AND humidity IS wet THEN output = 0.1*temp + 0.4*humidity + 15\")\n",
    "\n",
    "fis.print_rules()"
   ]
  },
  {
   "cell_type": "markdown",
   "metadata": {},
   "source": [
    "### 3. Single Inference"
   ]
  },
  {
   "cell_type": "code",
   "execution_count": null,
   "metadata": {},
   "outputs": [],
   "source": [
    "# Test specific input\n",
    "result = fis.evaluate(temp=25, humidity=60)\n",
    "\n",
    "print(f\"Input: temp=25°C, humidity=60%\")\n",
    "print(f\"Output: {result['output']:.2f}\")"
   ]
  },
  {
   "cell_type": "markdown",
   "metadata": {},
   "source": [
    "### 4. 3D Surface Plot"
   ]
  },
  {
   "cell_type": "code",
   "execution_count": null,
   "metadata": {},
   "outputs": [],
   "source": [
    "# Generate surface over input space\n",
    "temp_range = np.linspace(0, 40, 30)\n",
    "hum_range = np.linspace(0, 100, 30)\n",
    "output_surface = np.zeros((len(hum_range), len(temp_range)))\n",
    "\n",
    "for i, h in enumerate(hum_range):\n",
    "    for j, t in enumerate(temp_range):\n",
    "        result = fis.evaluate(temp=t, humidity=h)\n",
    "        output_surface[i, j] = result['output']\n",
    "\n",
    "# 3D plot\n",
    "from mpl_toolkits.mplot3d import Axes3D\n",
    "T, H = np.meshgrid(temp_range, hum_range)\n",
    "\n",
    "fig = plt.figure(figsize=(12, 8))\n",
    "ax = fig.add_subplot(111, projection='3d')\n",
    "surf = ax.plot_surface(T, H, output_surface, cmap='coolwarm', alpha=0.8)\n",
    "ax.set_xlabel('Temperature (°C)')\n",
    "ax.set_ylabel('Humidity (%)')\n",
    "ax.set_zlabel('Output')\n",
    "ax.set_title('First-Order Sugeno: Response Surface')\n",
    "plt.colorbar(surf, shrink=0.5)\n",
    "plt.show()"
   ]
  },
  {
   "cell_type": "markdown",
   "metadata": {},
   "source": [
    "### 5. Contour Plot"
   ]
  },
  {
   "cell_type": "code",
   "execution_count": null,
   "metadata": {},
   "outputs": [],
   "source": [
    "# 2D contour\n",
    "plt.figure(figsize=(10, 8))\n",
    "contour = plt.contourf(T, H, output_surface, levels=15, cmap='coolwarm')\n",
    "plt.colorbar(contour, label='Output')\n",
    "plt.xlabel('Temperature (°C)')\n",
    "plt.ylabel('Humidity (%)')\n",
    "plt.title('First-Order Sugeno: Contour Map')\n",
    "plt.grid(True, alpha=0.3)\n",
    "plt.show()"
   ]
  },
  {
   "cell_type": "markdown",
   "metadata": {},
   "source": [
    "### 🎯 Exercise: Compare Zero vs First-Order"
   ]
  },
  {
   "cell_type": "code",
   "execution_count": null,
   "metadata": {},
   "outputs": [],
   "source": [
    "# Create zero-order system for comparison\n",
    "fis_zero = SugenoSystem()\n",
    "fis_zero.add_input('temp', (0, 40))\n",
    "fis_zero.add_input('humidity', (0, 100))\n",
    "fis_zero.add_term('temp', 'low', 'triangular', (0, 0, 20))\n",
    "fis_zero.add_term('temp', 'medium', 'triangular', (10, 20, 30))\n",
    "fis_zero.add_term('temp', 'high', 'triangular', (20, 40, 40))\n",
    "fis_zero.add_term('humidity', 'dry', 'triangular', (0, 0, 50))\n",
    "fis_zero.add_term('humidity', 'normal', 'triangular', (20, 50, 80))\n",
    "fis_zero.add_term('humidity', 'wet', 'triangular', (50, 100, 100))\n",
    "\n",
    "# Constant outputs (zero-order)\n",
    "fis_zero.add_rule(\"IF temp IS low AND humidity IS dry THEN output = 10\")\n",
    "fis_zero.add_rule(\"IF temp IS medium AND humidity IS normal THEN output = 20\")\n",
    "fis_zero.add_rule(\"IF temp IS high AND humidity IS wet THEN output = 30\")\n",
    "\n",
    "# Compare along temperature axis (humidity fixed at 50%)\n",
    "temps = np.linspace(0, 40, 50)\n",
    "out_zero = [fis_zero.evaluate(temp=t, humidity=50)['output'] for t in temps]\n",
    "out_first = [fis.evaluate(temp=t, humidity=50)['output'] for t in temps]\n",
    "\n",
    "plt.figure(figsize=(12, 5))\n",
    "plt.plot(temps, out_zero, 'b-', linewidth=2, label='Zero-order (constant)')\n",
    "plt.plot(temps, out_first, 'r-', linewidth=2, label='First-order (linear)')\n",
    "plt.xlabel('Temperature (°C)')\n",
    "plt.ylabel('Output')\n",
    "plt.title('Zero-Order vs First-Order Sugeno (humidity=50%)')\n",
    "plt.legend()\n",
    "plt.grid(True, alpha=0.3)\n",
    "plt.show()\n",
    "\n",
    "print(\"Notice: First-order has smooth linear transitions between rules\")"
   ]
  }
 ],
 "metadata": {
  "colab": {
   "name": "03_sugeno_ordem_1.ipynb",
   "provenance": []
  },
  "kernelspec": {
   "display_name": "Python (generico)",
   "language": "python",
   "name": "generico"
  },
  "language_info": {
   "codemirror_mode": {
    "name": "ipython",
    "version": 3
   },
   "file_extension": ".py",
   "mimetype": "text/x-python",
   "name": "python",
   "nbconvert_exporter": "python",
   "pygments_lexer": "ipython3",
   "version": "3.11.9"
  }
 },
 "nbformat": 4,
 "nbformat_minor": 0
}