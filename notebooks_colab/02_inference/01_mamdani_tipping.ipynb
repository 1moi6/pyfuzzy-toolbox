{
 "cells": [
  {
   "cell_type": "markdown",
   "metadata": {},
   "source": [
    "# Mamdani Fuzzy Inference System\n",
    "\n",
    "**Classic Tipping Problem**"
   ]
  },
  {
   "cell_type": "code",
   "execution_count": null,
   "metadata": {},
   "outputs": [],
   "source": [
    "!pip install pyfuzzy-toolbox -q"
   ]
  },
  {
   "cell_type": "code",
   "execution_count": null,
   "metadata": {},
   "outputs": [],
   "source": [
    "import numpy as np\n",
    "import matplotlib.pyplot as plt\n",
    "from fuzzy_systems.core import LinguisticVariable\n",
    "from fuzzy_systems.inference import MamdaniSystem\n",
    "\n",
    "plt.style.use('seaborn-v0_8-darkgrid')\n",
    "%matplotlib inline"
   ]
  },
  {
   "cell_type": "markdown",
   "metadata": {},
   "source": [
    "### 1. Define Input Variables"
   ]
  },
  {
   "cell_type": "code",
   "execution_count": null,
   "metadata": {},
   "outputs": [],
   "source": [
    "# Service quality: poor, good, excellent\n",
    "service = LinguisticVariable('service', universe=(0, 10))\n",
    "service.add_term('poor', 'triangular', (0, 0, 5))\n",
    "service.add_term('good', 'triangular', (0, 5, 10))\n",
    "service.add_term('excellent', 'triangular', (5, 10, 10))\n",
    "\n",
    "# Food quality: bad, good, delicious\n",
    "food = LinguisticVariable('food', universe=(0, 10))\n",
    "food.add_term('bad', 'triangular', (0, 0, 5))\n",
    "food.add_term('good', 'triangular', (0, 5, 10))\n",
    "food.add_term('delicious', 'triangular', (5, 10, 10))\n",
    "\n",
    "# Visualize inputs\n",
    "fig, (ax1, ax2) = plt.subplots(1, 2, figsize=(14, 4))\n",
    "service.plot(ax=ax1, show=False)\n",
    "ax1.set_title('Service Quality')\n",
    "food.plot(ax=ax2, show=False)\n",
    "ax2.set_title('Food Quality')\n",
    "plt.tight_layout()\n",
    "plt.show()"
   ]
  },
  {
   "cell_type": "markdown",
   "metadata": {},
   "source": [
    "### 2. Define Output Variable"
   ]
  },
  {
   "cell_type": "code",
   "execution_count": null,
   "metadata": {},
   "outputs": [],
   "source": [
    "# Tip percentage: low, medium, high\n",
    "tip = LinguisticVariable('tip', universe=(0, 30))\n",
    "tip.add_term('low', 'triangular', (0, 0, 15))\n",
    "tip.add_term('medium', 'triangular', (0, 15, 30))\n",
    "tip.add_term('high', 'triangular', (15, 30, 30))\n",
    "\n",
    "tip.plot(figsize=(12, 4), show=True)"
   ]
  },
  {
   "cell_type": "markdown",
   "metadata": {},
   "source": [
    "### 3. Define Fuzzy Rules"
   ]
  },
  {
   "cell_type": "code",
   "execution_count": null,
   "metadata": {},
   "outputs": [],
   "source": [
    "# Create Mamdani system\n",
    "fis = MamdaniSystem()\n",
    "fis.add_input_variable(service)\n",
    "fis.add_input_variable(food)\n",
    "fis.add_output_variable(tip)\n",
    "\n",
    "# Add fuzzy rules\n",
    "fis.add_rule(\"IF service IS poor OR food IS bad THEN tip IS low\")\n",
    "fis.add_rule(\"IF service IS good THEN tip IS medium\")\n",
    "fis.add_rule(\"IF service IS excellent OR food IS delicious THEN tip IS high\")\n",
    "\n",
    "print(f\"Fuzzy Inference System created with {len(fis.rules)} rules\")"
   ]
  },
  {
   "cell_type": "markdown",
   "metadata": {},
   "source": [
    "### 4. Single Inference Example"
   ]
  },
  {
   "cell_type": "code",
   "execution_count": null,
   "metadata": {},
   "outputs": [],
   "source": [
    "# Test with specific values\n",
    "test_input = {'service': 7.5, 'food': 8.0}\n",
    "result = fis.infer(test_input, method='centroid')\n",
    "\n",
    "print(f\"Input: service={test_input['service']}, food={test_input['food']}\")\n",
    "print(f\"Output: tip={result['tip']:.2f}%\")\n",
    "\n",
    "# Visualize inference process\n",
    "fis.plot_inference(test_input, figsize=(14, 10))"
   ]
  },
  {
   "cell_type": "markdown",
   "metadata": {},
   "source": [
    "### 5. Surface Plot: Response Over Input Space"
   ]
  },
  {
   "cell_type": "code",
   "execution_count": null,
   "metadata": {},
   "outputs": [],
   "source": [
    "# Generate surface plot\n",
    "service_range = np.linspace(0, 10, 30)\n",
    "food_range = np.linspace(0, 10, 30)\n",
    "tip_surface = np.zeros((len(food_range), len(service_range)))\n",
    "\n",
    "for i, f in enumerate(food_range):\n",
    "    for j, s in enumerate(service_range):\n",
    "        result = fis.infer({'service': s, 'food': f}, method='centroid')\n",
    "        tip_surface[i, j] = result['tip']\n",
    "\n",
    "# 3D surface plot\n",
    "from mpl_toolkits.mplot3d import Axes3D\n",
    "S, F = np.meshgrid(service_range, food_range)\n",
    "\n",
    "fig = plt.figure(figsize=(12, 8))\n",
    "ax = fig.add_subplot(111, projection='3d')\n",
    "surf = ax.plot_surface(S, F, tip_surface, cmap='viridis', alpha=0.8)\n",
    "ax.set_xlabel('Service Quality')\n",
    "ax.set_ylabel('Food Quality')\n",
    "ax.set_zlabel('Tip (%)')\n",
    "ax.set_title('Mamdani FIS: Tipping Response Surface')\n",
    "plt.colorbar(surf, shrink=0.5)\n",
    "plt.show()"
   ]
  },
  {
   "cell_type": "markdown",
   "metadata": {},
   "source": [
    "### 6. Contour Plot"
   ]
  },
  {
   "cell_type": "code",
   "execution_count": null,
   "metadata": {},
   "outputs": [],
   "source": [
    "# 2D contour plot\n",
    "plt.figure(figsize=(10, 8))\n",
    "contour = plt.contourf(S, F, tip_surface, levels=15, cmap='viridis')\n",
    "plt.colorbar(contour, label='Tip (%)')\n",
    "plt.xlabel('Service Quality')\n",
    "plt.ylabel('Food Quality')\n",
    "plt.title('Tipping Decision Contour Map')\n",
    "plt.grid(True, alpha=0.3)\n",
    "plt.show()"
   ]
  },
  {
   "cell_type": "markdown",
   "metadata": {},
   "source": [
    "### 🎯 Exercise: Test Different Scenarios"
   ]
  },
  {
   "cell_type": "code",
   "execution_count": null,
   "metadata": {},
   "outputs": [],
   "source": [
    "# Test multiple scenarios\n",
    "scenarios = [\n",
    "    {'service': 2, 'food': 3, 'desc': 'Poor service, bad food'},\n",
    "    {'service': 5, 'food': 5, 'desc': 'Average everything'},\n",
    "    {'service': 8, 'food': 9, 'desc': 'Great experience'},\n",
    "    {'service': 3, 'food': 9, 'desc': 'Poor service, great food'},\n",
    "    {'service': 9, 'food': 3, 'desc': 'Great service, bad food'}\n",
    "]\n",
    "\n",
    "for scenario in scenarios:\n",
    "    inputs = {'service': scenario['service'], 'food': scenario['food']}\n",
    "    result = fis.infer(inputs, method='centroid')\n",
    "    print(f\"{scenario['desc']:30s} → Tip: {result['tip']:5.2f}%\")"
   ]
  }
 ],
 "metadata": {
  "colab": {
   "name": "01_mamdani_sistema_gorjeta.ipynb",
   "provenance": []
  },
  "kernelspec": {
   "display_name": "Python (generico)",
   "language": "python",
   "name": "generico"
  },
  "language_info": {
   "codemirror_mode": {
    "name": "ipython",
    "version": 3
   },
   "file_extension": ".py",
   "mimetype": "text/x-python",
   "name": "python",
   "nbconvert_exporter": "python",
   "pygments_lexer": "ipython3",
   "version": "3.11.9"
  }
 },
 "nbformat": 4,
 "nbformat_minor": 0
}