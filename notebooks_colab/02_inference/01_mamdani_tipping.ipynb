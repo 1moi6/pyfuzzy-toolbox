{
 "cells": [
  {
   "cell_type": "markdown",
   "metadata": {},
   "source": [
    "# Mamdani Fuzzy Inference System\n",
    "\n",
    "**Classic Tipping Problem**"
   ]
  },
  {
   "cell_type": "code",
   "execution_count": null,
   "metadata": {},
   "outputs": [],
   "source": [
    "!pip install pyfuzzy-toolbox -q"
   ]
  },
  {
   "cell_type": "code",
   "execution_count": null,
   "metadata": {},
   "outputs": [],
   "source": [
    "import numpy as np\n",
    "import matplotlib.pyplot as plt\n",
    "from fuzzy_systems.core import LinguisticVariable\n",
    "from fuzzy_systems.inference import MamdaniSystem\n",
    "\n",
    "plt.style.use('seaborn-v0_8-darkgrid')\n",
    "%matplotlib inline"
   ]
  },
  {
   "cell_type": "markdown",
   "metadata": {},
   "source": [
    "### 1. Create Mamdani System"
   ]
  },
  {
   "cell_type": "code",
   "execution_count": null,
   "metadata": {},
   "outputs": [],
   "source": [
    "# Create Mamdani system\n",
    "fis = MamdaniSystem()\n",
    "\n",
    "# Add input variables with universe\n",
    "service = fis.add_input('service', (0, 10))\n",
    "food = fis.add_input('food', (0, 10))\n",
    "\n",
    "# Add output variable\n",
    "tip = fis.add_output('tip', (0, 30))\n",
    "\n",
    "print(f\"System created with {len(fis.input_variables)} inputs and {len(fis.output_variables)} outputs\")"
   ]
  },
  {
   "cell_type": "markdown",
   "metadata": {},
   "source": [
    "### 2. Define Membership Functions"
   ]
  },
  {
   "cell_type": "code",
   "execution_count": null,
   "metadata": {},
   "outputs": [],
   "source": [
    "# Service quality terms\n",
    "fis.add_term('service', 'poor', 'triangular', (0, 0, 5))\n",
    "fis.add_term('service', 'good', 'triangular', (0, 5, 10))\n",
    "fis.add_term('service', 'excellent', 'triangular', (5, 10, 10))\n",
    "\n",
    "# Food quality terms\n",
    "fis.add_term('food', 'bad', 'triangular', (0, 0, 5))\n",
    "fis.add_term('food', 'good', 'triangular', (0, 5, 10))\n",
    "fis.add_term('food', 'delicious', 'triangular', (5, 10, 10))\n",
    "\n",
    "# Tip percentage terms\n",
    "fis.add_term('tip', 'low', 'triangular', (0, 0, 15))\n",
    "fis.add_term('tip', 'medium', 'triangular', (0, 15, 30))\n",
    "fis.add_term('tip', 'high', 'triangular', (15, 30, 30))\n",
    "\n",
    "# Visualize\n",
    "fis.plot_variables(figsize=(14, 4))"
   ]
  },
  {
   "cell_type": "markdown",
   "metadata": {},
   "source": [
    "### 3. Define Fuzzy Rules"
   ]
  },
  {
   "cell_type": "code",
   "execution_count": null,
   "metadata": {},
   "outputs": [],
   "source": [
    "# Add fuzzy rules\n",
    "fis.add_rule(\"IF service IS poor OR food IS bad THEN tip IS low\")\n",
    "fis.add_rule(\"IF service IS good THEN tip IS medium\")\n",
    "fis.add_rule(\"IF service IS excellent OR food IS delicious THEN tip IS high\")\n",
    "\n",
    "fis.print_rules()"
   ]
  },
  {
   "cell_type": "markdown",
   "metadata": {},
   "source": [
    "### 4. Single Inference Example"
   ]
  },
  {
   "cell_type": "code",
   "execution_count": null,
   "metadata": {},
   "outputs": [],
   "source": [
    "# Evaluate with specific values\n",
    "result = fis.evaluate(service=7.5, food=8.0)\n",
    "\n",
    "print(f\"Input: service=7.5, food=8.0\")\n",
    "print(f\"Output: tip={result['tip']:.2f}%\")"
   ]
  },
  {
   "cell_type": "markdown",
   "metadata": {},
   "source": [
    "### 5. Detailed Inference Information"
   ]
  },
  {
   "cell_type": "code",
   "execution_count": null,
   "metadata": {},
   "outputs": [],
   "source": [
    "# Get detailed inference process\n",
    "details = fis.evaluate_detailed(service=7.5, food=8.0)\n",
    "\n",
    "print(\"Fuzzified inputs:\")\n",
    "for var, terms in details['fuzzified_inputs'].items():\n",
    "    print(f\"  {var}: {terms}\")\n",
    "\n",
    "print(\"\\nActivated rules:\")\n",
    "for rule_info in details['activated_rules']:\n",
    "    print(f\"  Rule {rule_info['rule_index']}: {rule_info['rule']}\")\n",
    "    print(f\"    Firing strength: {rule_info['firing_strength']:.3f}\")\n",
    "\n",
    "print(f\"\\nFinal output: {details['outputs']}\")"
   ]
  },
  {
   "cell_type": "markdown",
   "metadata": {},
   "source": [
    "### 6. Surface Plot: Response Over Input Space"
   ]
  },
  {
   "cell_type": "code",
   "execution_count": null,
   "metadata": {},
   "outputs": [],
   "source": [
    "# Generate surface plot\n",
    "service_range = np.linspace(0, 10, 30)\n",
    "food_range = np.linspace(0, 10, 30)\n",
    "tip_surface = np.zeros((len(food_range), len(service_range)))\n",
    "\n",
    "for i, f in enumerate(food_range):\n",
    "    for j, s in enumerate(service_range):\n",
    "        result = fis.evaluate(service=s, food=f)\n",
    "        tip_surface[i, j] = result['tip']\n",
    "\n",
    "# 3D surface plot\n",
    "from mpl_toolkits.mplot3d import Axes3D\n",
    "S, F = np.meshgrid(service_range, food_range)\n",
    "\n",
    "fig = plt.figure(figsize=(12, 8))\n",
    "ax = fig.add_subplot(111, projection='3d')\n",
    "surf = ax.plot_surface(S, F, tip_surface, cmap='viridis', alpha=0.8)\n",
    "ax.set_xlabel('Service Quality')\n",
    "ax.set_ylabel('Food Quality')\n",
    "ax.set_zlabel('Tip (%)')\n",
    "ax.set_title('Mamdani FIS: Tipping Response Surface')\n",
    "plt.colorbar(surf, shrink=0.5)\n",
    "plt.show()"
   ]
  },
  {
   "cell_type": "markdown",
   "metadata": {},
   "source": [
    "### 7. Contour Plot"
   ]
  },
  {
   "cell_type": "code",
   "execution_count": null,
   "metadata": {},
   "outputs": [],
   "source": [
    "# 2D contour plot\n",
    "plt.figure(figsize=(10, 8))\n",
    "contour = plt.contourf(S, F, tip_surface, levels=15, cmap='viridis')\n",
    "plt.colorbar(contour, label='Tip (%)')\n",
    "plt.xlabel('Service Quality')\n",
    "plt.ylabel('Food Quality')\n",
    "plt.title('Tipping Decision Contour Map')\n",
    "plt.grid(True, alpha=0.3)\n",
    "plt.show()"
   ]
  },
  {
   "cell_type": "markdown",
   "metadata": {},
   "source": [
    "### 🎯 Exercise: Test Different Scenarios"
   ]
  },
  {
   "cell_type": "code",
   "execution_count": null,
   "metadata": {},
   "outputs": [],
   "source": [
    "# Test multiple scenarios\n",
    "scenarios = [\n",
    "    (2, 3, 'Poor service, bad food'),\n",
    "    (5, 5, 'Average everything'),\n",
    "    (8, 9, 'Great experience'),\n",
    "    (3, 9, 'Poor service, great food'),\n",
    "    (9, 3, 'Great service, bad food')\n",
    "]\n",
    "\n",
    "for s, f, desc in scenarios:\n",
    "    result = fis.evaluate(service=s, food=f)\n",
    "    print(f\"{desc:30s} → Tip: {result['tip']:5.2f}%\")"
   ]
  }
 ],
 "metadata": {
  "colab": {
   "name": "01_mamdani_sistema_gorjeta.ipynb",
   "provenance": []
  },
  "kernelspec": {
   "display_name": "Python (generico)",
   "language": "python",
   "name": "generico"
  },
  "language_info": {
   "codemirror_mode": {
    "name": "ipython",
    "version": 3
   },
   "file_extension": ".py",
   "mimetype": "text/x-python",
   "name": "python",
   "nbconvert_exporter": "python",
   "pygments_lexer": "ipython3",
   "version": "3.11.9"
  }
 },
 "nbformat": 4,
 "nbformat_minor": 0
}