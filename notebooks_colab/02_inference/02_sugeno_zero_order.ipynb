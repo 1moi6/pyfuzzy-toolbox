{
 "cells": [
  {
   "cell_type": "markdown",
   "metadata": {},
   "source": [
    "# Sugeno Fuzzy System (Zero-Order)\n",
    "\n",
    "**Temperature Control Example**"
   ]
  },
  {
   "cell_type": "code",
   "execution_count": null,
   "metadata": {},
   "outputs": [],
   "source": [
    "!pip install pyfuzzy-toolbox -q"
   ]
  },
  {
   "cell_type": "code",
   "execution_count": null,
   "metadata": {},
   "outputs": [],
   "source": [
    "import numpy as np\n",
    "import matplotlib.pyplot as plt\n",
    "from fuzzy_systems.inference import SugenoSystem\n",
    "\n",
    "%matplotlib inline"
   ]
  },
  {
   "cell_type": "markdown",
   "metadata": {},
   "source": [
    "### 1. Create Sugeno System"
   ]
  },
  {
   "cell_type": "code",
   "execution_count": null,
   "metadata": {},
   "outputs": [],
   "source": [
    "# Create Sugeno system (zero-order = constant outputs)\n",
    "fis = SugenoSystem()\n",
    "\n",
    "# Add input variable\n",
    "temp = fis.add_input('temperature', (0, 40))\n",
    "\n",
    "# Add terms to temperature\n",
    "fis.add_term('temperature', 'cold', 'trapezoidal', (0, 0, 10, 20))\n",
    "fis.add_term('temperature', 'comfortable', 'triangular', (15, 22, 28))\n",
    "fis.add_term('temperature', 'hot', 'trapezoidal', (25, 32, 40, 40))\n",
    "\n",
    "# Visualize\n",
    "fis.plot_variables(figsize=(12, 4))"
   ]
  },
  {
   "cell_type": "markdown",
   "metadata": {},
   "source": [
    "### 2. Add Zero-Order Rules"
   ]
  },
  {
   "cell_type": "code",
   "execution_count": null,
   "metadata": {},
   "outputs": [],
   "source": [
    "# Rules with constant consequents (zero-order)\n",
    "fis.add_rule(\"IF temperature IS cold THEN output = 30\")        # High heating\n",
    "fis.add_rule(\"IF temperature IS comfortable THEN output = 15\") # Moderate\n",
    "fis.add_rule(\"IF temperature IS hot THEN output = 5\")          # Low/cooling\n",
    "\n",
    "fis.print_rules()"
   ]
  },
  {
   "cell_type": "markdown",
   "metadata": {},
   "source": [
    "### 3. Test Inference"
   ]
  },
  {
   "cell_type": "code",
   "execution_count": null,
   "metadata": {},
   "outputs": [],
   "source": [
    "# Test specific values\n",
    "test_temps = [10, 18, 22, 28, 35]\n",
    "\n",
    "for t in test_temps:\n",
    "    result = fis.evaluate(temperature=t)\n",
    "    print(f\"Temperature: {t:2d}°C → Output: {result['output']:.2f}\")"
   ]
  },
  {
   "cell_type": "markdown",
   "metadata": {},
   "source": [
    "### 4. Response Curve"
   ]
  },
  {
   "cell_type": "code",
   "execution_count": null,
   "metadata": {},
   "outputs": [],
   "source": [
    "# Generate response curve over full range\n",
    "temps = np.linspace(0, 40, 100)\n",
    "outputs = [fis.evaluate(temperature=t)['output'] for t in temps]\n",
    "\n",
    "plt.figure(figsize=(12, 5))\n",
    "plt.plot(temps, outputs, 'b-', linewidth=2)\n",
    "plt.xlabel('Temperature (°C)')\n",
    "plt.ylabel('Control Output')\n",
    "plt.title('Sugeno Zero-Order: Temperature Control Response')\n",
    "plt.grid(True, alpha=0.3)\n",
    "plt.axhline(y=15, color='r', linestyle='--', alpha=0.3, label='Comfortable output')\n",
    "plt.legend()\n",
    "plt.show()"
   ]
  },
  {
   "cell_type": "markdown",
   "metadata": {},
   "source": [
    "### 🎯 Exercise: Modify Rule Outputs"
   ]
  },
  {
   "cell_type": "code",
   "execution_count": null,
   "metadata": {},
   "outputs": [],
   "source": [
    "# Create custom Sugeno system with different outputs\n",
    "custom_fis = SugenoSystem()\n",
    "custom_temp = custom_fis.add_input('temperature', (0, 40))\n",
    "custom_fis.add_term('temperature', 'cold', 'trapezoidal', (0, 0, 10, 20))\n",
    "custom_fis.add_term('temperature', 'comfortable', 'triangular', (15, 22, 28))\n",
    "custom_fis.add_term('temperature', 'hot', 'trapezoidal', (25, 32, 40, 40))\n",
    "\n",
    "# TODO: Try different constant values\n",
    "custom_fis.add_rule(\"IF temperature IS cold THEN output = 25\")\n",
    "custom_fis.add_rule(\"IF temperature IS comfortable THEN output = 10\")\n",
    "custom_fis.add_rule(\"IF temperature IS hot THEN output = 0\")\n",
    "\n",
    "# Compare responses\n",
    "custom_outputs = [custom_fis.evaluate(temperature=t)['output'] for t in temps]\n",
    "\n",
    "plt.figure(figsize=(12, 5))\n",
    "plt.plot(temps, outputs, 'b-', linewidth=2, label='Original')\n",
    "plt.plot(temps, custom_outputs, 'r--', linewidth=2, label='Custom')\n",
    "plt.xlabel('Temperature (°C)')\n",
    "plt.ylabel('Control Output')\n",
    "plt.title('Comparing Different Rule Outputs')\n",
    "plt.legend()\n",
    "plt.grid(True, alpha=0.3)\n",
    "plt.show()"
   ]
  }
 ],
 "metadata": {
  "colab": {
   "name": "02_sugeno_ordem_zero.ipynb",
   "provenance": []
  },
  "kernelspec": {
   "display_name": "generico (3.11.9)",
   "language": "python",
   "name": "python3"
  },
  "language_info": {
   "codemirror_mode": {
    "name": "ipython",
    "version": 3
   },
   "file_extension": ".py",
   "mimetype": "text/x-python",
   "name": "python",
   "nbconvert_exporter": "python",
   "pygments_lexer": "ipython3",
   "version": "3.11.9"
  }
 },
 "nbformat": 4,
 "nbformat_minor": 0
}