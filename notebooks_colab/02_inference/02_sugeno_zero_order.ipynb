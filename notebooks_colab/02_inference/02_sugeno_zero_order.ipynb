{
 "cells": [
  {
   "cell_type": "markdown",
   "metadata": {
    "id": "intro"
   },
   "source": [
    "# Sistema de Inferência Sugeno Ordem 0 (Singleton)\n",
    "\n",
    "## 📚 Introdução\n",
    "\n",
    "Bem-vindo ao tutorial do **Método de Sugeno Ordem 0**!\n",
    "\n",
    "O método de **Sugeno** ou **Takagi-Sugeno-Kang (TSK)** foi desenvolvido em 1985 como alternativa ao Mamdani.\n",
    "\n",
    "### 🔑 Diferença Principal\n",
    "\n",
    "| Aspecto | Mamdani | Sugeno Ordem 0 |\n",
    "|---------|---------|----------------|\n",
    "| **Consequente** | Conjunto fuzzy | **Constante** |\n",
    "| **Defuzzificação** | Centroide, MOM, etc. | **Média ponderada** |\n",
    "| **Interpretabilidade** | ⭐⭐⭐⭐⭐ Alta | ⭐⭐⭐ Média |\n",
    "| **Eficiência** | ⭐⭐⭐ Média | ⭐⭐⭐⭐⭐ Alta |\n",
    "\n",
    "### 📐 Sugeno Ordem 0 (Singleton)\n",
    "\n",
    "No Sugeno Ordem 0, cada regra tem uma **saída constante**:\n",
    "\n",
    "```\n",
    "SE x é A ENTÃO y = 5\n",
    "SE x é B ENTÃO y = 8\n",
    "```\n",
    "\n",
    "### ⚙️ Cálculo da Saída\n",
    "\n",
    "A saída final é calculada como uma **média ponderada**:\n",
    "\n",
    "$$\n",
    "y^* = \\frac{\\sum_{k=1}^{K} \\alpha_k \\cdot y_k}{\\sum_{k=1}^{K} \\alpha_k}\n",
    "$$\n",
    "\n",
    "Onde:\n",
    "- $\\alpha_k$ = grau de ativação da regra k\n",
    "- $y_k$ = saída constante da regra k\n",
    "\n",
    "**É simplesmente uma média ponderada!** 🎯\n",
    "\n",
    "---"
   ]
  },
  {
   "cell_type": "markdown",
   "metadata": {
    "id": "install"
   },
   "source": [
    "## 🔧 Instalação e Configurações"
   ]
  },
  {
   "cell_type": "code",
   "execution_count": null,
   "metadata": {
    "id": "install-package"
   },
   "outputs": [],
   "source": [
    "# Instalar pyfuzzy-toolbox\n",
    "!pip install pyfuzzy-toolbox -q\n",
    "\n",
    "print(\"✅ pyfuzzy-toolbox instalado com sucesso!\")"
   ]
  },
  {
   "cell_type": "code",
   "execution_count": null,
   "metadata": {
    "id": "setup"
   },
   "outputs": [],
   "source": [
    "# Importar bibliotecas necessárias\n",
    "import numpy as np\n",
    "import matplotlib.pyplot as plt\n",
    "import fuzzy_systems as fs\n",
    "from fuzzy_systems import SugenoSystem\n",
    "\n",
    "# Configurar matplotlib\n",
    "%matplotlib inline\n",
    "plt.rcParams['figure.figsize'] = (12, 6)\n",
    "plt.rcParams['font.size'] = 11\n",
    "plt.rcParams['figure.dpi'] = 100\n",
    "\n",
    "print(\"✅ Bibliotecas importadas com sucesso!\")\n",
    "print(f\"   Versão do NumPy: {np.__version__}\")\n",
    "print(f\"   pyfuzzy-toolbox: {fs.__version__}\")"
   ]
  },
  {
   "cell_type": "markdown",
   "metadata": {
    "id": "example-intro"
   },
   "source": [
    "## Exemplo Didático: Avaliação de Desempenho de Estudante\n",
    "\n",
    "Vamos criar um sistema simples para avaliar o desempenho de um estudante baseado em sua nota."
   ]
  },
  {
   "cell_type": "markdown",
   "metadata": {
    "id": "step1"
   },
   "source": [
    "## Passo 1: Criar Sistema Sugeno Ordem 0\n",
    "\n",
    "Vamos criar funções de pertinência triangulares para três termos linguísticos: BAIXA, MÉDIA e ALTA."
   ]
  },
  {
   "cell_type": "code",
   "execution_count": null,
   "metadata": {
    "id": "create-system"
   },
   "outputs": [],
   "source": [
    "# ============================================================================\n",
    "# Criar Sistema Sugeno Ordem 0\n",
    "# ============================================================================\n",
    "\n",
    "sistema = SugenoSystem(order=0)\n",
    "\n",
    "# Adicionar variável de entrada: Nota (0 a 10)\n",
    "sistema.add_input('nota', (0, 10))\n",
    "\n",
    "# Definir termos linguísticos\n",
    "sistema.add_term('nota', 'baixa', 'trapezoidal', (0, 0, 4, 6))\n",
    "sistema.add_term('nota', 'media', 'triangular', (4, 6, 8))\n",
    "sistema.add_term('nota', 'alta', 'trapezoidal', (6, 8, 10, 10))\n",
    "\n",
    "# Adicionar variável de saída: Desempenho (ordem 0 = constante)\n",
    "sistema.add_output('desempenho', (0, 10))\n",
    "\n",
    "print(\"✅ Sistema Sugeno Ordem 0 criado!\")\n",
    "print(\"   • Entrada: nota (0-10)\")\n",
    "print(\"   • Termos: baixa, media, alta\")\n",
    "print(\"   • Saída: desempenho (ordem 0 = constante)\")"
   ]
  },
  {
   "cell_type": "markdown",
   "metadata": {
    "id": "viz-mf"
   },
   "source": [
    "## Visualizar Funções de Pertinência"
   ]
  },
  {
   "cell_type": "code",
   "execution_count": null,
   "metadata": {
    "id": "plot-mf"
   },
   "outputs": [],
   "source": [
    "# Criar range de valores para visualização\n",
    "x_vals = np.linspace(0, 10, 200)\n",
    "\n",
    "# Plotar\n",
    "plt.figure(figsize=(12, 6))\n",
    "\n",
    "cores = {'baixa': 'b', 'media': 'y', 'alta': 'r'}\n",
    "for term_name, term in sistema.input_variables['nota'].terms.items():\n",
    "    mu = term.membership(x_vals)\n",
    "    plt.plot(x_vals, mu, cores[term_name] + '-', linewidth=2, label=term_name.capitalize())\n",
    "    plt.fill_between(x_vals, 0, mu, alpha=0.2, color=cores[term_name])\n",
    "\n",
    "plt.xlabel('Nota', fontsize=12)\n",
    "plt.ylabel('Grau de Pertinência', fontsize=12)\n",
    "plt.title('Funções de Pertinência - Nota do Estudante', fontsize=14, fontweight='bold')\n",
    "plt.legend(fontsize=11)\n",
    "plt.grid(True, alpha=0.3)\n",
    "plt.ylim([-0.05, 1.05])\n",
    "plt.tight_layout()\n",
    "plt.show()\n",
    "\n",
    "print(\"✅ Funções de pertinência visualizadas!\")"
   ]
  },
  {
   "cell_type": "markdown",
   "metadata": {
    "id": "rules"
   },
   "source": [
    "## Passo 2: Definir Base de Regras Sugeno Ordem 0\n",
    "\n",
    "### 📜 Base de Regras (Sugeno Ordem 0)\n",
    "\n",
    "Cada regra tem uma **saída constante**:\n",
    "\n",
    "1. **SE** nota é BAIXA **ENTÃO** desempenho = **3.0**\n",
    "2. **SE** nota é MÉDIA **ENTÃO** desempenho = **6.5**\n",
    "3. **SE** nota é ALTA **ENTÃO** desempenho = **9.0**\n",
    "\n",
    "Note que as saídas são valores fixos (constantes), não conjuntos fuzzy!"
   ]
  },
  {
   "cell_type": "code",
   "execution_count": null,
   "metadata": {
    "id": "rules-def"
   },
   "outputs": [],
   "source": [
    "# ============================================================================\n",
    "# Base de Regras Sugeno Ordem 0\n",
    "# ============================================================================\n",
    "\n",
    "# Definir regras com saídas constantes\n",
    "sistema.add_rules([\n",
    "    ('baixa', 3.0),    # SE nota é baixa ENTÃO desempenho = 3.0\n",
    "    ('media', 6.5),    # SE nota é média ENTÃO desempenho = 6.5\n",
    "    ('alta', 9.0)      # SE nota é alta ENTÃO desempenho = 9.0\n",
    "])\n",
    "\n",
    "print(\"📜 Base de Regras Sugeno Ordem 0:\")\n",
    "print(f\"   Regra 1: SE nota é BAIXA → desempenho = 3.0\")\n",
    "print(f\"   Regra 2: SE nota é MÉDIA → desempenho = 6.5\")\n",
    "print(f\"   Regra 3: SE nota é ALTA → desempenho = 9.0\")\n",
    "print(f\"\\n✅ {len(sistema.rule_base)} regras definidas!\")"
   ]
  },
  {
   "cell_type": "markdown",
   "metadata": {
    "id": "example"
   },
   "source": [
    "## Exemplo Detalhado: Nota = 6.5\n",
    "\n",
    "Vamos ver passo a passo o que acontece quando um estudante tem nota 6.5."
   ]
  },
  {
   "cell_type": "code",
   "execution_count": null,
   "metadata": {
    "id": "detailed-example"
   },
   "outputs": [],
   "source": [
    "# ============================================================================\n",
    "# Exemplo Manual Passo a Passo\n",
    "# ============================================================================\n",
    "\n",
    "nota_exemplo = 6.5\n",
    "\n",
    "print(\"=\"*80)\n",
    "print(\"📚 EXEMPLO DETALHADO: SUGENO ORDEM 0\")\n",
    "print(\"=\"*80)\n",
    "print()\n",
    "print(f\"Entrada: nota = {nota_exemplo}\")\n",
    "print()\n",
    "\n",
    "# Fuzzificação (calcular graus de pertinência)\n",
    "graus = sistema.input_variables['nota'].fuzzify(nota_exemplo)\n",
    "\n",
    "print(\"ETAPA 1 - Fuzzificação:\")\n",
    "print(f\"  α₁ (BAIXA) = {graus['baixa']:.3f}\")\n",
    "print(f\"  α₂ (MÉDIA) = {graus['media']:.3f}\")\n",
    "print(f\"  α₃ (ALTA)  = {graus['alta']:.3f}\")\n",
    "print()\n",
    "\n",
    "print(\"ETAPA 2 - Saídas das Regras (Constantes):\")\n",
    "print(f\"  y₁ = 3.0 (constante da Regra 1)\")\n",
    "print(f\"  y₂ = 6.5 (constante da Regra 2)\")\n",
    "print(f\"  y₃ = 9.0 (constante da Regra 3)\")\n",
    "print()\n",
    "\n",
    "# Média ponderada\n",
    "Y_BAIXA, Y_MEDIA, Y_ALTA = 3.0, 6.5, 9.0\n",
    "numerador = graus['baixa'] * Y_BAIXA + graus['media'] * Y_MEDIA + graus['alta'] * Y_ALTA\n",
    "denominador = graus['baixa'] + graus['media'] + graus['alta']\n",
    "y_final = numerador / denominador if denominador > 0 else 0\n",
    "\n",
    "print(\"ETAPA 3 - Média Ponderada (Defuzzificação):\")\n",
    "print(f\"  Numerador   = α₁·y₁ + α₂·y₂ + α₃·y₃\")\n",
    "print(f\"              = {graus['baixa']:.3f}×{Y_BAIXA} + {graus['media']:.3f}×{Y_MEDIA} + {graus['alta']:.3f}×{Y_ALTA}\")\n",
    "print(f\"              = {numerador:.3f}\")\n",
    "print()\n",
    "print(f\"  Denominador = α₁ + α₂ + α₃\")\n",
    "print(f\"              = {graus['baixa']:.3f} + {graus['media']:.3f} + {graus['alta']:.3f}\")\n",
    "print(f\"              = {denominador:.3f}\")\n",
    "print()\n",
    "print(f\"  Resultado   = {numerador:.3f} / {denominador:.3f}\")\n",
    "print(f\"              = {y_final:.3f}\")\n",
    "print()\n",
    "print(\"=\"*80)\n",
    "print(f\"✅ Desempenho final calculado: {y_final:.2f}\")\n",
    "print(\"=\"*80)\n",
    "print()\n",
    "print(\"💡 Observação: É uma média ponderada simples!\")\n",
    "print(\"   As regras com maior ativação (α) têm mais peso no resultado.\")\n",
    "\n",
    "# Comparar com o resultado do sistema\n",
    "resultado_sistema = sistema.evaluate({'nota': nota_exemplo})\n",
    "print(f\"\\n🔍 Verificação usando sistema.evaluate(): {resultado_sistema['desempenho']:.3f}\")"
   ]
  },
  {
   "cell_type": "markdown",
   "metadata": {
    "id": "viz-inference"
   },
   "source": [
    "## Visualização do Processo de Inferência"
   ]
  },
  {
   "cell_type": "code",
   "execution_count": null,
   "metadata": {
    "id": "viz-process"
   },
   "outputs": [],
   "source": [
    "# ============================================================================\n",
    "# Visualizar Processo de Inferência\n",
    "# ============================================================================\n",
    "\n",
    "nota_exemplo = 6.5\n",
    "resultado = sistema.evaluate({'nota': nota_exemplo})\n",
    "desempenho = resultado['desempenho']\n",
    "\n",
    "# Obter graus de pertinência\n",
    "graus = sistema.input_variables['nota'].fuzzify(nota_exemplo)\n",
    "a1, a2, a3 = graus['baixa'], graus['media'], graus['alta']\n",
    "\n",
    "fig, axes = plt.subplots(2, 1, figsize=(12, 10))\n",
    "\n",
    "# ============================================================================\n",
    "# Subplot 1: Fuzzificação\n",
    "# ============================================================================\n",
    "x_vals = np.linspace(0, 10, 200)\n",
    "cores = {'baixa': 'b', 'media': 'y', 'alta': 'r'}\n",
    "\n",
    "for term_name, term in sistema.input_variables['nota'].terms.items():\n",
    "    mu = term.membership(x_vals)\n",
    "    axes[0].plot(x_vals, mu, cores[term_name] + '-', linewidth=2, label=term_name.capitalize())\n",
    "\n",
    "# Linha vertical na nota\n",
    "axes[0].axvline(x=nota_exemplo, color='green', linestyle='--', linewidth=2,\n",
    "                label=f'Nota = {nota_exemplo}')\n",
    "\n",
    "# Pontos de interseção\n",
    "axes[0].plot(nota_exemplo, a1, 'bo', markersize=10, label=f'α₁ = {a1:.3f}')\n",
    "axes[0].plot(nota_exemplo, a2, 'yo', markersize=10, markeredgecolor='black',\n",
    "             label=f'α₂ = {a2:.3f}')\n",
    "axes[0].plot(nota_exemplo, a3, 'ro', markersize=10, label=f'α₃ = {a3:.3f}')\n",
    "\n",
    "axes[0].set_xlabel('Nota', fontsize=12)\n",
    "axes[0].set_ylabel('Grau de Pertinência', fontsize=12)\n",
    "axes[0].set_title('ETAPA 1: Fuzzificação', fontsize=14, fontweight='bold')\n",
    "axes[0].legend(fontsize=10, loc='upper right')\n",
    "axes[0].grid(True, alpha=0.3)\n",
    "axes[0].set_ylim([-0.05, 1.05])\n",
    "\n",
    "# ============================================================================\n",
    "# Subplot 2: Média Ponderada (Barras)\n",
    "# ============================================================================\n",
    "regras = ['Regra 1\\n(Baixa)', 'Regra 2\\n(Média)', 'Regra 3\\n(Alta)']\n",
    "alphas = [a1, a2, a3]\n",
    "saidas = [3.0, 6.5, 9.0]\n",
    "cores_barras = ['blue', 'yellow', 'red']\n",
    "\n",
    "x_pos = np.arange(len(regras))\n",
    "width = 0.35\n",
    "\n",
    "bars1 = axes[1].bar(x_pos - width/2, alphas, width, label='Grau de Ativação (α)',\n",
    "                   color=cores_barras, alpha=0.6, edgecolor='black')\n",
    "bars2 = axes[1].bar(x_pos + width/2, saidas, width, label='Saída da Regra (y)',\n",
    "                   color=cores_barras, alpha=0.3, edgecolor='black', linestyle='--')\n",
    "\n",
    "# Linha horizontal para o resultado final\n",
    "axes[1].axhline(y=desempenho, color='green', linestyle='-', linewidth=3,\n",
    "               label=f'Saída Final = {desempenho:.2f}')\n",
    "\n",
    "# Adicionar valores nas barras\n",
    "for i, (bar, val) in enumerate(zip(bars1, alphas)):\n",
    "    height = bar.get_height()\n",
    "    axes[1].text(bar.get_x() + bar.get_width()/2., height,\n",
    "                f'{val:.3f}', ha='center', va='bottom', fontsize=9)\n",
    "\n",
    "for i, (bar, val) in enumerate(zip(bars2, saidas)):\n",
    "    height = bar.get_height()\n",
    "    axes[1].text(bar.get_x() + bar.get_width()/2., height,\n",
    "                f'{val:.1f}', ha='center', va='bottom', fontsize=9)\n",
    "\n",
    "axes[1].set_xlabel('Regras', fontsize=12)\n",
    "axes[1].set_ylabel('Valor', fontsize=12)\n",
    "axes[1].set_title('ETAPA 2: Média Ponderada', fontsize=14, fontweight='bold')\n",
    "axes[1].set_xticks(x_pos)\n",
    "axes[1].set_xticklabels(regras)\n",
    "axes[1].legend(fontsize=10)\n",
    "axes[1].grid(True, alpha=0.3, axis='y')\n",
    "axes[1].set_ylim([0, 10])\n",
    "\n",
    "plt.tight_layout()\n",
    "plt.show()\n",
    "\n",
    "print(\"✅ Processo de inferência visualizado!\")"
   ]
  },
  {
   "cell_type": "markdown",
   "metadata": {
    "id": "test-multiple"
   },
   "source": [
    "## Testar com Múltiplas Entradas"
   ]
  },
  {
   "cell_type": "code",
   "execution_count": null,
   "metadata": {
    "id": "test-cases"
   },
   "outputs": [],
   "source": [
    "# ============================================================================\n",
    "# Testar Vários Casos\n",
    "# ============================================================================\n",
    "\n",
    "print(\"=\"*80)\n",
    "print(\"🧪 TESTANDO SISTEMA SUGENO ORDEM 0\")\n",
    "print(\"=\"*80)\n",
    "print()\n",
    "\n",
    "casos_teste = [2.0, 4.0, 5.0, 6.5, 7.5, 8.5, 10.0]\n",
    "\n",
    "print(f\"{'Nota':<10} {'α₁(Baixa)':<12} {'α₂(Média)':<12} {'α₃(Alta)':<12} {'Desempenho'}\")\n",
    "print(\"-\" * 80)\n",
    "\n",
    "for nota in casos_teste:\n",
    "    graus = sistema.input_variables['nota'].fuzzify(nota)\n",
    "    resultado = sistema.evaluate({'nota': nota})\n",
    "    desempenho = resultado['desempenho']\n",
    "    \n",
    "    print(f\"{nota:<10.1f} {graus['baixa']:<12.3f} {graus['media']:<12.3f} {graus['alta']:<12.3f} {desempenho:<.2f}\")\n",
    "\n",
    "print(\"\\n\" + \"=\"*80)\n",
    "print(\"✅ Testes concluídos!\")"
   ]
  },
  {
   "cell_type": "markdown",
   "metadata": {
    "id": "surface"
   },
   "source": [
    "## Curva de Resposta do Sistema"
   ]
  },
  {
   "cell_type": "code",
   "execution_count": null,
   "metadata": {
    "id": "response-curve"
   },
   "outputs": [],
   "source": [
    "# ============================================================================\n",
    "# Plotar Curva de Resposta\n",
    "# ============================================================================\n",
    "\n",
    "notas = np.linspace(0, 10, 100)\n",
    "desempenhos = [sistema.evaluate({'nota': n})['desempenho'] for n in notas]\n",
    "\n",
    "plt.figure(figsize=(12, 6))\n",
    "plt.plot(notas, desempenhos, 'b-', linewidth=3, label='Sugeno Ordem 0')\n",
    "\n",
    "# Adicionar linhas horizontais para as saídas constantes\n",
    "plt.axhline(y=3.0, color='blue', linestyle='--', alpha=0.3, label='y₁ = 3.0')\n",
    "plt.axhline(y=6.5, color='yellow', linestyle='--', alpha=0.3, label='y₂ = 6.5')\n",
    "plt.axhline(y=9.0, color='red', linestyle='--', alpha=0.3, label='y₃ = 9.0')\n",
    "\n",
    "# Adicionar alguns pontos de exemplo\n",
    "exemplos = [2, 5, 6.5, 8, 10]\n",
    "for nota in exemplos:\n",
    "    desemp = sistema.evaluate({'nota': nota})['desempenho']\n",
    "    plt.plot(nota, desemp, 'ro', markersize=8, markeredgecolor='black', markeredgewidth=1.5)\n",
    "    plt.annotate(f'({nota:.1f}, {desemp:.2f})', (nota, desemp),\n",
    "                xytext=(5, 10), textcoords='offset points', fontsize=9,\n",
    "                bbox=dict(boxstyle='round,pad=0.3', facecolor='yellow', alpha=0.3))\n",
    "\n",
    "plt.xlabel('Nota do Estudante', fontsize=12)\n",
    "plt.ylabel('Desempenho Avaliado', fontsize=12)\n",
    "plt.title('Curva de Resposta - Sugeno Ordem 0', fontsize=14, fontweight='bold')\n",
    "plt.legend(fontsize=10)\n",
    "plt.grid(True, alpha=0.3)\n",
    "plt.xlim([0, 10])\n",
    "plt.ylim([0, 10])\n",
    "plt.tight_layout()\n",
    "plt.show()\n",
    "\n",
    "print(\"✅ Curva de resposta gerada!\")\n",
    "print(\"\\n💡 Observações:\")\n",
    "print(\"   • A curva é suave, mas apresenta 'degraus' nas transições\")\n",
    "print(\"   • Os valores tendem para as constantes das regras (3.0, 6.5, 9.0)\")\n",
    "print(\"   • As linhas tracejadas mostram as saídas de cada regra\")"
   ]
  }
 ],
 "metadata": {
  "colab": {
   "name": "02_sugeno_ordem_zero.ipynb",
   "provenance": []
  },
  "kernelspec": {
   "display_name": "generico (3.11.9)",
   "language": "python",
   "name": "python3"
  },
  "language_info": {
   "codemirror_mode": {
    "name": "ipython",
    "version": 3
   },
   "file_extension": ".py",
   "mimetype": "text/x-python",
   "name": "python",
   "nbconvert_exporter": "python",
   "pygments_lexer": "ipython3",
   "version": "3.11.9"
  }
 },
 "nbformat": 4,
 "nbformat_minor": 0
}