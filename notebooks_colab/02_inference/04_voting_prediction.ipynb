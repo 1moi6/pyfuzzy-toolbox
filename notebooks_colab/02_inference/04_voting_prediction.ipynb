{
 "cells": [
  {
   "cell_type": "markdown",
   "metadata": {
    "id": "intro"
   },
   "source": [
    "# Atividade Prática: Sistema de Predição de Voto\n\n##  Contexto\n\nVamos criar um sistema de inferência fuzzy para prever a **chance de um eleitor votar** em um candidato, baseado em:\n- **Renda Familiar** (0 a 30 mil R$)\n- **Escolaridade** (0 a 15 anos de estudo)\n\nEste é um exemplo didático para praticar sistemas fuzzy com múltiplas entradas!\n\n---"
   ]
  },
  {
   "cell_type": "markdown",
   "metadata": {
    "id": "install"
   },
   "source": [
    "### Setup"
   ]
  },
  {
   "cell_type": "code",
   "execution_count": null,
   "metadata": {
    "id": "install-package"
   },
   "outputs": [],
   "source": [
    "!pip install pyfuzzy-toolbox -q\n",
    "\n",
    "print('✅ pyfuzzy-toolbox instalado!')"
   ]
  },
  {
   "cell_type": "code",
   "execution_count": null,
   "metadata": {
    "id": "setup"
   },
   "outputs": [],
   "source": [
    "import numpy as np\n",
    "import matplotlib.pyplot as plt\n",
    "from mpl_toolkits.mplot3d import Axes3D\n",
    "import fuzzy_systems as fs\n",
    "from fuzzy_systems import MamdaniSystem\n",
    "\n",
    "%matplotlib inline\n",
    "plt.rcParams['figure.figsize'] = (12, 6)\n",
    "\n",
    "print('✅ Bibliotecas carregadas!')\n",
    "print(f'   pyfuzzy-toolbox: {fs.__version__}')"
   ]
  },
  {
   "cell_type": "markdown",
   "metadata": {
    "id": "step1"
   },
   "source": [
    "### Step 1"
   ]
  },
  {
   "cell_type": "code",
   "execution_count": null,
   "metadata": {
    "id": "create-vars"
   },
   "outputs": [],
   "source": [
    "# ============================================================================\n",
    "# Criar Sistema Mamdani\n",
    "# ============================================================================\n",
    "\n",
    "sistema = MamdaniSystem()\n",
    "\n",
    "# ============================================================================\n",
    "# Variável 1: Renda Familiar\n",
    "# ============================================================================\n",
    "\n",
    "sistema.add_input('renda', (0, 30))\n",
    "\n",
    "sistema.add_term('renda', 'baixa', 'trapezoidal', (0, 0, 5, 15))\n",
    "sistema.add_term('renda', 'media', 'trapezoidal', (5, 15, 20, 25))\n",
    "sistema.add_term('renda', 'alta', 'trapezoidal', (20, 25, 30, 30))\n",
    "\n",
    "# ============================================================================\n",
    "# Variável 2: Escolaridade\n",
    "# ============================================================================\n",
    "\n",
    "sistema.add_input('escolaridade', (0, 15))\n",
    "\n",
    "sistema.add_term('escolaridade', 'baixa', 'trapezoidal', (0, 0, 3, 6))\n",
    "sistema.add_term('escolaridade', 'media', 'triangular', (4, 7.5, 11))\n",
    "sistema.add_term('escolaridade', 'alta', 'trapezoidal', (9, 12, 15, 15))\n",
    "\n",
    "# ============================================================================\n",
    "# Saída: Chance de Votar (0 a 100%)\n",
    "# ============================================================================\n",
    "\n",
    "sistema.add_output('chance_voto', (0, 100))\n",
    "\n",
    "sistema.add_term('chance_voto', 'baixa', 'triangular', (0, 0, 50))\n",
    "sistema.add_term('chance_voto', 'media', 'triangular', (25, 50, 75))\n",
    "sistema.add_term('chance_voto', 'alta', 'triangular', (50, 100, 100))\n",
    "\n",
    "print('✅ Variáveis definidas!')\n",
    "print('   • Renda: baixa, media, alta')\n",
    "print('   • Escolaridade: baixa, media, alta')\n",
    "print('   • Chance de voto: baixa, media, alta')"
   ]
  },
  {
   "cell_type": "markdown",
   "metadata": {
    "id": "viz"
   },
   "source": [
    "## Visualizar Funções de Pertinência"
   ]
  },
  {
   "cell_type": "code",
   "execution_count": null,
   "metadata": {
    "id": "viz-mf"
   },
   "outputs": [],
   "source": [
    "fig, axes = plt.subplots(3, 1, figsize=(12, 12))\n",
    "\n",
    "# Renda\n",
    "x_renda = np.linspace(0, 30, 200)\n",
    "for term_name, term in sistema.input_variables['renda'].terms.items():\n",
    "    mu = term.membership(x_renda)\n",
    "    axes[0].plot(x_renda, mu, linewidth=2, label=term_name.capitalize())\n",
    "    axes[0].fill_between(x_renda, 0, mu, alpha=0.2)\n",
    "\n",
    "axes[0].set_title('Renda Familiar (mil R$)', fontsize=14, fontweight='bold')\n",
    "axes[0].set_xlabel('Renda (mil R$)')\n",
    "axes[0].set_ylabel('Grau de Pertinência')\n",
    "axes[0].legend()\n",
    "axes[0].grid(True, alpha=0.3)\n",
    "axes[0].set_ylim([-0.05, 1.05])\n",
    "\n",
    "# Escolaridade\n",
    "x_esc = np.linspace(0, 15, 200)\n",
    "for term_name, term in sistema.input_variables['escolaridade'].terms.items():\n",
    "    mu = term.membership(x_esc)\n",
    "    axes[1].plot(x_esc, mu, linewidth=2, label=term_name.capitalize())\n",
    "    axes[1].fill_between(x_esc, 0, mu, alpha=0.2)\n",
    "\n",
    "axes[1].set_title('Escolaridade (anos)', fontsize=14, fontweight='bold')\n",
    "axes[1].set_xlabel('Anos de Estudo')\n",
    "axes[1].set_ylabel('Grau de Pertinência')\n",
    "axes[1].legend()\n",
    "axes[1].grid(True, alpha=0.3)\n",
    "axes[1].set_ylim([-0.05, 1.05])\n",
    "\n",
    "# Chance de Voto\n",
    "x_chance = np.linspace(0, 100, 200)\n",
    "for term_name, term in sistema.output_variables['chance_voto'].terms.items():\n",
    "    mu = term.membership(x_chance)\n",
    "    axes[2].plot(x_chance, mu, linewidth=2, label=term_name.capitalize())\n",
    "    axes[2].fill_between(x_chance, 0, mu, alpha=0.2)\n",
    "\n",
    "axes[2].set_title('Chance de Votar (%)', fontsize=14, fontweight='bold')\n",
    "axes[2].set_xlabel('Chance (%)')\n",
    "axes[2].set_ylabel('Grau de Pertinência')\n",
    "axes[2].legend()\n",
    "axes[2].grid(True, alpha=0.3)\n",
    "axes[2].set_ylim([-0.05, 1.05])\n",
    "\n",
    "plt.tight_layout()\n",
    "plt.show()\n",
    "\n",
    "print('✅ Funções visualizadas!')"
   ]
  },
  {
   "cell_type": "markdown",
   "metadata": {
    "id": "rules"
   },
   "source": [
    "### Step 2"
   ]
  },
  {
   "cell_type": "code",
   "execution_count": null,
   "metadata": {
    "id": "create-rules"
   },
   "outputs": [],
   "source": [
    "# ============================================================================\n",
    "# Definir Regras - BASEADAS EM PADRÕES ELEITORAIS REAIS\n",
    "# ============================================================================\n",
    "\n",
    "# Padrões observados em eleições:\n",
    "# - Alta escolaridade + Qualquer renda → Maior probabilidade progressista\n",
    "# - Baixa renda + Baixa escolaridade → Varia por região e perfil do candidato\n",
    "# - Alta renda + Baixa escolaridade → Tende conservador\n",
    "# - Classe média educada → Forte tendência progressista urbana\n",
    "\n",
    "sistema.add_rules([\n",
    "    # Alta escolaridade geralmente aumenta voto progressista\n",
    "    {'renda': 'alta', 'escolaridade': 'alta', 'chance_voto': 'alta'},      # Classe alta educada urbana\n",
    "    {'renda': 'media', 'escolaridade': 'alta', 'chance_voto': 'alta'},     # Classe média educada (base progressista forte)\n",
    "    {'renda': 'baixa', 'escolaridade': 'alta', 'chance_voto': 'alta'},     # Baixa renda educada (consciência social)\n",
    "    \n",
    "    # Escolaridade média mostra padrão misto\n",
    "    {'renda': 'alta', 'escolaridade': 'media', 'chance_voto': 'media'},    # Burguesia sem formação superior\n",
    "    {'renda': 'media', 'escolaridade': 'media', 'chance_voto': 'media'},   # Classe média intermediária\n",
    "    {'renda': 'baixa', 'escolaridade': 'media', 'chance_voto': 'media'},   # Trabalhadores com ensino médio\n",
    "    \n",
    "    # Baixa escolaridade tende a padrões mais conservadores ou populistas\n",
    "    {'renda': 'alta', 'escolaridade': 'baixa', 'chance_voto': 'baixa'},    # Elite sem educação formal\n",
    "    {'renda': 'media', 'escolaridade': 'baixa', 'chance_voto': 'baixa'},   # Pequenos empresários tradicionais\n",
    "    {'renda': 'baixa', 'escolaridade': 'baixa', 'chance_voto': 'media'}    # Base popular (depende de pautas sociais)\n",
    "])\n",
    "\n",
    "# print('📜 Base de Regras (Baseada em Padrões Eleitorais Reais):')\n",
    "# print('   R1: SE renda ALTA E escolaridade ALTA → chance ALTA (elite progressista urbana)')\n",
    "# print('   R2: SE renda MÉDIA E escolaridade ALTA → chance ALTA (classe média educada)')\n",
    "# print('   R3: SE renda BAIXA E escolaridade ALTA → chance ALTA (consciência social)')\n",
    "# print('   R4: SE renda ALTA E escolaridade MÉDIA → chance MÉDIA (burguesia intermediária)')\n",
    "# print('   R5: SE renda MÉDIA E escolaridade MÉDIA → chance MÉDIA (grupo swing)')\n",
    "# print('   R6: SE renda BAIXA E escolaridade MÉDIA → chance MÉDIA (trabalhadores urbanos)')\n",
    "# print('   R7: SE renda ALTA E escolaridade BAIXA → chance BAIXA (elite tradicional)')\n",
    "# print('   R8: SE renda MÉDIA E escolaridade BAIXA → chance BAIXA (pequenos empresários)')\n",
    "# print('   R9: SE renda BAIXA E escolaridade BAIXA → chance MÉDIA (voto clientelista/social)')\n",
    "\n",
    "print(f'\\n✅ {len(sistema.rule_base.rules)} regras criadas!')\n",
    "\n",
    "sistema.plot_rule_matrix()\n"
   ]
  },
  {
   "cell_type": "markdown",
   "metadata": {
    "id": "test"
   },
   "source": [
    "### Step 3"
   ]
  },
  {
   "cell_type": "code",
   "execution_count": null,
   "metadata": {
    "id": "test-case"
   },
   "outputs": [],
   "source": [
    "# ============================================================================\n",
    "# Caso de Teste: Renda=22, Escolaridade=12\n",
    "# ============================================================================\n",
    "\n",
    "print('='*70)\n",
    "print('🧪 TESTE: Renda=22 mil, Escolaridade=12 anos')\n",
    "print('='*70)\n",
    "\n",
    "resultado = sistema.evaluate({\n",
    "    'renda': 22,\n",
    "    'escolaridade': 12\n",
    "})\n",
    "\n",
    "chance = resultado['chance_voto']\n",
    "\n",
    "print(f'\\n📊 Resultado: Chance de votar = {chance:.2f}%')\n",
    "\n",
    "# Mostrar fuzzificação\n",
    "graus_renda = sistema.input_variables['renda'].fuzzify(22)\n",
    "graus_esc = sistema.input_variables['escolaridade'].fuzzify(12)\n",
    "\n",
    "print(f'\\nGraus de pertinência (Renda=22):')\n",
    "for termo, mu in graus_renda.items():\n",
    "    print(f'  {termo}: {mu:.3f}')\n",
    "\n",
    "print(f'\\nGraus de pertinência (Escolaridade=12):')\n",
    "for termo, mu in graus_esc.items():\n",
    "    print(f'  {termo}: {mu:.3f}')\n",
    "\n",
    "print('='*70)"
   ]
  },
  {
   "cell_type": "markdown",
   "metadata": {
    "id": "multiple"
   },
   "source": [
    "## Testar Múltiplos Cenários"
   ]
  },
  {
   "cell_type": "code",
   "execution_count": null,
   "metadata": {
    "id": "test-multiple"
   },
   "outputs": [],
   "source": [
    "print('='*80)\n",
    "print('🧪 TESTANDO MÚLTIPLOS CENÁRIOS')\n",
    "print('='*80)\n",
    "print()\n",
    "\n",
    "cenarios = [\n",
    "    (5, 3, 'Baixa renda, baixa escolaridade'),\n",
    "    (15, 8, 'Renda média, escolaridade média'),\n",
    "    (25, 12, 'Alta renda, alta escolaridade'),\n",
    "    (10, 12, 'Renda média, alta escolaridade'),\n",
    "    (28, 5, 'Alta renda, baixa escolaridade'),\n",
    "]\n",
    "\n",
    "print(f'{\"Renda\":<8} {\"Escol\":<8} {\"Chance (%)\":<12} {\"Cenário\"}')\n",
    "print('-'*80)\n",
    "\n",
    "for r, e, descricao in cenarios:\n",
    "    resultado = sistema.evaluate({\n",
    "        'renda': r,\n",
    "        'escolaridade': e\n",
    "    })\n",
    "    c = resultado['chance_voto']\n",
    "    print(f'{r:<8} {e:<8} {c:<12.2f} {descricao}')\n",
    "\n",
    "print('\\n' + '='*80)\n",
    "print('✅ Testes concluídos!')"
   ]
  },
  {
   "cell_type": "markdown",
   "metadata": {
    "id": "surface"
   },
   "source": [
    "## Superfície de Controle 3D"
   ]
  },
  {
   "cell_type": "code",
   "execution_count": null,
   "metadata": {
    "id": "surface-3d"
   },
   "outputs": [],
   "source": [
    "print('🔄 Gerando superfície de controle...')\n",
    "\n",
    "# Criar grid\n",
    "renda_range = np.linspace(0, 30, 30)\n",
    "esc_range = np.linspace(0, 15, 30)\n",
    "RENDA, ESC = np.meshgrid(renda_range, esc_range)\n",
    "\n",
    "# Calcular chance para cada ponto\n",
    "CHANCE = np.zeros_like(RENDA)\n",
    "for i in range(RENDA.shape[0]):\n",
    "    for j in range(RENDA.shape[1]):\n",
    "        try:\n",
    "            resultado = sistema.evaluate({\n",
    "                'renda': RENDA[i,j],\n",
    "                'escolaridade': ESC[i,j]\n",
    "            })\n",
    "            CHANCE[i,j] = resultado['chance_voto']\n",
    "        except:\n",
    "            CHANCE[i,j] = np.nan\n",
    "\n",
    "# Plotar\n",
    "fig = plt.figure(figsize=(16, 7))\n",
    "\n",
    "ax1 = fig.add_subplot(121, projection='3d')\n",
    "surf = ax1.plot_surface(RENDA, ESC, CHANCE, cmap='RdYlGn', alpha=0.9)\n",
    "ax1.set_xlabel('Renda Familiar (mil R$)', fontsize=11)\n",
    "ax1.set_ylabel('Escolaridade (anos)', fontsize=11)\n",
    "ax1.set_zlabel('Chance de Votar (%)', fontsize=11)\n",
    "ax1.set_title('Superfície de Controle 3D', fontsize=13, fontweight='bold')\n",
    "ax1.view_init(elev=20, azim=135)\n",
    "fig.colorbar(surf, ax=ax1, shrink=0.5, label='Chance (%)')\n",
    "\n",
    "ax2 = fig.add_subplot(122)\n",
    "contour = ax2.contourf(RENDA, ESC, CHANCE, levels=15, cmap='RdYlGn')\n",
    "ax2.set_xlabel('Renda Familiar (mil R$)', fontsize=12)\n",
    "ax2.set_ylabel('Escolaridade (anos)', fontsize=12)\n",
    "ax2.set_title('Mapa de Contorno', fontsize=13, fontweight='bold')\n",
    "fig.colorbar(contour, ax=ax2, label='Chance (%)')\n",
    "ax2.grid(True, alpha=0.3)\n",
    "\n",
    "plt.tight_layout()\n",
    "plt.show()\n",
    "\n",
    "print('✅ Superfície gerada!')\n",
    "print('\\n💡 Cores verdes = maior chance de votar')\n",
    "print('   Cores vermelhas = menor chance de votar')"
   ]
  }
 ],
 "metadata": {
  "colab": {
   "name": "04_atividade_predicao_voto.ipynb",
   "provenance": []
  },
  "kernelspec": {
   "display_name": "Python 3",
   "language": "python",
   "name": "python3"
  },
  "language_info": {
   "name": "python",
   "version": "3.8.0"
  }
 },
 "nbformat": 4,
 "nbformat_minor": 0
}