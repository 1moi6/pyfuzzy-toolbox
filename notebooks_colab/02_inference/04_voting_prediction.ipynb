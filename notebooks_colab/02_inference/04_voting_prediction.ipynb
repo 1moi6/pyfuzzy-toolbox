{
 "cells": [
  {
   "cell_type": "markdown",
   "metadata": {},
   "source": [
    "# Voting Prediction with Fuzzy System\n",
    "\n",
    "**Political Analysis Example**"
   ]
  },
  {
   "cell_type": "code",
   "execution_count": null,
   "metadata": {},
   "outputs": [],
   "source": [
    "!pip install pyfuzzy-toolbox -q"
   ]
  },
  {
   "cell_type": "code",
   "execution_count": null,
   "metadata": {},
   "outputs": [],
   "source": [
    "import numpy as np\n",
    "import matplotlib.pyplot as plt\n",
    "from fuzzy_systems.inference import MamdaniSystem\n",
    "\n",
    "%matplotlib inline"
   ]
  },
  {
   "cell_type": "markdown",
   "metadata": {},
   "source": [
    "### 1. Create Mamdani System"
   ]
  },
  {
   "cell_type": "code",
   "execution_count": null,
   "metadata": {},
   "outputs": [],
   "source": [
    "# Create Mamdani system\n",
    "fis = MamdaniSystem()\n",
    "\n",
    "# Add input variables\n",
    "economy = fis.add_input('economy', (0, 10))\n",
    "approval = fis.add_input('approval', (0, 10))\n",
    "\n",
    "# Add output variable\n",
    "vote = fis.add_output('vote', (0, 100))\n",
    "\n",
    "# Add terms to inputs\n",
    "fis.add_term('economy', 'low', 'triangular', (0, 0, 5))\n",
    "fis.add_term('economy', 'medium', 'triangular', (2, 5, 8))\n",
    "fis.add_term('economy', 'high', 'triangular', (5, 10, 10))\n",
    "\n",
    "fis.add_term('approval', 'low', 'triangular', (0, 0, 5))\n",
    "fis.add_term('approval', 'medium', 'triangular', (2, 5, 8))\n",
    "fis.add_term('approval', 'high', 'triangular', (5, 10, 10))\n",
    "\n",
    "# Add terms to output\n",
    "fis.add_term('vote', 'low', 'triangular', (0, 0, 50))\n",
    "fis.add_term('vote', 'medium', 'triangular', (20, 50, 80))\n",
    "fis.add_term('vote', 'high', 'triangular', (50, 100, 100))\n",
    "\n",
    "# Visualize\n",
    "fis.plot_variables(figsize=(14, 4))"
   ]
  },
  {
   "cell_type": "markdown",
   "metadata": {},
   "source": [
    "### 2. Define Fuzzy Rules"
   ]
  },
  {
   "cell_type": "code",
   "execution_count": null,
   "metadata": {},
   "outputs": [],
   "source": [
    "# Political rules\n",
    "fis.add_rule(\"IF economy IS low AND approval IS low THEN vote IS low\")\n",
    "fis.add_rule(\"IF economy IS low AND approval IS medium THEN vote IS low\")\n",
    "fis.add_rule(\"IF economy IS medium AND approval IS low THEN vote IS low\")\n",
    "fis.add_rule(\"IF economy IS medium AND approval IS medium THEN vote IS medium\")\n",
    "fis.add_rule(\"IF economy IS high OR approval IS high THEN vote IS high\")\n",
    "\n",
    "fis.print_rules()"
   ]
  },
  {
   "cell_type": "markdown",
   "metadata": {},
   "source": [
    "### 3. Test Predictions"
   ]
  },
  {
   "cell_type": "code",
   "execution_count": null,
   "metadata": {},
   "outputs": [],
   "source": [
    "# Test scenarios\n",
    "scenarios = [\n",
    "    (2, 3, 'Low economy, low approval'),\n",
    "    (5, 5, 'Moderate both'),\n",
    "    (8, 7, 'Good economy, good approval'),\n",
    "    (3, 8, 'Low economy, high approval'),\n",
    "    (8, 3, 'High economy, low approval')\n",
    "]\n",
    "\n",
    "for e, a, desc in scenarios:\n",
    "    result = fis.evaluate(economy=e, approval=a)\n",
    "    print(f\"{desc:35s} → Vote probability: {result['vote']:5.1f}%\")"
   ]
  },
  {
   "cell_type": "markdown",
   "metadata": {},
   "source": [
    "### 4. Decision Surface"
   ]
  },
  {
   "cell_type": "code",
   "execution_count": null,
   "metadata": {},
   "outputs": [],
   "source": [
    "# Generate surface\n",
    "econ_range = np.linspace(0, 10, 30)\n",
    "appr_range = np.linspace(0, 10, 30)\n",
    "vote_surface = np.zeros((len(appr_range), len(econ_range)))\n",
    "\n",
    "for i, a in enumerate(appr_range):\n",
    "    for j, e in enumerate(econ_range):\n",
    "        result = fis.evaluate(economy=e, approval=a)\n",
    "        vote_surface[i, j] = result['vote']\n",
    "\n",
    "# Contour plot\n",
    "E, A = np.meshgrid(econ_range, appr_range)\n",
    "plt.figure(figsize=(10, 8))\n",
    "contour = plt.contourf(E, A, vote_surface, levels=15, cmap='RdYlGn')\n",
    "plt.colorbar(contour, label='Vote Probability (%)')\n",
    "plt.xlabel('Economic Satisfaction')\n",
    "plt.ylabel('Government Approval')\n",
    "plt.title('Voting Prediction Map')\n",
    "plt.grid(True, alpha=0.3)\n",
    "plt.show()"
   ]
  },
  {
   "cell_type": "markdown",
   "metadata": {},
   "source": [
    "### 🎯 Exercise: Add More Variables"
   ]
  },
  {
   "cell_type": "code",
   "execution_count": null,
   "metadata": {},
   "outputs": [],
   "source": [
    "# TODO: Add a third variable (e.g., 'security', 'healthcare')\n",
    "# Example structure:\n",
    "# security = fis.add_input('security', (0, 10))\n",
    "# fis.add_term('security', 'low', 'triangular', (0, 0, 5))\n",
    "# fis.add_term('security', 'high', 'triangular', (5, 10, 10))\n",
    "# fis.add_rule(\"IF economy IS high AND security IS high THEN vote IS high\")"
   ]
  }
 ],
 "metadata": {
  "colab": {
   "name": "04_atividade_predicao_voto.ipynb",
   "provenance": []
  },
  "kernelspec": {
   "display_name": "Python 3",
   "language": "python",
   "name": "python3"
  },
  "language_info": {
   "name": "python",
   "version": "3.8.0"
  }
 },
 "nbformat": 4,
 "nbformat_minor": 0
}