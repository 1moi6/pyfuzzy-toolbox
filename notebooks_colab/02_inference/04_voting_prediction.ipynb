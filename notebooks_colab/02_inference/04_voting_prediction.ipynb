{
 "cells": [
  {
   "cell_type": "markdown",
   "metadata": {},
   "source": [
    "# Voting Prediction with Fuzzy System\n",
    "\n",
    "**Political Analysis Example**"
   ]
  },
  {
   "cell_type": "code",
   "execution_count": null,
   "metadata": {},
   "outputs": [],
   "source": [
    "!pip install pyfuzzy-toolbox -q"
   ]
  },
  {
   "cell_type": "code",
   "execution_count": null,
   "metadata": {},
   "outputs": [],
   "source": [
    "import numpy as np\n",
    "import matplotlib.pyplot as plt\n",
    "from fuzzy_systems.core import LinguisticVariable\n",
    "from fuzzy_systems.inference import MamdaniSystem\n",
    "\n",
    "%matplotlib inline"
   ]
  },
  {
   "cell_type": "markdown",
   "metadata": {},
   "source": [
    "### 1. Input Variables"
   ]
  },
  {
   "cell_type": "code",
   "execution_count": null,
   "metadata": {},
   "outputs": [],
   "source": [
    "# Economic satisfaction: low, medium, high\n",
    "economy = LinguisticVariable('economy', universe=(0, 10))\n",
    "economy.add_term('low', 'triangular', (0, 0, 5))\n",
    "economy.add_term('medium', 'triangular', (2, 5, 8))\n",
    "economy.add_term('high', 'triangular', (5, 10, 10))\n",
    "\n",
    "# Government approval: low, medium, high\n",
    "approval = LinguisticVariable('approval', universe=(0, 10))\n",
    "approval.add_term('low', 'triangular', (0, 0, 5))\n",
    "approval.add_term('medium', 'triangular', (2, 5, 8))\n",
    "approval.add_term('high', 'triangular', (5, 10, 10))\n",
    "\n",
    "# Visualize\n",
    "fig, (ax1, ax2) = plt.subplots(1, 2, figsize=(14, 4))\n",
    "economy.plot(ax=ax1, show=False)\n",
    "ax1.set_title('Economic Satisfaction')\n",
    "approval.plot(ax=ax2, show=False)\n",
    "ax2.set_title('Government Approval')\n",
    "plt.tight_layout()\n",
    "plt.show()"
   ]
  },
  {
   "cell_type": "markdown",
   "metadata": {},
   "source": [
    "### 2. Output Variable"
   ]
  },
  {
   "cell_type": "code",
   "execution_count": null,
   "metadata": {},
   "outputs": [],
   "source": [
    "# Vote probability: low, medium, high\n",
    "vote = LinguisticVariable('vote', universe=(0, 100))\n",
    "vote.add_term('low', 'triangular', (0, 0, 50))\n",
    "vote.add_term('medium', 'triangular', (20, 50, 80))\n",
    "vote.add_term('high', 'triangular', (50, 100, 100))\n",
    "\n",
    "vote.plot(figsize=(12, 4), show=True)"
   ]
  },
  {
   "cell_type": "markdown",
   "metadata": {},
   "source": [
    "### 3. Fuzzy Rules"
   ]
  },
  {
   "cell_type": "code",
   "execution_count": null,
   "metadata": {},
   "outputs": [],
   "source": [
    "# Create Mamdani system\n",
    "fis = MamdaniSystem()\n",
    "fis.add_input_variable(economy)\n",
    "fis.add_input_variable(approval)\n",
    "fis.add_output_variable(vote)\n",
    "\n",
    "# Political rules\n",
    "fis.add_rule(\"IF economy IS low AND approval IS low THEN vote IS low\")\n",
    "fis.add_rule(\"IF economy IS low AND approval IS medium THEN vote IS low\")\n",
    "fis.add_rule(\"IF economy IS medium AND approval IS low THEN vote IS low\")\n",
    "fis.add_rule(\"IF economy IS medium AND approval IS medium THEN vote IS medium\")\n",
    "fis.add_rule(\"IF economy IS high OR approval IS high THEN vote IS high\")\n",
    "\n",
    "print(f\"Voting prediction system with {len(fis.rules)} rules\")"
   ]
  },
  {
   "cell_type": "markdown",
   "metadata": {},
   "source": [
    "### 4. Test Predictions"
   ]
  },
  {
   "cell_type": "code",
   "execution_count": null,
   "metadata": {},
   "outputs": [],
   "source": [
    "# Test scenarios\n",
    "scenarios = [\n",
    "    {'economy': 2, 'approval': 3, 'desc': 'Low economy, low approval'},\n",
    "    {'economy': 5, 'approval': 5, 'desc': 'Moderate both'},\n",
    "    {'economy': 8, 'approval': 7, 'desc': 'Good economy, good approval'},\n",
    "    {'economy': 3, 'approval': 8, 'desc': 'Low economy, high approval'},\n",
    "    {'economy': 8, 'approval': 3, 'desc': 'High economy, low approval'}\n",
    "]\n",
    "\n",
    "for s in scenarios:\n",
    "    inputs = {'economy': s['economy'], 'approval': s['approval']}\n",
    "    result = fis.infer(inputs, method='centroid')\n",
    "    print(f\"{s['desc']:35s} → Vote probability: {result['vote']:5.1f}%\")"
   ]
  },
  {
   "cell_type": "markdown",
   "metadata": {},
   "source": [
    "### 5. Decision Surface"
   ]
  },
  {
   "cell_type": "code",
   "execution_count": null,
   "metadata": {},
   "outputs": [],
   "source": [
    "# Generate surface\n",
    "econ_range = np.linspace(0, 10, 30)\n",
    "appr_range = np.linspace(0, 10, 30)\n",
    "vote_surface = np.zeros((len(appr_range), len(econ_range)))\n",
    "\n",
    "for i, a in enumerate(appr_range):\n",
    "    for j, e in enumerate(econ_range):\n",
    "        result = fis.infer({'economy': e, 'approval': a}, method='centroid')\n",
    "        vote_surface[i, j] = result['vote']\n",
    "\n",
    "# Contour plot\n",
    "E, A = np.meshgrid(econ_range, appr_range)\n",
    "plt.figure(figsize=(10, 8))\n",
    "contour = plt.contourf(E, A, vote_surface, levels=15, cmap='RdYlGn')\n",
    "plt.colorbar(contour, label='Vote Probability (%)')\n",
    "plt.xlabel('Economic Satisfaction')\n",
    "plt.ylabel('Government Approval')\n",
    "plt.title('Voting Prediction Map')\n",
    "plt.grid(True, alpha=0.3)\n",
    "plt.show()"
   ]
  },
  {
   "cell_type": "markdown",
   "metadata": {},
   "source": [
    "### 🎯 Exercise: Add More Variables"
   ]
  },
  {
   "cell_type": "code",
   "execution_count": null,
   "metadata": {},
   "outputs": [],
   "source": [
    "# TODO: Add a third variable (e.g., 'security', 'healthcare')\n",
    "# Create new LinguisticVariable\n",
    "# Add it to the system\n",
    "# Create new rules incorporating the third variable\n",
    "\n",
    "# Example structure:\n",
    "# security = LinguisticVariable('security', universe=(0, 10))\n",
    "# security.add_term('low', 'triangular', (0, 0, 5))\n",
    "# security.add_term('high', 'triangular', (5, 10, 10))\n",
    "# fis.add_input_variable(security)\n",
    "# fis.add_rule(\"IF economy IS high AND security IS high THEN vote IS high\")"
   ]
  }
 ],
 "metadata": {
  "colab": {
   "name": "04_atividade_predicao_voto.ipynb",
   "provenance": []
  },
  "kernelspec": {
   "display_name": "Python 3",
   "language": "python",
   "name": "python3"
  },
  "language_info": {
   "name": "python",
   "version": "3.8.0"
  }
 },
 "nbformat": 4,
 "nbformat_minor": 0
}