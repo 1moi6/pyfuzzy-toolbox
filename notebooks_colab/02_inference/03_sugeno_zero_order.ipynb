{
 "cells": [
  {
   "cell_type": "code",
   "execution_count": null,
   "metadata": {
    "id": "install-package"
   },
   "outputs": [],
   "source": [
    "# Install pyfuzzy-toolbox\n",
    "!pip install pyfuzzy-toolbox -q"
   ]
  },
  {
   "cell_type": "code",
   "execution_count": null,
   "metadata": {
    "id": "setup"
   },
   "outputs": [],
   "source": [
    "import numpy as np\n",
    "import matplotlib.pyplot as plt\n",
    "import fuzzy_systems as fs\n",
    "from fuzzy_systems import SugenoSystem\n",
    "\n",
    "%matplotlib inline\n",
    "plt.rcParams['figure.figsize'] = (12, 6)\n",
    "plt.rcParams['font.size'] = 11\n",
    "plt.rcParams['figure.dpi'] = 100"
   ]
  },
  {
   "cell_type": "code",
   "execution_count": null,
   "metadata": {
    "id": "create-system"
   },
   "outputs": [],
   "source": [
    "# ============================================================================\n",
    "# Create Sugeno Zero-Order (Singleton) System\n",
    "# ============================================================================\n",
    "system = SugenoSystem(order=0)\n",
    "\n",
    "# ============================================================================\n",
    "# INPUT: Student Grade (0 to 10)\n",
    "# ============================================================================\n",
    "system.add_input('grade', (0, 10))\n",
    "system.add_term('grade', 'low', 'triangular', (0, 0, 5))\n",
    "system.add_term('grade', 'medium', 'triangular', (0, 5, 10))\n",
    "system.add_term('grade', 'high', 'triangular', (5, 10, 10))\n",
    "\n",
    "# ============================================================================\n",
    "# OUTPUT: Performance (constant values)\n",
    "# ============================================================================\n",
    "system.add_output('performance', (0, 10))"
   ]
  },
  {
   "cell_type": "code",
   "execution_count": null,
   "metadata": {
    "id": "plot-mf"
   },
   "outputs": [],
   "source": [
    "x_vals = np.linspace(0, 10, 200)\n",
    "\n",
    "plt.figure(figsize=(12, 6))\n",
    "\n",
    "colors = {'low': 'b', 'medium': 'y', 'high': 'r'}\n",
    "for term_name, term in system.input_variables['grade'].terms.items():\n",
    "    mu = term.membership(x_vals)\n",
    "    plt.plot(x_vals, mu, colors[term_name], label=term_name, linewidth=2)\n",
    "\n",
    "plt.title('Membership Functions: Student Grade', fontsize=14, fontweight='bold')\n",
    "plt.xlabel('Grade (0-10)', fontsize=12)\n",
    "plt.ylabel('Membership Degree', fontsize=12)\n",
    "plt.legend(loc='upper center', fontsize=11, ncol=3)\n",
    "plt.grid(True, alpha=0.3)\n",
    "plt.ylim([-0.05, 1.05])\n",
    "plt.show()"
   ]
  },
  {
   "cell_type": "code",
   "execution_count": null,
   "metadata": {
    "id": "rules-def"
   },
   "outputs": [],
   "source": [
    "# ============================================================================\n",
    "# Sugeno Zero-Order Rule Base\n",
    "# ============================================================================\n",
    "# Define rules with constant output values\n",
    "system.add_rules([\n",
    "    ('low', 2.0),      # IF grade is low THEN performance = 2.0\n",
    "    ('medium', 6.0),   # IF grade is medium THEN performance = 6.0\n",
    "    ('high', 9.0)      # IF grade is high THEN performance = 9.0\n",
    "])"
   ]
  },
  {
   "cell_type": "code",
   "execution_count": null,
   "metadata": {
    "id": "detailed-example"
   },
   "outputs": [],
   "source": [
    "# ============================================================================\n",
    "# Detailed Step-by-Step Example\n",
    "# ============================================================================\n",
    "grade_example = 6.5\n",
    "\n",
    "print(\"=\" * 80)\n",
    "print(\"SUGENO ZERO-ORDER INFERENCE EXAMPLE\")\n",
    "print(\"=\" * 80)\n",
    "print()\n",
    "print(f\"Input Grade: {grade_example}/10\")\n",
    "print()\n",
    "\n",
    "# Fuzzification\n",
    "print(\"Step 1: Fuzzification\")\n",
    "print(\"-\" * 80)\n",
    "for term_name, term in system.input_variables['grade'].terms.items():\n",
    "    mu = term.membership(grade_example)\n",
    "    if mu > 0.01:\n",
    "        print(f\"   μ({term_name}) = {mu:.3f}\")\n",
    "\n",
    "# Evaluate system\n",
    "result = system.evaluate({'grade': grade_example})\n",
    "performance = result['performance']\n",
    "\n",
    "print()\n",
    "print(\"Step 2: Rule Aggregation & Defuzzification\")\n",
    "print(\"-\" * 80)\n",
    "print(f\"   Output Performance: {performance:.2f}\")\n",
    "print()\n",
    "print(\"=\" * 80)"
   ]
  },
  {
   "cell_type": "code",
   "execution_count": null,
   "metadata": {
    "id": "viz-process"
   },
   "outputs": [],
   "source": [
    "grade_example = 6.5\n",
    "result = system.evaluate({'grade': grade_example})\n",
    "performance = result['performance']\n",
    "\n",
    "fig, axes = plt.subplots(1, 2, figsize=(14, 5))\n",
    "\n",
    "# ============================================================================\n",
    "# Left plot: Input membership\n",
    "# ============================================================================\n",
    "x_vals = np.linspace(0, 10, 200)\n",
    "colors = {'low': 'b', 'medium': 'y', 'high': 'r'}\n",
    "for term_name, term in system.input_variables['grade'].terms.items():\n",
    "    mu = term.membership(x_vals)\n",
    "    axes[0].plot(x_vals, mu, colors[term_name], label=term_name, linewidth=2)\n",
    "\n",
    "axes[0].axvline(x=grade_example, color='red', linestyle='--', linewidth=2,\n",
    "                label=f'Grade = {grade_example}')\n",
    "axes[0].set_title(f'Fuzzification: Grade = {grade_example}', fontsize=12, fontweight='bold')\n",
    "axes[0].set_xlabel('Grade (0-10)', fontsize=11)\n",
    "axes[0].set_ylabel('Membership Degree', fontsize=11)\n",
    "axes[0].legend(fontsize=10)\n",
    "axes[0].grid(True, alpha=0.3)\n",
    "axes[0].set_ylim([-0.05, 1.05])\n",
    "\n",
    "# ============================================================================\n",
    "# Right plot: Rule outputs\n",
    "# ============================================================================\n",
    "rules_info = [('low', 2.0), ('medium', 6.0), ('high', 9.0)]\n",
    "output_values = [val for _, val in rules_info]\n",
    "rule_names = [name for name, _ in rules_info]\n",
    "activations = [system.input_variables['grade'].terms[name].membership(grade_example) \n",
    "               for name, _ in rules_info]\n",
    "\n",
    "bars = axes[1].bar(rule_names, output_values, color=['b', 'y', 'r'], alpha=0.7, \n",
    "                   edgecolor='black', linewidth=2)\n",
    "axes[1].axhline(y=performance, color='green', linestyle='--', linewidth=2,\n",
    "                label=f'Final Output = {performance:.2f}')\n",
    "axes[1].set_title('Rule Outputs & Defuzzified Result', fontsize=12, fontweight='bold')\n",
    "axes[1].set_ylabel('Performance Value', fontsize=11)\n",
    "axes[1].legend(fontsize=10)\n",
    "axes[1].grid(True, alpha=0.3, axis='y')\n",
    "axes[1].set_ylim([0, 10])\n",
    "\n",
    "plt.tight_layout()\n",
    "plt.show()"
   ]
  },
  {
   "cell_type": "code",
   "execution_count": null,
   "metadata": {
    "id": "test-cases"
   },
   "outputs": [],
   "source": [
    "print(\"=\" * 80)\n",
    "print(\"TESTING SUGENO ZERO-ORDER SYSTEM\")\n",
    "print(\"=\" * 80)\n",
    "print()\n",
    "\n",
    "print(f\"{'Grade':<10} {'Performance':<15} {'Category'}\")\n",
    "print(\"-\" * 80)\n",
    "\n",
    "test_grades = [2.0, 4.0, 5.0, 6.5, 7.5, 8.0, 9.5]\n",
    "for grade in test_grades:\n",
    "    result = system.evaluate({'grade': grade})\n",
    "    performance = result['performance']\n",
    "\n",
    "    if performance < 4:\n",
    "        category = \"Needs Improvement\"\n",
    "    elif performance < 7:\n",
    "        category = \"Acceptable\"\n",
    "    else:\n",
    "        category = \"Excellent\"\n",
    "\n",
    "    print(f\"{grade:<10.1f} {performance:<15.2f} {category}\")\n",
    "\n",
    "print(\"=\" * 80)"
   ]
  },
  {
   "cell_type": "code",
   "execution_count": null,
   "metadata": {
    "id": "response-curve"
   },
   "outputs": [],
   "source": [
    "grades = np.linspace(0, 10, 100)\n",
    "performances = [system.evaluate({'grade': g})['performance'] for g in grades]\n",
    "\n",
    "plt.figure(figsize=(12, 6))\n",
    "plt.plot(grades, performances, 'g-', linewidth=3, label='Sugeno System Response')\n",
    "plt.scatter(grades[::10], performances[::10], color='red', s=50, zorder=5)\n",
    "\n",
    "plt.title('System Response Curve: Grade → Performance', fontsize=14, fontweight='bold')\n",
    "plt.xlabel('Grade (0-10)', fontsize=12)\n",
    "plt.ylabel('Performance Output', fontsize=12)\n",
    "plt.legend(fontsize=11)\n",
    "plt.grid(True, alpha=0.3)\n",
    "plt.xlim([0, 10])\n",
    "plt.ylim([0, 10])\n",
    "plt.show()"
   ]
  }
 ],
 "metadata": {
  "colab": {
   "name": "02_sugeno_ordem_zero.ipynb",
   "provenance": []
  },
  "kernelspec": {
   "display_name": "generico (3.11.9)",
   "language": "python",
   "name": "python3"
  },
  "language_info": {
   "codemirror_mode": {
    "name": "ipython",
    "version": 3
   },
   "file_extension": ".py",
   "mimetype": "text/x-python",
   "name": "python",
   "nbconvert_exporter": "python",
   "pygments_lexer": "ipython3",
   "version": "3.11.9"
  }
 },
 "nbformat": 4,
 "nbformat_minor": 0
}
