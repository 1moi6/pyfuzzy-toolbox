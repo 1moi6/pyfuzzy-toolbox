{
 "cells": [
  {
   "cell_type": "code",
   "execution_count": null,
   "metadata": {
    "id": "install-package"
   },
   "outputs": [],
   "source": [
    "# Install pyfuzzy-toolbox\n",
    "!pip install pyfuzzy-toolbox -q"
   ]
  },
  {
   "cell_type": "code",
   "execution_count": null,
   "metadata": {
    "id": "setup"
   },
   "outputs": [],
   "source": [
    "import numpy as np\n",
    "import matplotlib.pyplot as plt\n",
    "from mpl_toolkits.mplot3d import Axes3D\n",
    "import fuzzy_systems as fs\n",
    "from fuzzy_systems import MamdaniSystem\n",
    "\n",
    "%matplotlib inline\n",
    "plt.rcParams['figure.figsize'] = (12, 6)"
   ]
  },
  {
   "cell_type": "code",
   "execution_count": null,
   "metadata": {
    "id": "create-vars"
   },
   "outputs": [],
   "source": [
    "# ============================================================================\n",
    "# Create Mamdani System for Voting Prediction\n",
    "# ============================================================================\n",
    "system = MamdaniSystem()\n",
    "\n",
    "# ============================================================================\n",
    "# INPUT 1: Family Income (0 to 30 thousand)\n",
    "# ============================================================================\n",
    "system.add_input('income', (0, 30))\n",
    "system.add_term('income', 'low', 'trapezoidal', (0, 0, 5, 15))\n",
    "system.add_term('income', 'medium', 'trapezoidal', (5, 15, 20, 25))\n",
    "system.add_term('income', 'high', 'trapezoidal', (20, 25, 30, 30))\n",
    "\n",
    "# ============================================================================\n",
    "# INPUT 2: Education (0 to 15 years)\n",
    "# ============================================================================\n",
    "system.add_input('education', (0, 15))\n",
    "system.add_term('education', 'low', 'trapezoidal', (0, 0, 3, 6))\n",
    "system.add_term('education', 'medium', 'triangular', (4, 7.5, 11))\n",
    "system.add_term('education', 'high', 'trapezoidal', (9, 12, 15, 15))\n",
    "\n",
    "# ============================================================================\n",
    "# OUTPUT: Voting Probability (0 to 100%)\n",
    "# ============================================================================\n",
    "system.add_output('vote_chance', (0, 100))\n",
    "system.add_term('vote_chance', 'low', 'triangular', (0, 0, 50))\n",
    "system.add_term('vote_chance', 'medium', 'triangular', (25, 50, 75))\n",
    "system.add_term('vote_chance', 'high', 'triangular', (50, 100, 100))"
   ]
  },
  {
   "cell_type": "code",
   "execution_count": null,
   "metadata": {
    "id": "viz-mf"
   },
   "outputs": [],
   "source": [
    "fig, axes = plt.subplots(3, 1, figsize=(12, 12))\n",
    "\n",
    "# Income\n",
    "x_income = np.linspace(0, 30, 200)\n",
    "for term_name, term in system.input_variables['income'].terms.items():\n",
    "    mu = term.membership(x_income)\n",
    "    axes[0].plot(x_income, mu, linewidth=2, label=term_name.capitalize())\n",
    "    axes[0].fill_between(x_income, 0, mu, alpha=0.2)\n",
    "\n",
    "axes[0].set_title('Family Income (thousands)', fontsize=14, fontweight='bold')\n",
    "axes[0].set_xlabel('Income (thousands)')\n",
    "axes[0].set_ylabel('Membership Degree')\n",
    "axes[0].legend()\n",
    "axes[0].grid(True, alpha=0.3)\n",
    "axes[0].set_ylim([-0.05, 1.05])\n",
    "\n",
    "# Education\n",
    "x_edu = np.linspace(0, 15, 200)\n",
    "for term_name, term in system.input_variables['education'].terms.items():\n",
    "    mu = term.membership(x_edu)\n",
    "    axes[1].plot(x_edu, mu, linewidth=2, label=term_name.capitalize())\n",
    "    axes[1].fill_between(x_edu, 0, mu, alpha=0.2)\n",
    "\n",
    "axes[1].set_title('Education (years)', fontsize=14, fontweight='bold')\n",
    "axes[1].set_xlabel('Years of Study')\n",
    "axes[1].set_ylabel('Membership Degree')\n",
    "axes[1].legend()\n",
    "axes[1].grid(True, alpha=0.3)\n",
    "axes[1].set_ylim([-0.05, 1.05])\n",
    "\n",
    "# Vote Chance\n",
    "x_chance = np.linspace(0, 100, 200)\n",
    "for term_name, term in system.output_variables['vote_chance'].terms.items():\n",
    "    mu = term.membership(x_chance)\n",
    "    axes[2].plot(x_chance, mu, linewidth=2, label=term_name.capitalize())\n",
    "    axes[2].fill_between(x_chance, 0, mu, alpha=0.2)\n",
    "\n",
    "axes[2].set_title('Voting Probability (%)', fontsize=14, fontweight='bold')\n",
    "axes[2].set_xlabel('Probability (%)')\n",
    "axes[2].set_ylabel('Membership Degree')\n",
    "axes[2].legend()\n",
    "axes[2].grid(True, alpha=0.3)\n",
    "axes[2].set_ylim([-0.05, 1.05])\n",
    "\n",
    "plt.tight_layout()\n",
    "plt.show()"
   ]
  },
  {
   "cell_type": "code",
   "execution_count": null,
   "metadata": {
    "id": "create-rules"
   },
   "outputs": [],
   "source": [
    "# ============================================================================\n",
    "# Define Fuzzy Rules Based on Electoral Patterns\n",
    "# ============================================================================\n",
    "system.add_rules([\n",
    "    # High education increases voting probability\n",
    "    {'income': 'high', 'education': 'high', 'vote_chance': 'high'},\n",
    "    {'income': 'medium', 'education': 'high', 'vote_chance': 'high'},\n",
    "    {'income': 'low', 'education': 'high', 'vote_chance': 'high'},\n",
    "\n",
    "    # Medium education shows mixed patterns\n",
    "    {'income': 'high', 'education': 'medium', 'vote_chance': 'medium'},\n",
    "    {'income': 'medium', 'education': 'medium', 'vote_chance': 'medium'},\n",
    "    {'income': 'low', 'education': 'medium', 'vote_chance': 'medium'},\n",
    "\n",
    "    # Low education tends to lower voting probability\n",
    "    {'income': 'high', 'education': 'low', 'vote_chance': 'low'},\n",
    "    {'income': 'medium', 'education': 'low', 'vote_chance': 'low'},\n",
    "    {'income': 'low', 'education': 'low', 'vote_chance': 'medium'}\n",
    "])\n",
    "\n",
    "print(f\"Rule base created with {len(system.rule_base.rules)} rules\")\n",
    "\n",
    "fig,ax = system.plot_rule_matrix(cmap='Blues')\n",
    "fig.axes[0].set_title('Rule Base Visualization', fontsize=14, fontweight='bold', pad=40)\n",
    "fig.axes[1].remove()\n",
    "ax.images[0].set_cmap('Pastel1')\n"
   ]
  },
  {
   "cell_type": "code",
   "execution_count": null,
   "metadata": {
    "id": "test-case"
   },
   "outputs": [],
   "source": [
    "print(\"=\" * 70)\n",
    "print(\"TEST: Income=22 thousand, Education=12 years\")\n",
    "print(\"=\" * 70)\n",
    "\n",
    "result = system.evaluate({\n",
    "    'income': 22,\n",
    "    'education': 12\n",
    "})\n",
    "\n",
    "vote_chance = result['vote_chance']\n",
    "\n",
    "print(f\"\\nResult: Voting probability = {vote_chance:.2f}%\")\n",
    "\n",
    "# Show fuzzification\n",
    "income_degrees = system.input_variables['income'].fuzzify(22)\n",
    "education_degrees = system.input_variables['education'].fuzzify(12)\n",
    "\n",
    "print(f\"\\nMembership degrees (Income=22):\")\n",
    "for term, mu in income_degrees.items():\n",
    "    print(f\"  {term}: {mu:.3f}\")\n",
    "\n",
    "print(f\"\\nMembership degrees (Education=12):\")\n",
    "for term, mu in education_degrees.items():\n",
    "    print(f\"  {term}: {mu:.3f}\")\n",
    "\n",
    "print(\"=\" * 70)"
   ]
  },
  {
   "cell_type": "code",
   "execution_count": null,
   "metadata": {
    "id": "test-multiple"
   },
   "outputs": [],
   "source": [
    "print(\"=\" * 80)\n",
    "print(\"TESTING MULTIPLE SCENARIOS\")\n",
    "print(\"=\" * 80)\n",
    "print()\n",
    "\n",
    "scenarios = [\n",
    "    (5, 3, \"Low income, low education\"),\n",
    "    (15, 8, \"Medium income, medium education\"),\n",
    "    (25, 12, \"High income, high education\"),\n",
    "    (10, 12, \"Medium income, high education\"),\n",
    "    (28, 5, \"High income, low education\"),\n",
    "]\n",
    "\n",
    "print(f\"{'Income':<8} {'Education':<8} {'Probability (%)':<15} {'Scenario'}\")\n",
    "print(\"-\" * 80)\n",
    "\n",
    "for income, education, description in scenarios:\n",
    "    result = system.evaluate({\n",
    "        'income': income,\n",
    "        'education': education\n",
    "    })\n",
    "    prob = result['vote_chance']\n",
    "    print(f\"{income:<8} {education:<8} {prob:<15.2f} {description}\")\n",
    "\n",
    "print(\"\\n\" + \"=\" * 80)"
   ]
  },
  {
   "cell_type": "code",
   "execution_count": null,
   "metadata": {
    "id": "surface-3d"
   },
   "outputs": [],
   "source": [
    "# Create grid\n",
    "income_range = np.linspace(0, 30, 30)\n",
    "education_range = np.linspace(0, 15, 30)\n",
    "INCOME, EDUCATION = np.meshgrid(income_range, education_range)\n",
    "\n",
    "# Calculate voting probability for each point\n",
    "VOTE_CHANCE = np.zeros_like(INCOME)\n",
    "for i in range(INCOME.shape[0]):\n",
    "    for j in range(INCOME.shape[1]):\n",
    "        try:\n",
    "            result = system.evaluate({\n",
    "                'income': INCOME[i, j],\n",
    "                'education': EDUCATION[i, j]\n",
    "            })\n",
    "            VOTE_CHANCE[i, j] = result['vote_chance']\n",
    "        except:\n",
    "            VOTE_CHANCE[i, j] = np.nan\n",
    "\n",
    "# Plot\n",
    "fig = plt.figure(figsize=(16, 7))\n",
    "\n",
    "ax1 = fig.add_subplot(121, projection='3d')\n",
    "surf = ax1.plot_surface(INCOME, EDUCATION, VOTE_CHANCE, cmap='RdYlGn', alpha=0.9)\n",
    "ax1.set_xlabel('Family Income (thousands)', fontsize=11)\n",
    "ax1.set_ylabel('Education (years)', fontsize=11)\n",
    "ax1.set_zlabel('Voting Probability (%)', fontsize=11)\n",
    "ax1.set_title('3D Control Surface', fontsize=13, fontweight='bold')\n",
    "ax1.view_init(elev=20, azim=135)\n",
    "fig.colorbar(surf, ax=ax1, shrink=0.5, label='Probability (%)')\n",
    "\n",
    "ax2 = fig.add_subplot(122)\n",
    "contour = ax2.contourf(INCOME, EDUCATION, VOTE_CHANCE, levels=15, cmap='RdYlGn')\n",
    "ax2.set_xlabel('Family Income (thousands)', fontsize=12)\n",
    "ax2.set_ylabel('Education (years)', fontsize=12)\n",
    "ax2.set_title('Contour Map', fontsize=13, fontweight='bold')\n",
    "fig.colorbar(contour, ax=ax2, label='Probability (%)')\n",
    "ax2.grid(True, alpha=0.3)\n",
    "\n",
    "plt.tight_layout()\n",
    "plt.show()\n",
    "\n",
    "print(\"Green colors = higher voting probability\")\n",
    "print(\"Red colors = lower voting probability\")"
   ]
  }
 ],
 "metadata": {
  "colab": {
   "name": "04_atividade_predicao_voto.ipynb",
   "provenance": []
  },
  "kernelspec": {
   "display_name": "Python (generico)",
   "language": "python",
   "name": "generico"
  },
  "language_info": {
   "codemirror_mode": {
    "name": "ipython",
    "version": 3
   },
   "file_extension": ".py",
   "mimetype": "text/x-python",
   "name": "python",
   "nbconvert_exporter": "python",
   "pygments_lexer": "ipython3",
   "version": "3.11.9"
  }
 },
 "nbformat": 4,
 "nbformat_minor": 0
}
