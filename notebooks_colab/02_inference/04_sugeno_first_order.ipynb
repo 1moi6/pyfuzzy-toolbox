{
 "cells": [
  {
   "cell_type": "code",
   "execution_count": null,
   "metadata": {
    "id": "install-package"
   },
   "outputs": [],
   "source": [
    "# Install pyfuzzy-toolbox\n",
    "!pip install pyfuzzy-toolbox -q"
   ]
  },
  {
   "cell_type": "code",
   "execution_count": null,
   "metadata": {
    "id": "setup"
   },
   "outputs": [],
   "source": [
    "import numpy as np\n",
    "import matplotlib.pyplot as plt\n",
    "from mpl_toolkits.mplot3d import Axes3D\n",
    "import fuzzy_systems as fs\n",
    "from fuzzy_systems import SugenoSystem\n",
    "\n",
    "%matplotlib inline\n",
    "plt.rcParams['figure.figsize'] = (12, 6)"
   ]
  },
  {
   "cell_type": "code",
   "execution_count": null,
   "metadata": {
    "id": "create-system"
   },
   "outputs": [],
   "source": [
    "# ============================================================================\n",
    "# Create Sugeno First-Order (Linear) System\n",
    "# ============================================================================\n",
    "system = SugenoSystem(order=1)\n",
    "\n",
    "# Add input variables\n",
    "system.add_input('x1', (0, 10))\n",
    "system.add_term('x1', 'low', 'trapezoidal', (0, 0, 4, 6))\n",
    "system.add_term('x1', 'medium', 'triangular', (4, 6, 8))\n",
    "system.add_term('x1', 'high', 'trapezoidal', (6, 8, 10, 10))\n",
    "\n",
    "system.add_input('x2', (0, 10))\n",
    "system.add_term('x2', 'low', 'trapezoidal', (0, 0, 4, 6))\n",
    "system.add_term('x2', 'medium', 'triangular', (4, 6, 8))\n",
    "system.add_term('x2', 'high', 'trapezoidal', (6, 8, 10, 10))\n",
    "\n",
    "# Add output (order 1 = linear)\n",
    "system.add_output('y')"
   ]
  },
  {
   "cell_type": "code",
   "execution_count": null,
   "metadata": {
    "id": "viz-mf"
   },
   "outputs": [],
   "source": [
    "fig, axes = plt.subplots(2, 1, figsize=(12, 10))\n",
    "\n",
    "x_vals = np.linspace(0, 10, 200)\n",
    "colors = {'low': 'b', 'medium': 'y', 'high': 'r'}\n",
    "\n",
    "# Variable x1\n",
    "for term_name, term in system.input_variables['x1'].terms.items():\n",
    "    mu = term.membership(x_vals)\n",
    "    axes[0].plot(x_vals, mu, colors[term_name] + '-', linewidth=2, label=term_name.capitalize())\n",
    "\n",
    "axes[0].set_title('Input Variable: x₁', fontsize=14, fontweight='bold')\n",
    "axes[0].set_xlabel('x₁')\n",
    "axes[0].set_ylabel('Membership Degree')\n",
    "axes[0].legend()\n",
    "axes[0].grid(True, alpha=0.3)\n",
    "axes[0].set_ylim([-0.05, 1.05])\n",
    "\n",
    "# Variable x2\n",
    "for term_name, term in system.input_variables['x2'].terms.items():\n",
    "    mu = term.membership(x_vals)\n",
    "    axes[1].plot(x_vals, mu, colors[term_name] + '-', linewidth=2, label=term_name.capitalize())\n",
    "\n",
    "axes[1].set_title('Input Variable: x₂', fontsize=14, fontweight='bold')\n",
    "axes[1].set_xlabel('x₂')\n",
    "axes[1].set_ylabel('Membership Degree')\n",
    "axes[1].legend()\n",
    "axes[1].grid(True, alpha=0.3)\n",
    "axes[1].set_ylim([-0.05, 1.05])\n",
    "\n",
    "plt.tight_layout()\n",
    "plt.show()"
   ]
  },
  {
   "cell_type": "code",
   "execution_count": null,
   "metadata": {
    "id": "create-rules"
   },
   "outputs": [],
   "source": [
    "# ============================================================================\n",
    "# Define Sugeno First-Order Rules with Linear Outputs\n",
    "# ============================================================================\n",
    "# For order 1, coefficients are: [p1, p2, ..., c]\n",
    "# y = p1*x1 + p2*x2 + c\n",
    "\n",
    "system.add_rules([\n",
    "    ['low', 'low', [0.2, 0.1, 1.0]],        # y = 0.2·x1 + 0.1·x2 + 1.0\n",
    "    ['medium', 'medium', [0.4, 0.3, 3.0]],  # y = 0.4·x1 + 0.3·x2 + 3.0\n",
    "    ['high', 'high', [0.6, 0.5, 5.0]]       # y = 0.6·x1 + 0.5·x2 + 5.0\n",
    "])"
   ]
  },
  {
   "cell_type": "code",
   "execution_count": null,
   "metadata": {
    "id": "test-system"
   },
   "outputs": [],
   "source": [
    "print(\"=\" * 60)\n",
    "print(\"TEST: x1=6.5, x2=7.0\")\n",
    "print(\"=\" * 60)\n",
    "\n",
    "x1_val, x2_val = 6.5, 7.0\n",
    "result = system.evaluate({'x1': x1_val, 'x2': x2_val})\n",
    "y = result['y']\n",
    "\n",
    "print(f\"\\nInputs: x1={x1_val}, x2={x2_val}\")\n",
    "print(f\"Output: y = {y:.3f}\")\n",
    "\n",
    "# Show membership degrees\n",
    "memberships_x1 = system.input_variables['x1'].fuzzify(x1_val)\n",
    "print(f\"\\nMembership degrees (x1={x1_val}):\")\n",
    "for term, mu in memberships_x1.items():\n",
    "    print(f\"  {term}: {mu:.3f}\")\n",
    "\n",
    "print(\"=\" * 60)"
   ]
  },
  {
   "cell_type": "code",
   "execution_count": null,
   "metadata": {
    "id": "surface-plot"
   },
   "outputs": [],
   "source": [
    "# Create grid\n",
    "x1_vals = np.linspace(0, 10, 40)\n",
    "x2_vals = np.linspace(0, 10, 40)\n",
    "X1, X2 = np.meshgrid(x1_vals, x2_vals)\n",
    "\n",
    "# Calculate outputs\n",
    "Y = np.zeros_like(X1)\n",
    "for i in range(X1.shape[0]):\n",
    "    for j in range(X1.shape[1]):\n",
    "        result = system.evaluate({'x1': X1[i, j], 'x2': X2[i, j]})\n",
    "        Y[i, j] = result['y']\n",
    "\n",
    "# Plot\n",
    "fig = plt.figure(figsize=(14, 6))\n",
    "\n",
    "ax1 = fig.add_subplot(121, projection='3d')\n",
    "surf = ax1.plot_surface(X1, X2, Y, cmap='viridis', alpha=0.9)\n",
    "ax1.set_xlabel('x₁')\n",
    "ax1.set_ylabel('x₂')\n",
    "ax1.set_zlabel('y')\n",
    "ax1.set_title('3D Surface - Sugeno First-Order', fontweight='bold')\n",
    "ax1.view_init(elev=25, azim=135)\n",
    "fig.colorbar(surf, ax=ax1, shrink=0.5)\n",
    "\n",
    "ax2 = fig.add_subplot(122)\n",
    "contour = ax2.contourf(X1, X2, Y, levels=15, cmap='viridis')\n",
    "ax2.set_xlabel('x₁')\n",
    "ax2.set_ylabel('x₂')\n",
    "ax2.set_title('Contour Map', fontweight='bold')\n",
    "fig.colorbar(contour, ax=ax2)\n",
    "ax2.grid(True, alpha=0.3)\n",
    "\n",
    "plt.tight_layout()\n",
    "plt.show()"
   ]
  },
  {
   "cell_type": "code",
   "execution_count": null,
   "metadata": {
    "id": "compare"
   },
   "outputs": [],
   "source": [
    "# Zero-Order System\n",
    "system_o0 = SugenoSystem(order=0)\n",
    "system_o0.add_input('x', (0, 10))\n",
    "system_o0.add_term('x', 'low', 'trapezoidal', (0, 0, 4, 6))\n",
    "system_o0.add_term('x', 'medium', 'triangular', (4, 6, 8))\n",
    "system_o0.add_term('x', 'high', 'trapezoidal', (6, 8, 10, 10))\n",
    "system_o0.add_output('y')\n",
    "system_o0.add_rules([\n",
    "    ('low', 2.0),\n",
    "    ('medium', 6.0),\n",
    "    ('high', 9.0)\n",
    "])\n",
    "\n",
    "# First-Order System\n",
    "system_o1 = SugenoSystem(order=1)\n",
    "system_o1.add_input('x', (0, 10))\n",
    "system_o1.add_term('x', 'low', 'trapezoidal', (0, 0, 4, 6))\n",
    "system_o1.add_term('x', 'medium', 'triangular', (4, 6, 8))\n",
    "system_o1.add_term('x', 'high', 'trapezoidal', (6, 8, 10, 10))\n",
    "system_o1.add_output('y')\n",
    "system_o1.add_rules([\n",
    "    ('low', [0.2, 1.0]),      # y = 1 + 0.2x\n",
    "    ('medium', [0.4, 3.0]),   # y = 3 + 0.4x\n",
    "    ('high', [0.6, 5.0])      # y = 5 + 0.6x\n",
    "])\n",
    "\n",
    "# Calculate curves\n",
    "x_vals = np.linspace(0, 10, 100)\n",
    "y_order0 = [system_o0.evaluate({'x': x})['y'] for x in x_vals]\n",
    "y_order1 = [system_o1.evaluate({'x': x})['y'] for x in x_vals]\n",
    "\n",
    "plt.figure(figsize=(12, 6))\n",
    "plt.plot(x_vals, y_order0, 'b-', linewidth=3, label='Sugeno Order 0')\n",
    "plt.plot(x_vals, y_order1, 'r-', linewidth=3, label='Sugeno Order 1')\n",
    "plt.xlabel('Input (x)', fontsize=12)\n",
    "plt.ylabel('Output (y)', fontsize=12)\n",
    "plt.title('Comparison: Order 0 vs Order 1', fontsize=14, fontweight='bold')\n",
    "plt.legend(fontsize=11)\n",
    "plt.grid(True, alpha=0.3)\n",
    "plt.tight_layout()\n",
    "plt.show()\n",
    "\n",
    "print(\"Order 0: Step-like response (piecewise constant)\")\n",
    "print(\"Order 1: Smooth, linear response (continuous)\")"
   ]
  }
 ],
 "metadata": {
  "colab": {
   "name": "03_sugeno_ordem_1.ipynb",
   "provenance": []
  },
  "kernelspec": {
   "display_name": "Python (generico)",
   "language": "python",
   "name": "generico"
  },
  "language_info": {
   "codemirror_mode": {
    "name": "ipython",
    "version": 3
   },
   "file_extension": ".py",
   "mimetype": "text/x-python",
   "name": "python",
   "nbconvert_exporter": "python",
   "pygments_lexer": "ipython3",
   "version": "3.11.9"
  }
 },
 "nbformat": 4,
 "nbformat_minor": 0
}
