{
 "cells": [
  {
   "cell_type": "markdown",
   "metadata": {},
   "source": [
    "<a href=\"https://colab.research.google.com/github/1moi6/pyfuzzy-toolbox/blob/main/notebooks_colab/Aula_5/01_otimizacao_pso_funcao_linear.ipynb\" target=\"_parent\"><img src=\"https://colab.research.google.com/assets/colab-badge.svg\" alt=\"Open In Colab\"/></a>"
   ]
  },
  {
   "cell_type": "markdown",
   "metadata": {},
   "source": [
    "# 🐝 Otimização de Sistemas Fuzzy com PSO\n",
    "\n",
    "**Aula 5 - Minicurso de Sistemas de Inferência Fuzzy**\n",
    "\n",
    "---\n",
    "\n",
    "## 🎯 Objetivo\n",
    "\n",
    "Neste notebook, vamos aplicar **PSO (Particle Swarm Optimization)** para otimizar parâmetros de sistemas fuzzy.\n",
    "\n",
    "### Problema: Aproximar f(x) = -2x + 5\n",
    "\n",
    "---\n",
    "\n",
    "## 🐝 O que é PSO?\n",
    "\n",
    "**PSO (Particle Swarm Optimization)** é inspirado no comportamento de **enxames**:\n",
    "\n",
    "### Conceito:\n",
    "- **Partículas**: Cada solução é uma \"partícula\" no espaço\n",
    "- **Velocidade**: Partículas se movem baseadas em:\n",
    "  - 🧠 Melhor posição **pessoal** (memória individual)\n",
    "  - 🌍 Melhor posição **global** (conhecimento coletivo)\n",
    "- **Convergência**: Enxame encontra melhores soluções colaborativamente\n",
    "\n",
    "### Equações do PSO:\n",
    "\n",
    "```\n",
    "v[i] = w*v[i] + c1*r1*(pbest[i] - x[i]) + c2*r2*(gbest - x[i])\n",
    "x[i] = x[i] + v[i]\n",
    "```\n",
    "\n",
    "Onde:\n",
    "- `v[i]`: Velocidade da partícula i\n",
    "- `x[i]`: Posição da partícula i  \n",
    "- `w`: Inércia (0.7)\n",
    "- `c1, c2`: Coeficientes cognitivo/social (1.5)\n",
    "- `pbest`: Melhor posição pessoal\n",
    "- `gbest`: Melhor posição global\n",
    "\n",
    "---\n",
    "\n",
    "## 📚 Referências\n",
    "- Kennedy, J., & Eberhart, R. (1995). \"Particle swarm optimization.\" *IEEE*\n",
    "\n",
    "---"
   ]
  },
  {
   "cell_type": "markdown",
   "metadata": {},
   "source": [
    "## 🔧 Instalação"
   ]
  },
  {
   "cell_type": "code",
   "execution_count": null,
   "metadata": {},
   "outputs": [],
   "source": [
    "!pip install pyfuzzy-toolbox[ml] -q\n",
    "\n",
    "print('✅ pyfuzzy-toolbox instalado com sucesso!')"
   ]
  },
  {
   "cell_type": "markdown",
   "metadata": {},
   "source": [
    "## 📦 Importações"
   ]
  },
  {
   "cell_type": "code",
   "execution_count": null,
   "metadata": {},
   "outputs": [],
   "source": [
    "import numpy as np\n",
    "import matplotlib.pyplot as plt\n",
    "import fuzzy_systems as fs\n",
    "from fuzzy_systems.learning import PSO\n",
    "from fuzzy_systems.learning import MamdaniNeurofuzzy\n",
    "\n",
    "%matplotlib inline\n",
    "\n",
    "# Configurações\n",
    "plt.rcParams['figure.figsize'] = (12, 6)\n",
    "np.random.seed(42)\n",
    "\n",
    "print('✅ Bibliotecas importadas!')\n",
    "print(f'   pyfuzzy-toolbox: {fs.__version__}')"
   ]
  },
  {
   "cell_type": "markdown",
   "metadata": {},
   "source": [
    "## 📊 Passo 1: Gerar Dados - Função Linear\n",
    "\n",
    "### f(x) = -2x + 5"
   ]
  },
  {
   "cell_type": "code",
   "execution_count": null,
   "metadata": {},
   "outputs": [],
   "source": [
    "# Função alvo\n",
    "def funcao_real(x):\n",
    "    \"\"\"f(x) = -2x + 5\"\"\"\n",
    "    return -2 * x + 5\n",
    "\n",
    "# Gerar dados\n",
    "n_samples = 100\n",
    "X_train = np.linspace(0, 10, n_samples).reshape(-1, 1)\n",
    "y_train = funcao_real(X_train.flatten()) + np.random.normal(0, 0.2, n_samples)\n",
    "\n",
    "X_test = np.linspace(0, 10, 200).reshape(-1, 1)\n",
    "y_true = funcao_real(X_test.flatten())\n",
    "\n",
    "# Visualizar\n",
    "plt.figure(figsize=(10, 6))\n",
    "plt.plot(X_test, y_true, 'k-', linewidth=3, label='f(x) = -2x + 5', alpha=0.7)\n",
    "plt.scatter(X_train, y_train, color='red', s=30, alpha=0.5, label=f'Dados (n={n_samples})')\n",
    "plt.xlabel('x', fontsize=13)\n",
    "plt.ylabel('y', fontsize=13)\n",
    "plt.title('Problema: Otimizar sistema fuzzy com PSO', fontsize=14, fontweight='bold')\n",
    "plt.legend(fontsize=12)\n",
    "plt.grid(True, alpha=0.3)\n",
    "plt.tight_layout()\n",
    "plt.show()\n",
    "\n",
    "print(f'📊 Dados gerados:')\n",
    "print(f'   • Função: f(x) = -2x + 5')\n",
    "print(f'   • Amostras: {n_samples}')"
   ]
  },
  {
   "cell_type": "markdown",
   "metadata": {},
   "source": [
    "## 🧩 Passo 2: Criar Sistema Fuzzy Mamdani\n",
    "\n",
    "Vamos usar `MamdaniNeurofuzzy` que já está preparado para otimização com PSO!"
   ]
  },
  {
   "cell_type": "code",
   "execution_count": null,
   "metadata": {},
   "outputs": [],
   "source": [
    "# Criar sistema Mamdani neuro-fuzzy\n",
    "sistema = MamdaniNeurofuzzy(\n",
    "    n_inputs=1,\n",
    "    n_mfs=5,  # 5 MFs gaussianas\n",
    "    input_ranges=[(0, 10)],\n",
    "    output_range=(-20, 10)\n",
    ")\n",
    "\n",
    "print('✅ Sistema Fuzzy criado!')\n",
    "print(f'\\n📊 Configuração:')\n",
    "print(f'   • Entrada: 1 variável, 5 MFs gaussianas')\n",
    "print(f'   • Saída: 5 MFs triangulares')\n",
    "print(f'   • Total de regras: 5')\n",
    "print(f'   • Parâmetros otimizáveis: médias, sigmas, centroides')"
   ]
  },
  {
   "cell_type": "markdown",
   "metadata": {},
   "source": [
    "## 🐝 Passo 3: Otimizar com PSO\n",
    "\n",
    "O PSO vai otimizar:\n",
    "- **Médias** das MFs gaussianas de entrada\n",
    "- **Sigmas** das MFs gaussianas\n",
    "- **Centroides** das MFs de saída"
   ]
  },
  {
   "cell_type": "code",
   "execution_count": null,
   "metadata": {},
   "outputs": [],
   "source": [
    "# Configurar PSO\n",
    "pso = PSO(\n",
    "    n_particles=30,\n",
    "    n_iterations=100,\n",
    "    w=0.7,      # Inércia\n",
    "    c1=1.5,     # Coeficiente cognitivo\n",
    "    c2=1.5      # Coeficiente social\n",
    ")\n",
    "\n",
    "print('🐝 Iniciando otimização com PSO...')\n",
    "print('   • 30 partículas')\n",
    "print('   • 100 iterações máximas\\n')\n",
    "\n",
    "# Otimizar\n",
    "best_params, best_fitness, history = pso.optimize_mamdani(\n",
    "    sistema,\n",
    "    X_train,\n",
    "    y_train,\n",
    "    verbose=True\n",
    ")\n",
    "\n",
    "print('\\n' + '='*60)\n",
    "print('✅ Otimização concluída!')\n",
    "print('='*60)\n",
    "print(f'\\n📊 Resultados:')\n",
    "print(f'   • Melhor RMSE: {best_fitness:.6f}')\n",
    "print(f'   • Iterações: {len(history)}')"
   ]
  },
  {
   "cell_type": "markdown",
   "metadata": {},
   "source": [
    "## 📊 Passo 4: Avaliar Sistema Otimizado"
   ]
  },
  {
   "cell_type": "code",
   "execution_count": null,
   "metadata": {},
   "outputs": [],
   "source": [
    "# Predições\n",
    "y_pred = sistema.predict(X_test)\n",
    "\n",
    "# Métricas\n",
    "rmse = np.sqrt(np.mean((y_pred - y_true) ** 2))\n",
    "mae = np.mean(np.abs(y_pred - y_true))\n",
    "r2 = 1 - (np.sum((y_true - y_pred)**2) / np.sum((y_true - np.mean(y_true))**2))\n",
    "\n",
    "print('='*70)\n",
    "print('📊 MÉTRICAS DE DESEMPENHO - SISTEMA OTIMIZADO COM PSO')\n",
    "print('='*70)\n",
    "print(f'   • RMSE: {rmse:.6f}')\n",
    "print(f'   • MAE:  {mae:.6f}')\n",
    "print(f'   • R²:   {r2:.6f}')\n",
    "print('='*70)"
   ]
  },
  {
   "cell_type": "markdown",
   "metadata": {},
   "source": [
    "## 📈 Passo 5: Visualizar Resultados"
   ]
  },
  {
   "cell_type": "code",
   "execution_count": null,
   "metadata": {},
   "outputs": [],
   "source": [
    "# Criar visualização\n",
    "fig, axes = plt.subplots(2, 2, figsize=(14, 10))\n",
    "\n",
    "# 1. Aproximação\n",
    "axes[0, 0].plot(X_test, y_true, 'b-', linewidth=3, label='Real', alpha=0.7)\n",
    "axes[0, 0].plot(X_test, y_pred, 'r--', linewidth=2.5, label='Fuzzy+PSO', alpha=0.8)\n",
    "axes[0, 0].scatter(X_train, y_train, alpha=0.3, s=20, c='blue')\n",
    "axes[0, 0].set_xlabel('x', fontsize=12)\n",
    "axes[0, 0].set_ylabel('y', fontsize=12)\n",
    "axes[0, 0].set_title(f'Aproximação\\nRMSE = {rmse:.4f} | R² = {r2:.4f}', \n",
    "                     fontsize=13, fontweight='bold')\n",
    "axes[0, 0].legend(fontsize=10)\n",
    "axes[0, 0].grid(True, alpha=0.3)\n",
    "\n",
    "# 2. Erro\n",
    "error = y_pred - y_true\n",
    "axes[0, 1].plot(X_test, error, 'g-', linewidth=2.5)\n",
    "axes[0, 1].axhline(y=0, color='k', linestyle='--')\n",
    "axes[0, 1].fill_between(X_test.flatten(), 0, error, alpha=0.3, color='green')\n",
    "axes[0, 1].set_xlabel('x', fontsize=12)\n",
    "axes[0, 1].set_ylabel('Erro', fontsize=12)\n",
    "axes[0, 1].set_title(f'Erro | MAE = {mae:.4f}', fontsize=13, fontweight='bold')\n",
    "axes[0, 1].grid(True, alpha=0.3)\n",
    "\n",
    "# 3. Convergência PSO\n",
    "axes[1, 0].plot(history, linewidth=2.5, color='darkblue')\n",
    "axes[1, 0].set_xlabel('Iteração', fontsize=12)\n",
    "axes[1, 0].set_ylabel('Fitness (RMSE)', fontsize=12)\n",
    "axes[1, 0].set_title('Convergência PSO', fontsize=13, fontweight='bold')\n",
    "axes[1, 0].grid(True, alpha=0.3)\n",
    "\n",
    "# 4. Distribuição do Erro\n",
    "axes[1, 1].hist(error, bins=30, edgecolor='black', alpha=0.7, color='green')\n",
    "axes[1, 1].axvline(x=0, color='r', linestyle='--', linewidth=2)\n",
    "axes[1, 1].set_xlabel('Erro', fontsize=12)\n",
    "axes[1, 1].set_ylabel('Frequência', fontsize=12)\n",
    "axes[1, 1].set_title('Distribuição do Erro', fontsize=13, fontweight='bold')\n",
    "axes[1, 1].grid(True, alpha=0.3, axis='y')\n",
    "\n",
    "plt.tight_layout()\n",
    "plt.show()\n",
    "\n",
    "print('✅ Visualizações geradas!')"
   ]
  },
  {
   "cell_type": "markdown",
   "metadata": {},
   "source": [
    "---\n",
    "\n",
    "## 🎓 Conclusões\n",
    "\n",
    "### ✅ O que aprendemos?\n",
    "\n",
    "1. **PSO para Otimização Fuzzy**:\n",
    "   - Otimiza **parâmetros das MFs** (não apenas regras)\n",
    "   - **Enxame colabora** para encontrar melhores soluções\n",
    "   - Evita **mínimos locais** via exploração coletiva\n",
    "\n",
    "2. **Processo PSO**:\n",
    "   - Cada **partícula** = Uma configuração do sistema fuzzy\n",
    "   - **Velocidade** ajustada por memória pessoal + conhecimento global\n",
    "   - **Convergência** natural do enxame\n",
    "\n",
    "3. **Vantagens do PSO**:\n",
    "   - ✅ Não precisa de **gradientes**\n",
    "   - ✅ Fácil de implementar\n",
    "   - ✅ Poucos hiperparâmetros\n",
    "   - ✅ Funciona bem em espaços contínuos\n",
    "\n",
    "---\n",
    "\n",
    "### 🔬 PSO vs Outros Métodos\n",
    "\n",
    "| Método | O que Otimiza | Vantagem |\n",
    "|--------|---------------|----------|\n",
    "| **Wang-Mendel** | Nada (gera regras) | Rápido, 1 passo |\n",
    "| **ANFIS** | MFs via gradient | Preciso, teórico |\n",
    "| **PSO** | MFs via enxame | Robusto, sem gradientes |\n",
    "| **GA** | MFs via evolução | Exploração ampla |\n",
    "\n",
    "---\n",
    "\n",
    "### 🚀 Próximos Passos\n",
    "\n",
    "1. **Testar outros algoritmos** (GA, DE)\n",
    "2. **Funções não-lineares** (parábola, seno)\n",
    "3. **Comparar PSO vs ANFIS**\n",
    "4. **Otimizar hiperparâmetros** do PSO\n",
    "\n",
    "---\n",
    "\n",
    "### 📚 Recursos\n",
    "\n",
    "- **PyPI**: https://pypi.org/project/pyfuzzy-toolbox/\n",
    "- **GitHub**: https://github.com/1moi6/pyfuzzy-toolbox\n",
    "\n",
    "### 📖 Referências\n",
    "\n",
    "1. **Kennedy, J., & Eberhart, R. (1995)**. \"Particle swarm optimization.\" *IEEE*\n",
    "\n",
    "2. **Shi, Y., & Eberhart, R. (1998)**. \"A modified particle swarm optimizer.\" *IEEE*\n",
    "\n",
    "---\n",
    "\n",
    "**🎉 Parabéns! Você aplicou PSO para otimizar sistemas fuzzy!**\n",
    "\n",
    "*Notebook desenvolvido para o Minicurso de Sistemas de Inferência Fuzzy - Aula 5 - 2025*  \n",
    "*Usando pyfuzzy-toolbox v1.0.0*"
   ]
  }
 ],
 "metadata": {
  "kernelspec": {
   "display_name": "Python 3",
   "language": "python",
   "name": "python3"
  },
  "language_info": {
   "codemirror_mode": {
    "name": "ipython",
    "version": 3
   },
   "file_extension": ".py",
   "mimetype": "text/x-python",
   "name": "python",
   "nbconvert_exporter": "python",
   "pygments_lexer": "ipython3",
   "version": "3.8.0"
  },
  "colab": {
   "provenance": [],
   "include_colab_link": true
  }
 },
 "nbformat": 4,
 "nbformat_minor": 0
}
