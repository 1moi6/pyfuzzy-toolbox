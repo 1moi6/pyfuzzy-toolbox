{
 "cells": [
  {
   "cell_type": "markdown",
   "metadata": {},
   "source": [
    "<a href=\"https://colab.research.google.com/github/1moi6/pyfuzzy-toolbox/blob/main/notebooks_colab/Aula_3/03_wang_mendel_iris.ipynb\" target=\"_parent\"><img src=\"https://colab.research.google.com/assets/colab-badge.svg\" alt=\"Open In Colab\"/></a>"
   ]
  },
  {
   "cell_type": "markdown",
   "metadata": {},
   "source": [
    "# 🌸 Classificação de Flores Iris com Wang-Mendel\n",
    "\n",
    "**Aula 3 - Minicurso de Sistemas de Inferência Fuzzy**\n",
    "\n",
    "---\n",
    "\n",
    "## 📋 Objetivo\n",
    "\n",
    "Neste notebook, vamos aplicar o **Método de Wang-Mendel** para classificar flores Iris usando apenas **2 variáveis**:\n",
    "- **Petal Length** (comprimento da pétala)\n",
    "- **Petal Width** (largura da pétala)\n",
    "\n",
    "### Por que Iris?\n",
    "- Dataset clássico de Machine Learning (Fisher, 1936)\n",
    "- 3 espécies: *Setosa*, *Versicolor*, *Virginica*\n",
    "- 150 amostras (50 de cada espécie)\n",
    "- **Vantagem do Wang-Mendel**: Regras interpretáveis!\n",
    "\n",
    "---\n",
    "\n",
    "## 📚 Referências\n",
    "- Wang, L. X., & Mendel, J. M. (1992). \"Generating fuzzy rules by learning from examples.\"\n",
    "- Fisher, R. A. (1936). \"The use of multiple measurements in taxonomic problems.\"\n",
    "\n",
    "---"
   ]
  },
  {
   "cell_type": "markdown",
   "metadata": {},
   "source": [
    "## 🔧 Instalação"
   ]
  },
  {
   "cell_type": "code",
   "execution_count": null,
   "metadata": {},
   "outputs": [],
   "source": [
    "!pip install pyfuzzy-toolbox[ml] scikit-learn -q\n",
    "\n",
    "print('✅ pyfuzzy-toolbox e scikit-learn instalados com sucesso!')"
   ]
  },
  {
   "cell_type": "markdown",
   "metadata": {},
   "source": [
    "## 📦 Importações"
   ]
  },
  {
   "cell_type": "code",
   "execution_count": null,
   "metadata": {},
   "outputs": [],
   "source": [
    "import numpy as np\n",
    "import matplotlib.pyplot as plt\n",
    "import fuzzy_systems as fs\n",
    "from fuzzy_systems.learning import WangMendelClassification\n",
    "from sklearn.datasets import load_iris\n",
    "from sklearn.model_selection import train_test_split\n",
    "from sklearn.metrics import accuracy_score, confusion_matrix, classification_report\n",
    "from sklearn.neighbors import KNeighborsClassifier\n",
    "from sklearn.tree import DecisionTreeClassifier\n",
    "\n",
    "%matplotlib inline\n",
    "\n",
    "# Configuração\n",
    "plt.rcParams['figure.figsize'] = (12, 6)\n",
    "np.set_printoptions(precision=3, suppress=True)\n",
    "np.random.seed(42)\n",
    "\n",
    "print('✅ Bibliotecas importadas!')\n",
    "print(f'   pyfuzzy-toolbox: {fs.__version__}')"
   ]
  },
  {
   "cell_type": "markdown",
   "metadata": {},
   "source": [
    "## 📊 Passo 1: Carregar e Explorar Dataset Iris"
   ]
  },
  {
   "cell_type": "code",
   "execution_count": null,
   "metadata": {},
   "outputs": [],
   "source": [
    "# Carregar dataset Iris\n",
    "iris = load_iris()\n",
    "\n",
    "# Usar apenas features 2 e 3 (Petal Length e Petal Width)\n",
    "X = iris.data[:, 2:4]\n",
    "y = iris.target\n",
    "\n",
    "feature_names = ['Petal Length (cm)', 'Petal Width (cm)']\n",
    "class_names = ['setosa', 'versicolor', 'virginica']\n",
    "\n",
    "print('📊 Dataset Iris (2 variáveis)')\n",
    "print(f'   Shape: {X.shape}')\n",
    "print(f'   Features: {feature_names}')\n",
    "print(f'   Classes: {class_names}')\n",
    "print()\n",
    "\n",
    "# Estatísticas\n",
    "print('📈 Estatísticas:')\n",
    "for i, name in enumerate(feature_names):\n",
    "    print(f'   {name:20s}: [{X[:, i].min():.2f}, {X[:, i].max():.2f}]')\n",
    "print()\n",
    "\n",
    "# Distribuição de classes\n",
    "print('🌸 Distribuição de classes:')\n",
    "for i, name in enumerate(class_names):\n",
    "    count = np.sum(y == i)\n",
    "    print(f'   {name:12s}: {count} amostras')"
   ]
  },
  {
   "cell_type": "markdown",
   "metadata": {},
   "source": [
    "## 📈 Visualização dos Dados"
   ]
  },
  {
   "cell_type": "code",
   "execution_count": null,
   "metadata": {},
   "outputs": [],
   "source": [
    "# Scatter plot colorido por classe\n",
    "plt.figure(figsize=(10, 7))\n",
    "\n",
    "colors = ['red', 'green', 'blue']\n",
    "markers = ['o', 's', '^']\n",
    "\n",
    "for i, (name, color, marker) in enumerate(zip(class_names, colors, markers)):\n",
    "    idx = y == i\n",
    "    plt.scatter(X[idx, 0], X[idx, 1], \n",
    "                c=color, marker=marker, s=100, \n",
    "                label=name, alpha=0.7, edgecolors='black')\n",
    "\n",
    "plt.xlabel('Petal Length (cm)', fontsize=12)\n",
    "plt.ylabel('Petal Width (cm)', fontsize=12)\n",
    "plt.title('Dataset Iris - Visualização 2D', fontsize=14, fontweight='bold')\n",
    "plt.legend(fontsize=11)\n",
    "plt.grid(True, alpha=0.3)\n",
    "plt.tight_layout()\n",
    "plt.show()\n",
    "\n",
    "print('✅ As classes são visualmente separáveis!')"
   ]
  },
  {
   "cell_type": "markdown",
   "metadata": {},
   "source": [
    "## 📦 Passo 2: Dividir em Treino e Teste"
   ]
  },
  {
   "cell_type": "code",
   "execution_count": null,
   "metadata": {},
   "outputs": [],
   "source": [
    "# Dividir dataset: 70% treino, 30% teste\n",
    "X_train, X_test, y_train, y_test = train_test_split(\n",
    "    X, y, test_size=0.3, random_state=42, stratify=y\n",
    ")\n",
    "\n",
    "print('📦 Divisão dos dados:')\n",
    "print(f'   Treino: {len(X_train)} amostras')\n",
    "print(f'   Teste:  {len(X_test)} amostras')\n",
    "print()\n",
    "print('✅ Dados prontos para Wang-Mendel!')"
   ]
  },
  {
   "cell_type": "markdown",
   "metadata": {},
   "source": [
    "## 🧠 Passo 3: Criar e Treinar Modelo Wang-Mendel\n",
    "\n",
    "Vamos criar um modelo com:\n",
    "- **5 partições para cada entrada** (petal_length e petal_width)\n",
    "- **Classificação** em 3 classes (setosa, versicolor, virginica)"
   ]
  },
  {
   "cell_type": "code",
   "execution_count": null,
   "metadata": {},
   "outputs": [],
   "source": [
    "# Criar modelo Wang-Mendel para classificação\n",
    "wm = WangMendel(\n",
    "    n_partitions=5,\n",
    "    margin=0.15,\n",
    "    input_names=['petal_length', 'petal_width'],\n",
    "    output_name='species',\n",
    "    classification=True,\n",
    "    n_classes=3\n",
    ")\n",
    "\n",
    "print('✅ Modelo Wang-Mendel criado para classificação!')\n",
    "print('   • 5 partições para cada entrada')\n",
    "print('   • 3 classes: setosa, versicolor, virginica')\n",
    "print('   • Margem: 15%\\n')\n",
    "\n",
    "# Treinar (executa os 5 passos automaticamente)\n",
    "wm.fit(X_train, y_train)\n",
    "\n",
    "print('\\n✅ Treinamento completo!')\n",
    "print(f'   • Regras geradas: {wm.n_rules}')"
   ]
  },
  {
   "cell_type": "markdown",
   "metadata": {},
   "source": [
    "## 📊 Passo 4: Visualizar Partições Fuzzy"
   ]
  },
  {
   "cell_type": "code",
   "execution_count": null,
   "metadata": {},
   "outputs": [],
   "source": [
    "# Visualizar partições das entradas\n",
    "fig, axes = plt.subplots(2, 1, figsize=(14, 10))\n",
    "\n",
    "# Partições de petal_length\n",
    "x1_universe = np.linspace(wm.fis.inputs['petal_length'].universe[0], \n",
    "                          wm.fis.inputs['petal_length'].universe[1], 300)\n",
    "for term_name, term in wm.fis.inputs['petal_length'].terms.items():\n",
    "    mu = term.membership(x1_universe)\n",
    "    axes[0].plot(x1_universe, mu, linewidth=2, label=term_name, alpha=0.7)\n",
    "    axes[0].fill_between(x1_universe, 0, mu, alpha=0.2)\n",
    "\n",
    "axes[0].set_title('Partições de Petal Length (5 termos)', fontsize=13, fontweight='bold')\n",
    "axes[0].set_xlabel('Petal Length (cm)', fontsize=12)\n",
    "axes[0].set_ylabel('Grau de Pertinência', fontsize=12)\n",
    "axes[0].legend(fontsize=10)\n",
    "axes[0].grid(True, alpha=0.3)\n",
    "axes[0].set_ylim([-0.05, 1.05])\n",
    "\n",
    "# Partições de petal_width\n",
    "x2_universe = np.linspace(wm.fis.inputs['petal_width'].universe[0], \n",
    "                          wm.fis.inputs['petal_width'].universe[1], 300)\n",
    "for term_name, term in wm.fis.inputs['petal_width'].terms.items():\n",
    "    mu = term.membership(x2_universe)\n",
    "    axes[1].plot(x2_universe, mu, linewidth=2, label=term_name, alpha=0.7)\n",
    "    axes[1].fill_between(x2_universe, 0, mu, alpha=0.2)\n",
    "\n",
    "axes[1].set_title('Partições de Petal Width (5 termos)', fontsize=13, fontweight='bold')\n",
    "axes[1].set_xlabel('Petal Width (cm)', fontsize=12)\n",
    "axes[1].set_ylabel('Grau de Pertinência', fontsize=12)\n",
    "axes[1].legend(fontsize=10)\n",
    "axes[1].grid(True, alpha=0.3)\n",
    "axes[1].set_ylim([-0.05, 1.05])\n",
    "\n",
    "plt.tight_layout()\n",
    "plt.show()\n",
    "\n",
    "print('✅ Partições visualizadas!')"
   ]
  },
  {
   "cell_type": "markdown",
   "metadata": {},
   "source": [
    "## 📜 Passo 5: Inspecionar Regras Geradas"
   ]
  },
  {
   "cell_type": "code",
   "execution_count": null,
   "metadata": {},
   "outputs": [],
   "source": [
    "print('='*70)\n",
    "print('📜 REGRAS GERADAS AUTOMATICAMENTE')\n",
    "print('='*70)\n",
    "print(f'\\nTotal de regras: {len(wm.fis.rules)}\\n')\n",
    "\n",
    "print('Exemplos de regras (mostrando primeiras 10):\\n')\n",
    "for i, rule in enumerate(wm.fis.rules[:10], 1):\n",
    "    # Extrair antecedentes e consequentes\n",
    "    ant_str = ' E '.join([f'{var} é {term}' for var, term in rule.antecedents.items()])\n",
    "    cons_str = ', '.join([f'{var} é {term}' for var, term in rule.consequent.items()])\n",
    "    print(f'   {i:2d}. SE {ant_str}')\n",
    "    print(f'       ENTÃO {cons_str}')\n",
    "\n",
    "if len(wm.fis.rules) > 10:\n",
    "    print(f'\\n   ... (e mais {len(wm.fis.rules) - 10} regras)')\n",
    "\n",
    "print('\\n' + '='*70)\n",
    "print('💡 Regras capturam padrões para classificar as 3 espécies!')\n",
    "print('='*70)"
   ]
  },
  {
   "cell_type": "markdown",
   "metadata": {},
   "source": [
    "## 🧪 Passo 6: Fazer Predições e Avaliar"
   ]
  },
  {
   "cell_type": "code",
   "execution_count": null,
   "metadata": {},
   "outputs": [],
   "source": [
    "# Fazer predições\n",
    "y_pred_fuzzy = wm.predict(X_test)\n",
    "\n",
    "# Calcular acurácia\n",
    "acc_fuzzy = accuracy_score(y_test, y_pred_fuzzy)\n",
    "\n",
    "print('='*70)\n",
    "print('📊 RESULTADOS DO WANG-MENDEL')\n",
    "print('='*70)\n",
    "print(f'\\n✅ Acurácia: {acc_fuzzy*100:.2f}%\\n')\n",
    "\n",
    "# Relatório de classificação\n",
    "print('📋 Relatório de Classificação:')\n",
    "print(classification_report(y_test, y_pred_fuzzy, target_names=class_names))\n",
    "print('='*70)"
   ]
  },
  {
   "cell_type": "markdown",
   "metadata": {},
   "source": [
    "## 📈 Matriz de Confusão"
   ]
  },
  {
   "cell_type": "code",
   "execution_count": null,
   "metadata": {},
   "outputs": [],
   "source": [
    "# Calcular matriz de confusão\n",
    "cm = confusion_matrix(y_test, y_pred_fuzzy)\n",
    "\n",
    "# Plotar\n",
    "fig, ax = plt.subplots(figsize=(8, 6))\n",
    "im = ax.imshow(cm, cmap='Blues')\n",
    "\n",
    "# Configurar eixos\n",
    "ax.set_xticks(np.arange(len(class_names)))\n",
    "ax.set_yticks(np.arange(len(class_names)))\n",
    "ax.set_xticklabels(class_names)\n",
    "ax.set_yticklabels(class_names)\n",
    "\n",
    "# Rotacionar labels\n",
    "plt.setp(ax.get_xticklabels(), rotation=45, ha=\"right\", rotation_mode=\"anchor\")\n",
    "\n",
    "# Adicionar valores nas células\n",
    "for i in range(len(class_names)):\n",
    "    for j in range(len(class_names)):\n",
    "        text = ax.text(j, i, cm[i, j],\n",
    "                       ha=\"center\", va=\"center\", \n",
    "                       color=\"white\" if cm[i, j] > cm.max() / 2 else \"black\",\n",
    "                       fontsize=16, fontweight='bold')\n",
    "\n",
    "ax.set_title('Matriz de Confusão - Wang-Mendel', fontsize=14, fontweight='bold', pad=20)\n",
    "ax.set_ylabel('Classe Real', fontsize=12)\n",
    "ax.set_xlabel('Classe Predita', fontsize=12)\n",
    "fig.colorbar(im, ax=ax)\n",
    "plt.tight_layout()\n",
    "plt.show()\n",
    "\n",
    "print('✅ Matriz de confusão gerada!')"
   ]
  },
  {
   "cell_type": "markdown",
   "metadata": {},
   "source": [
    "## 🔬 Passo 7: Comparação com Métodos Clássicos"
   ]
  },
  {
   "cell_type": "code",
   "execution_count": null,
   "metadata": {},
   "outputs": [],
   "source": [
    "print('📊 Comparando com métodos clássicos de ML\\n')\n",
    "\n",
    "# K-Nearest Neighbors\n",
    "knn = KNeighborsClassifier(n_neighbors=3)\n",
    "knn.fit(X_train, y_train)\n",
    "y_pred_knn = knn.predict(X_test)\n",
    "acc_knn = accuracy_score(y_test, y_pred_knn)\n",
    "\n",
    "# Decision Tree\n",
    "dt = DecisionTreeClassifier(max_depth=4, random_state=42)\n",
    "dt.fit(X_train, y_train)\n",
    "y_pred_dt = dt.predict(X_test)\n",
    "acc_dt = accuracy_score(y_test, y_pred_dt)\n",
    "\n",
    "print('='*70)\n",
    "print('📋 COMPARAÇÃO DE MÉTODOS')\n",
    "print('='*70)\n",
    "print(f'   Wang-Mendel:    {acc_fuzzy*100:.2f}%')\n",
    "print(f'   KNN (k=3):      {acc_knn*100:.2f}%')\n",
    "print(f'   Decision Tree:  {acc_dt*100:.2f}%')\n",
    "print('='*70)"
   ]
  },
  {
   "cell_type": "markdown",
   "metadata": {},
   "source": [
    "## 📊 Gráfico de Comparação"
   ]
  },
  {
   "cell_type": "code",
   "execution_count": null,
   "metadata": {},
   "outputs": [],
   "source": [
    "# Gráfico de barras\n",
    "metodos = ['Wang-Mendel', 'KNN (k=3)', 'Decision Tree']\n",
    "acuracias = [acc_fuzzy * 100, acc_knn * 100, acc_dt * 100]\n",
    "cores = ['#FF6B6B', '#4ECDC4', '#45B7D1']\n",
    "\n",
    "fig, ax = plt.subplots(figsize=(10, 6))\n",
    "bars = ax.bar(metodos, acuracias, color=cores, alpha=0.8, edgecolor='black', linewidth=1.5)\n",
    "\n",
    "# Adicionar valores nas barras\n",
    "for bar, acc in zip(bars, acuracias):\n",
    "    height = bar.get_height()\n",
    "    ax.text(bar.get_x() + bar.get_width()/2., height + 1,\n",
    "            f'{acc:.1f}%',\n",
    "            ha='center', va='bottom', fontsize=13, fontweight='bold')\n",
    "\n",
    "ax.set_ylabel('Acurácia (%)', fontsize=12)\n",
    "ax.set_title('Comparação de Métodos de Classificação - Iris Dataset', \n",
    "             fontsize=14, fontweight='bold', pad=20)\n",
    "ax.set_ylim([0, 110])\n",
    "ax.grid(axis='y', alpha=0.3, linestyle='--')\n",
    "plt.tight_layout()\n",
    "plt.show()\n",
    "\n",
    "print('✅ Comparação concluída!')\n",
    "print('\\n💡 Wang-Mendel tem acurácia competitiva COM a vantagem de ser interpretável!')"
   ]
  },
  {
   "cell_type": "markdown",
   "metadata": {},
   "source": [
    "## 🔍 Passo 8: Exemplo de Predição Individual\n",
    "\n",
    "Vamos ver como o sistema classifica uma amostra específica!"
   ]
  },
  {
   "cell_type": "code",
   "execution_count": null,
   "metadata": {},
   "outputs": [],
   "source": [
    "# Escolher uma amostra de teste\n",
    "idx_exemplo = 5\n",
    "x_exemplo = X_test[idx_exemplo]\n",
    "y_real = class_names[y_test[idx_exemplo]]\n",
    "\n",
    "print('='*70)\n",
    "print('🔍 EXEMPLO DE PREDIÇÃO INDIVIDUAL')\n",
    "print('='*70)\n",
    "print(f'\\n📋 Amostra escolhida:')\n",
    "print(f'   Petal Length: {x_exemplo[0]:.2f} cm')\n",
    "print(f'   Petal Width:  {x_exemplo[1]:.2f} cm')\n",
    "print(f'   Classe real:  {y_real}')\n",
    "print()\n",
    "\n",
    "# Fuzzificação\n",
    "graus_length = wm.fis.inputs['petal_length'].fuzzify(x_exemplo[0])\n",
    "graus_width = wm.fis.inputs['petal_width'].fuzzify(x_exemplo[1])\n",
    "\n",
    "print('[ETAPA 1] FUZZIFICAÇÃO')\n",
    "print('-'*70)\n",
    "print(f'Petal Length = {x_exemplo[0]:.2f} cm:')\n",
    "for termo, mu in graus_length.items():\n",
    "    if mu > 0:\n",
    "        print(f'  μ({termo}) = {mu:.3f}')\n",
    "\n",
    "print(f'\\nPetal Width = {x_exemplo[1]:.2f} cm:')\n",
    "for termo, mu in graus_width.items():\n",
    "    if mu > 0:\n",
    "        print(f'  μ({termo}) = {mu:.3f}')\n",
    "\n",
    "# Fazer predição\n",
    "classe_pred_idx = wm.predict([x_exemplo])[0]\n",
    "classe_pred = class_names[classe_pred_idx]\n",
    "\n",
    "print()\n",
    "print('='*70)\n",
    "print(f'✅ Classe predita: {classe_pred}')\n",
    "print(f'✅ Predição {\"CORRETA\" if classe_pred_idx == y_test[idx_exemplo] else \"INCORRETA\"}!')\n",
    "print('='*70)"
   ]
  },
  {
   "cell_type": "markdown",
   "metadata": {},
   "source": [
    "---\n",
    "\n",
    "## 🎓 Conclusões\n",
    "\n",
    "### ✅ Vantagens do Wang-Mendel para Classificação\n",
    "\n",
    "1. **Interpretabilidade Total**\n",
    "   - Regras linguísticas claras\n",
    "   - Fácil entender COMO o sistema decide\n",
    "   - Diferente de redes neurais (caixa-preta)\n",
    "\n",
    "2. **Aprendizado Automático**\n",
    "   - Regras geradas automaticamente dos dados\n",
    "   - Não precisa de especialista\n",
    "   - Rápido (um único passo pelos dados)\n",
    "\n",
    "3. **Acurácia Competitiva**\n",
    "   - Desempenho comparável a KNN e Decision Tree\n",
    "   - Especialmente bom quando classes são linearmente separáveis\n",
    "\n",
    "4. **Robustez**\n",
    "   - Funciona bem mesmo com partições simples\n",
    "   - Lida bem com dados fuzzy (fronteiras não nítidas)\n",
    "\n",
    "---\n",
    "\n",
    "### ⚠️ Limitações\n",
    "\n",
    "1. **Particionamento Fixo**\n",
    "   - Número de partições escolhido a priori\n",
    "   - Pode não ser ótimo para todos os problemas\n",
    "\n",
    "2. **Explosão de Regras**\n",
    "   - Com muitas entradas: n_partitions^n_inputs regras possíveis\n",
    "   - Para este exemplo: 5² = 25 regras possíveis\n",
    "\n",
    "3. **Classificação Multiclasse**\n",
    "   - Precisa mapear saída contínua para classes discretas\n",
    "   - Pode haver ambiguidade nas fronteiras\n",
    "\n",
    "---\n",
    "\n",
    "### 🚀 Próximos Passos\n",
    "\n",
    "1. **Experimentar com mais features**\n",
    "   - Usar as 4 features do Iris\n",
    "   - Ver como performance muda\n",
    "\n",
    "2. **Otimizar partições**\n",
    "   - Testar n_partitions = 3, 5, 7, 9\n",
    "   - Encontrar melhor trade-off entre complexidade e acurácia\n",
    "\n",
    "3. **Combinar com ANFIS**\n",
    "   - Usar Wang-Mendel para inicializar ANFIS\n",
    "   - Refinar regras com backpropagation (Aula 4!)\n",
    "\n",
    "4. **Aplicar a outros datasets**\n",
    "   - Wine Quality\n",
    "   - Breast Cancer\n",
    "   - Outros problemas de classificação\n",
    "\n",
    "---\n",
    "\n",
    "### 📚 Recursos\n",
    "\n",
    "- **PyPI**: https://pypi.org/project/pyfuzzy-toolbox/\n",
    "- **GitHub**: https://github.com/1moi6/pyfuzzy-toolbox\n",
    "\n",
    "### 📖 Referências\n",
    "\n",
    "1. **Wang, L. X., & Mendel, J. M. (1992)**. \"Generating fuzzy rules by learning from examples.\" *IEEE Transactions on Systems, Man, and Cybernetics*, 22(6), 1414-1427.\n",
    "\n",
    "2. **Fisher, R. A. (1936)**. \"The use of multiple measurements in taxonomic problems.\" *Annals of Eugenics*, 7(2), 179-188.\n",
    "\n",
    "3. **Ross, T. J. (2010)**. *Fuzzy Logic with Engineering Applications*. 3rd ed. Wiley.\n",
    "\n",
    "---\n",
    "\n",
    "**🎉 Parabéns! Você aplicou Wang-Mendel para classificação!**\n",
    "\n",
    "*Notebook desenvolvido para o Minicurso de Sistemas de Inferência Fuzzy - Aula 3 - 2025*  \n",
    "*Usando pyfuzzy-toolbox v1.0.0*"
   ]
  }
 ],
 "metadata": {
  "colab": {
   "include_colab_link": true,
   "provenance": []
  },
  "kernelspec": {
   "display_name": "Python 3",
   "language": "python",
   "name": "python3"
  },
  "language_info": {
   "codemirror_mode": {
    "name": "ipython",
    "version": 3
   },
   "file_extension": ".py",
   "mimetype": "text/x-python",
   "name": "python",
   "nbconvert_exporter": "python",
   "pygments_lexer": "ipython3",
   "version": "3.8.0"
  }
 },
 "nbformat": 4,
 "nbformat_minor": 0
}
