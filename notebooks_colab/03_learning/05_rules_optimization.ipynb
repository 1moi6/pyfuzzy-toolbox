{
 "cells": [
  {
   "cell_type": "markdown",
   "metadata": {},
   "source": [
    "<a href=\"https://colab.research.google.com/github/1moi6/pyfuzzy-toolbox/blob/main/notebooks_colab/03_learning/06_rules_optimization.ipynb\" target=\"_parent\"><img src=\"https://colab.research.google.com/assets/colab-badge.svg\" alt=\"Open In Colab\"/></a>"
   ]
  },
  {
   "cell_type": "code",
   "execution_count": null,
   "metadata": {},
   "outputs": [],
   "source": [
    "!pip install pyfuzzy-toolbox[ml] -q\n",
    "\n",
    "print('✅ pyfuzzy-toolbox instalado com sucesso!')"
   ]
  },
  {
   "cell_type": "markdown",
   "metadata": {},
   "source": [
    "## 📦 Importações"
   ]
  },
  {
   "cell_type": "code",
   "execution_count": null,
   "metadata": {},
   "outputs": [],
   "source": [
    "import numpy as np\n",
    "import matplotlib.pyplot as plt\n",
    "import fuzzy_systems as fs\n",
    "from fuzzy_systems import MamdaniSystem\n",
    "from fuzzy_systems.learning import MamdaniLearning\n",
    "\n",
    "%matplotlib inline\n",
    "\n",
    "# Configurações\n",
    "plt.rcParams['figure.figsize'] = (12, 6)\n",
    "np.random.seed(42)\n",
    "\n",
    "print('✅ Bibliotecas importadas!')\n",
    "print(f'   pyfuzzy-toolbox: {fs.__version__}')"
   ]
  },
  {
   "cell_type": "code",
   "execution_count": null,
   "metadata": {},
   "outputs": [],
   "source": [
    "# Função alvo\n",
    "def funcao_real(x):\n",
    "    \"\"\"f(x) = -2x + 5\"\"\"\n",
    "    return -2 * x + 5\n",
    "\n",
    "# Gerar dados\n",
    "n_samples = 100\n",
    "X_train = np.linspace(0, 1, n_samples).reshape(-1, 1)\n",
    "y_train = funcao_real(X_train.flatten()) + np.random.normal(0, 0.01, n_samples)\n",
    "\n",
    "X_test = np.linspace(0, 1, 200).reshape(-1, 1)\n",
    "y_true = funcao_real(X_test.flatten())\n",
    "\n",
    "# Visualizar\n",
    "plt.figure(figsize=(10, 6))\n",
    "plt.plot(X_test, y_true, 'k-', linewidth=3, label='f(x) = -2x + 5', alpha=0.7)\n",
    "plt.scatter(X_train, y_train, color='red', s=30, alpha=0.5, label=f'Dados (n={n_samples})')\n",
    "plt.xlabel('x', fontsize=13)\n",
    "plt.ylabel('y', fontsize=13)\n",
    "plt.title('Linear Fit by Mandani FIS', fontsize=14, fontweight='bold')\n",
    "plt.legend(fontsize=12)\n",
    "plt.grid(True, alpha=0.3)\n",
    "plt.tight_layout()\n",
    "plt.show()\n"
   ]
  },
  {
   "cell_type": "code",
   "execution_count": null,
   "metadata": {},
   "outputs": [],
   "source": [
    "# ==================== 3. CRIAR SISTEMA FUZZY ====================\n",
    "\n",
    "fis = MamdaniSystem()\n",
    "input_universe = X_train.min(), X_train.max()\n",
    "diff = y_train.max() - y_train.min()\n",
    "\n",
    "output_universe = (y_train.min() - 0.1*diff, y_train.max() + 0.1*diff)\n",
    "\n",
    "fis.add_input('x', input_universe)\n",
    "fis.add_output('y', output_universe)\n",
    "\n",
    "num_input_mfs = 7\n",
    "num_output_mfs = 7\n",
    "\n",
    "input_centers = np.linspace(input_universe[0], input_universe[1], num_input_mfs)\n",
    "del_in = (input_centers[1]-input_centers[0])\n",
    "for i in range(num_input_mfs):\n",
    "    a =  input_centers[i] - del_in\n",
    "    b =  input_centers[i]\n",
    "    c =  input_centers[i] + del_in\n",
    "    fis.add_term('x', f'IN_{i+1}', 'trimf', (a, b, c))     \n",
    "\n",
    "output_centers = np.linspace(output_universe[0], output_universe[1], num_output_mfs)\n",
    "del_out = (output_centers[1]-output_centers[0])\n",
    "for i in range(num_output_mfs):\n",
    "    a =  output_centers[i] - del_out\n",
    "    b =  output_centers[i]\n",
    "    c =  output_centers[i] + del_out\n",
    "    fis.add_term('y', f'OUT_{i+1}', 'trimf', (a, b, c))\n",
    "\n",
    "fis.info()"
   ]
  },
  {
   "cell_type": "code",
   "execution_count": null,
   "metadata": {},
   "outputs": [],
   "source": [
    "# Instace the model\n",
    "learner = MamdaniLearning(fis, num_points=1000, verbose=True)"
   ]
  },
  {
   "cell_type": "code",
   "execution_count": null,
   "metadata": {},
   "outputs": [],
   "source": [
    "learner.fit_rules(\n",
    "            X_train, y_train,\n",
    "            optimizer='sa',\n",
    "            optimizer_params={'temperature_init': 100.0, 'cooling_rate': 0.95, 'max_iterations': 5000,'temperature_min': 1e-6},\n",
    "            initial_solution_method='random'\n",
    "        )\n",
    "\n",
    "y_pred_train = learner.predict(X_train)\n",
    "y_pred = learner.predict(X_test)\n",
    "\n",
    "rmse_train = learner.get_cost()\n",
    "rmse_test = learner.score(X_test, y_true)"
   ]
  },
  {
   "cell_type": "markdown",
   "metadata": {},
   "source": [
    "## 📈 Passo 5: Visualizar Resultados"
   ]
  },
  {
   "cell_type": "code",
   "execution_count": null,
   "metadata": {},
   "outputs": [],
   "source": [
    "# Criar visualização\n",
    "fig, axes = plt.subplots(2, 2, figsize=(14, 10))\n",
    "\n",
    "history = learner.get_history()\n",
    "\n",
    "# 1. Aproximação\n",
    "axes[0, 0].plot(X_test, y_true, 'b-', linewidth=3, label='Real', alpha=0.7)\n",
    "axes[0, 0].plot(X_test, y_pred, 'r--', linewidth=2.5, label='FIS', alpha=0.8)\n",
    "axes[0, 0].scatter(X_train, y_train, alpha=0.3, s=20, c='blue')\n",
    "axes[0, 0].set_xlabel('x', fontsize=12)\n",
    "axes[0, 0].set_ylabel('y', fontsize=12)\n",
    "axes[0, 0].set_title(f'Aproximação\\nRMSE = {rmse_test:.4f}', \n",
    "                     fontsize=13, fontweight='bold')\n",
    "axes[0, 0].legend(fontsize=10)\n",
    "axes[0, 0].grid(True, alpha=0.3)\n",
    "\n",
    "# 2. Erro\n",
    "error = y_pred - y_true\n",
    "axes[0, 1].plot(X_test, error, 'g-', linewidth=2.5)\n",
    "axes[0, 1].axhline(y=0, color='k', linestyle='--')\n",
    "axes[0, 1].fill_between(X_test.flatten(), 0, error, alpha=0.3, color='green')\n",
    "axes[0, 1].set_xlabel('x', fontsize=12)\n",
    "axes[0, 1].set_ylabel('Erro', fontsize=12)\n",
    "axes[0, 1].grid(True, alpha=0.3)\n",
    "\n",
    "# 3. Convergência PSO\n",
    "axes[1, 0].plot(history['current_cost'], linewidth=2.5, color='darkblue')\n",
    "axes[1, 0].set_xlabel('Iteração', fontsize=12)\n",
    "axes[1, 0].set_ylabel('Fitness (RMSE)', fontsize=12)\n",
    "axes[1, 0].set_title('Convergência FIS', fontsize=13, fontweight='bold')\n",
    "axes[1, 0].grid(True, alpha=0.3)\n",
    "\n",
    "# 4. Distribuição do Erro\n",
    "axes[1, 1].hist(error, bins=30, edgecolor='black', alpha=0.7, color='green')\n",
    "axes[1, 1].axvline(x=0, color='r', linestyle='--', linewidth=2)\n",
    "axes[1, 1].set_xlabel('Erro', fontsize=12)\n",
    "axes[1, 1].set_ylabel('Frequência', fontsize=12)\n",
    "axes[1, 1].set_title('Distribuição do Erro', fontsize=13, fontweight='bold')\n",
    "axes[1, 1].grid(True, alpha=0.3, axis='y')\n",
    "\n",
    "plt.tight_layout()\n",
    "plt.show()\n"
   ]
  },
  {
   "cell_type": "code",
   "execution_count": null,
   "metadata": {},
   "outputs": [],
   "source": [
    "rm = fis.plot_rule_matrix()"
   ]
  },
  {
   "cell_type": "code",
   "execution_count": null,
   "metadata": {},
   "outputs": [],
   "source": [
    "# Configurações dos otimizadores\n",
    "optimizers_config = {\n",
    "    'SA': {\n",
    "        'optimizer': 'sa',\n",
    "        'params': {\n",
    "            'temperature_init': 100.0,\n",
    "            'cooling_rate': 0.95,\n",
    "            'max_iterations': 2000,\n",
    "            'plateau_iterations': 500,\n",
    "            'temperature_min': 1e-6\n",
    "        }\n",
    "    },\n",
    "    'GA': {\n",
    "        'optimizer': 'ga',\n",
    "        'params': {\n",
    "            'pop_size': 50,\n",
    "            'max_gen': 100,\n",
    "            'mutation_rate': 0.1,\n",
    "            'crossover_rate': 0.8\n",
    "        }\n",
    "    },\n",
    "    'PSO': {\n",
    "        'optimizer': 'pso',\n",
    "        'params': {\n",
    "            'n_particles': 30,\n",
    "            'n_iterations': 100,\n",
    "            'w_max': 0.9,\n",
    "            'w_min': 0.4\n",
    "        }\n",
    "    },\n",
    "    'DE': {\n",
    "        'optimizer': 'de',\n",
    "        'params': {\n",
    "            'pop_size': 30,\n",
    "            'max_iter': 100,\n",
    "            'F': 0.8,\n",
    "            'CR': 0.7\n",
    "        }\n",
    "    }\n",
    "}\n",
    "\n",
    "learner = MamdaniLearning(fis, num_points=1000, verbose=True)\n",
    "optimizer ='GA'\n",
    "learner.fit_rules(\n",
    "            X_train, y_train,\n",
    "            optimizer=optimizers_config[optimizer]['optimizer'],\n",
    "            optimizer_params=optimizers_config[optimizer]['params'],\n",
    "            initial_solution_method='random'\n",
    "        )"
   ]
  },
  {
   "cell_type": "code",
   "execution_count": null,
   "metadata": {},
   "outputs": [],
   "source": []
  }
 ],
 "metadata": {
  "colab": {
   "include_colab_link": true,
   "provenance": []
  },
  "kernelspec": {
   "display_name": "test_env (3.13.1)",
   "language": "python",
   "name": "python3"
  },
  "language_info": {
   "codemirror_mode": {
    "name": "ipython",
    "version": 3
   },
   "file_extension": ".py",
   "mimetype": "text/x-python",
   "name": "python",
   "nbconvert_exporter": "python",
   "pygments_lexer": "ipython3",
   "version": "3.13.1"
  }
 },
 "nbformat": 4,
 "nbformat_minor": 0
}
