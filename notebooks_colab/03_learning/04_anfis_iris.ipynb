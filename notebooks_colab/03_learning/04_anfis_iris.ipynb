{
 "cells": [
  {
   "cell_type": "markdown",
   "metadata": {},
   "source": [
    "# ANFIS: Iris Classification\n",
    "\n",
    "Binary classification using ANFIS (Adaptive Neuro-Fuzzy Inference System).\n"
   ]
  },
  {
   "cell_type": "code",
   "execution_count": null,
   "metadata": {},
   "outputs": [],
   "source": [
    "## Installation of required packages on Google Colab\n",
    "!pip install pyfuzzy-toolbox[ml] scikit-learn -q\n",
    "\n",
    "print('✅ pyfuzzy-toolbox and scikit-learn successfully installed!')"
   ]
  },
  {
   "cell_type": "code",
   "execution_count": null,
   "metadata": {},
   "outputs": [],
   "source": [
    "import fuzzy_systems as fs\n",
    "from fuzzy_systems.learning import ANFIS\n",
    "import numpy as np\n",
    "import matplotlib.pyplot as plt\n",
    "\n",
    "# Configurar matplotlib\n",
    "%matplotlib inline\n",
    "plt.rcParams['figure.figsize'] = (12, 6)\n",
    "plt.rcParams['font.size'] = 11\n",
    "plt.rcParams['figure.dpi'] = 100\n",
    "\n",
    "print(\"✅ Bibliotecas importadas com sucesso!\")\n",
    "print(f\"   Versão do NumPy: {np.__version__}\")\n",
    "print(f\"   Versão do Fuzzy_Sistems: {fs.__version__}\")\n",
    "\n",
    "\n",
    "from sklearn.preprocessing import StandardScaler\n",
    "from sklearn.datasets import load_iris\n",
    "from sklearn.model_selection import train_test_split\n",
    "from sklearn.metrics import accuracy_score, confusion_matrix, classification_report, ConfusionMatrixDisplay\n",
    "import pandas as pd\n"
   ]
  },
  {
   "cell_type": "code",
   "execution_count": null,
   "metadata": {},
   "outputs": [],
   "source": [
    "# Load dataset\n",
    "iris = load_iris()\n",
    "\n",
    "X = iris.data # Shape (150, 4) - 4 features\n",
    "y = iris.target\n",
    "y_binary = (y != 0).astype(int)  # 0 = Setosa, 1 = Não-Setosa\n",
    "\n",
    "\n",
    "feature_names = iris.feature_names \n",
    "class_names = iris.target_names\n",
    "\n",
    "# Create DataFrame\n",
    "df = pd.DataFrame(X, columns=iris.feature_names)\n",
    "df['species'] = iris.target_names[y]\n",
    "\n",
    "print('📊 Iris dataset loaded!')\n",
    "print(f'\\nShape: {X.shape}')\n",
    "print(f'\\nClasses: {iris.target_names}')\n",
    "print(f'\\nFeatures: {iris.feature_names}')\n",
    "df.head()"
   ]
  },
  {
   "cell_type": "code",
   "execution_count": null,
   "metadata": {},
   "outputs": [],
   "source": [
    "# Visualize feature distribution\n",
    "fig, axes = plt.subplots(2, 2, figsize=(14, 10))\n",
    "axes = axes.flatten()\n",
    "\n",
    "for idx, feature in enumerate(iris.feature_names):\n",
    "    for species_id, species_name in enumerate(iris.target_names):\n",
    "        data = df[df['species'] == species_name][feature]\n",
    "        axes[idx].hist(data, alpha=0.6, bins=15, label=species_name)\n",
    "    \n",
    "    axes[idx].set_xlabel(feature, fontsize=11)\n",
    "    axes[idx].set_ylabel('Frequency', fontsize=11)\n",
    "    axes[idx].set_title(f'Distribution: {feature}', fontsize=12, weight='bold')\n",
    "    axes[idx].legend()\n",
    "    axes[idx].grid(True, alpha=0.3)\n",
    "\n",
    "plt.tight_layout()\n",
    "plt.show()\n"
   ]
  },
  {
   "cell_type": "code",
   "execution_count": null,
   "metadata": {},
   "outputs": [],
   "source": [
    "# Prepare Data - Binary Classification (Setosa vs Non-Setosa)\n",
    "X = X[:,2:4]\n",
    "feature_names = ['Petal Length (cm)', 'Petal Width (cm)']\n",
    "class_names = ['setosa', 'versicolor', 'virginica']\n",
    "\n",
    "\n",
    "#Visualize separability\n",
    "fig, ax = plt.subplots(figsize=(10, 8))\n",
    "\n",
    "colors = ['red', 'blue']\n",
    "labels = ['Setosa', 'Non-Setosa']\n",
    "\n",
    "for class_id in [0, 1]:\n",
    "    mask = y_binary == class_id\n",
    "    ax.scatter(X[mask, -2], X[mask, -1], \n",
    "              c=colors[class_id], label=labels[class_id],\n",
    "              s=80, alpha=0.7, edgecolors='black', linewidth=1)\n",
    "\n",
    "ax.set_xlabel(iris.feature_names[-2] + ' (cm)', fontsize=13)\n",
    "ax.set_ylabel(iris.feature_names[-1] + ' (cm)', fontsize=13)\n",
    "ax.set_title('Iris Dataset - 2 Features (Petal)', fontsize=15, weight='bold')\n",
    "ax.legend(fontsize=12)\n",
    "ax.grid(True, alpha=0.3)\n",
    "plt.tight_layout()\n",
    "plt.show()\n",
    "\n",
    "print('Note: Setosa is clearly separable from other classes!')"
   ]
  },
  {
   "cell_type": "code",
   "execution_count": null,
   "metadata": {},
   "outputs": [],
   "source": [
    "# Example 2: Classification\n",
    "print(\"\\n\" + \"=\"*70)\n",
    "print(\"EXAMPLE 2: CLASSIFICATION\")\n",
    "print(\"=\"*70)\n",
    "\n",
    "\n",
    "X_train, X_temp, y_train, y_temp = train_test_split(\n",
    "    X, y_binary, test_size=0.3, random_state=42, stratify=y_binary\n",
    ")\n",
    "\n",
    "X_val, X_test, y_val, y_test = train_test_split(\n",
    "    X_temp, y_temp, test_size=0.5, random_state=42, stratify=y_temp)\n",
    "\n",
    "# Normalize data\n",
    "scaler = StandardScaler()\n",
    "X_train_norm = scaler.fit_transform(X_train)\n",
    "X_val_norm = scaler.transform(X_val)\n",
    "X_test_norm = scaler.transform(X_test)\n",
    "\n",
    "\n",
    "for i in range(X_train.shape[1]):\n",
    "    print(f'Feature {i+1} - Train: [{X_train_norm[:, i].min():.2f}, {X_train_norm[:, i].max():.2f}] | '\n",
    "          f'Validation: [{X_val_norm[:, i].min():.2f}, {X_val_norm[:, i].max():.2f}] | '\n",
    "          f'Test: [{X_test_norm[:, i].min():.2f}, {X_test_norm[:, i].max():.2f}]')"
   ]
  },
  {
   "cell_type": "code",
   "execution_count": null,
   "metadata": {},
   "outputs": [],
   "source": [
    "# Create and train model for classification\n",
    "num_inputs = len(X_train_norm[0,:])\n",
    "input_ranges = [[X_train_norm[:, idx].min(), X_train_norm[:, idx].max()] for idx in range(num_inputs)]\n",
    "\n",
    "model_cls = ANFIS(n_inputs=num_inputs, \n",
    "                    n_mfs=[3]*num_inputs, \n",
    "                    mf_type='gaussmf',\n",
    "                    input_ranges=input_ranges,\n",
    "                    classification=True, \n",
    "                    learning_rate=5e-1,\n",
    "                    lambda_l2=0.001, \n",
    "                    batch_size=128,\n",
    "                    use_adaptive_lr=True)\n",
    "\n",
    "model_cls.fit(X_train_norm, \n",
    "                y_train, \n",
    "                epochs=500, \n",
    "                verbose=True,\n",
    "                X_val=X_val_norm, \n",
    "                y_val=y_val, \n",
    "                early_stopping_patience=100)\n"
   ]
  },
  {
   "cell_type": "code",
   "execution_count": null,
   "metadata": {},
   "outputs": [],
   "source": [
    "# Evaluate\n",
    "y_pred_ = model_cls.predict(X_test_norm)\n",
    "print(classification_report(y_test, y_pred_, target_names=labels))\n",
    "cm= confusion_matrix(y_test, y_pred_)\n",
    "ConfusionMatrixDisplay(cm, display_labels=labels).plot(cmap=plt.cm.Blues)\n"
   ]
  },
  {
   "cell_type": "code",
   "execution_count": null,
   "metadata": {},
   "outputs": [],
   "source": [
    "# Visualize membership functions\n",
    "fg = model_cls.plot_membership_functions()"
   ]
  },
  {
   "cell_type": "code",
   "execution_count": null,
   "metadata": {},
   "outputs": [],
   "source": [
    "# Visualize metrics\n",
    "fg = model_cls.plot_metrics()"
   ]
  },
  {
   "cell_type": "code",
   "execution_count": null,
   "metadata": {},
   "outputs": [],
   "source": [
    "# Visualize regularization effect\n",
    "fg = model_cls.plot_regularization()"
   ]
  },
  {
   "cell_type": "code",
   "execution_count": null,
   "metadata": {},
   "outputs": [],
   "source": [
    "# View fuzzy rules\n",
    "df = model_cls.rules_to_dataframe()\n",
    "df\n"
   ]
  },
  {
   "cell_type": "code",
   "execution_count": null,
   "metadata": {},
   "outputs": [],
   "source": [
    "# View fuzzy rules table\n",
    "fg = model_cls.show_rules_table()"
   ]
  },
  {
   "cell_type": "code",
   "execution_count": null,
   "metadata": {},
   "outputs": [],
   "source": [
    "# Create grid for decision surface\n",
    "x1_min, x1_max = X_train_norm[:, 0].min() - 0.5, X_train_norm[:, 0].max() + 0.5\n",
    "x2_min, x2_max = X_train_norm[:, 1].min() - 0.5, X_train_norm[:, 1].max() + 0.5\n",
    "\n",
    "xx1, xx2 = np.meshgrid(np.linspace(x1_min, x1_max, 200),\n",
    "                       np.linspace(x2_min, x2_max, 200))\n",
    "\n",
    "# Make predictions on grid\n",
    "print('Generating decision surface...')\n",
    "Z = model_cls.predict(np.c_[xx1.ravel(), xx2.ravel()]).reshape(xx1.shape)\n",
    "print('Surface generated!')\n",
    "\n",
    "# Plot decision boundary\n",
    "fig, ax = plt.subplots(figsize=(12, 10))\n",
    "\n",
    "# Surface\n",
    "contour = ax.contourf(xx1, xx2, Z, levels=[0, 0.5, 1],\n",
    "                      colors=['#ffcccc', '#ccccff'], alpha=0.6)\n",
    "\n",
    "# Boundary contour\n",
    "ax.contour(xx1, xx2, Z, levels=[0.5], colors='black',\n",
    "           linewidths=3, linestyles='solid')\n",
    "\n",
    "# Points with error indication\n",
    "y_test_pred = model_cls.predict(X_test_norm)\n",
    "corretos = y_test == y_test_pred\n",
    "incorretos = ~corretos\n",
    "\n",
    "ax.scatter(X_test_norm[corretos, 0], X_test_norm[corretos, 1],\n",
    "           c='green', marker='o', s=100, label='Correct',\n",
    "           edgecolors='black', linewidth=1.5, alpha=0.8)\n",
    "ax.scatter(X_test_norm[incorretos, 0], X_test_norm[incorretos, 1],\n",
    "           c='orange', marker='X', s=150, label='Error',\n",
    "           edgecolors='red', linewidth=2, alpha=0.9)\n",
    "\n",
    "ax.set_xlabel('Petal Length (normalized)', fontsize=12)\n",
    "ax.set_ylabel('Petal Width (normalized)', fontsize=12)\n",
    "ax.set_title(f'ANFIS Decision Boundary\\nErros: {np.sum(incorretos)}/{len(y_test)}',\n",
    "             fontsize=14, weight='bold')\n",
    "ax.legend(fontsize=11)\n",
    "ax.grid(True, alpha=0.3)\n",
    "\n",
    "plt.tight_layout()\n",
    "plt.show()"
   ]
  }
 ],
 "metadata": {
  "colab": {
   "include_colab_link": true,
   "provenance": []
  },
  "kernelspec": {
   "display_name": "test_env (3.13.1)",
   "language": "python",
   "name": "python3"
  },
  "language_info": {
   "codemirror_mode": {
    "name": "ipython",
    "version": 3
   },
   "file_extension": ".py",
   "mimetype": "text/x-python",
   "name": "python",
   "nbconvert_exporter": "python",
   "pygments_lexer": "ipython3",
   "version": "3.13.1"
  }
 },
 "nbformat": 4,
 "nbformat_minor": 0
}