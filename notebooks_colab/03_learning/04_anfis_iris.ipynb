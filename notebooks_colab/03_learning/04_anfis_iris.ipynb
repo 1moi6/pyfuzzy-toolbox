{
 "cells": [
  {
   "cell_type": "markdown",
   "metadata": {},
   "source": [
    "<a href=\"https://colab.research.google.com/github/1moi6/pyfuzzy-toolbox/blob/main/notebooks_colab/Aula_4/01_anfis_iris_classificacao.ipynb\" target=\"_parent\"><img src=\"https://colab.research.google.com/assets/colab-badge.svg\" alt=\"Open In Colab\"/></a>"
   ]
  },
  {
   "cell_type": "markdown",
   "metadata": {},
   "source": [
    "# 🧠 ANFIS: Classificação de Flores Iris\n",
    "\n",
    "**Aula 4 - Minicurso de Sistemas de Inferência Fuzzy**\n",
    "\n",
    "---\n",
    "\n",
    "## 📋 Objetivo\n",
    "\n",
    "Neste notebook, vamos aplicar **ANFIS (Adaptive Neuro-Fuzzy Inference System)** para classificar flores Iris.\n",
    "\n",
    "### O que é ANFIS?\n",
    "\n",
    "ANFIS combina:\n",
    "- 🧩 **Lógica Fuzzy**: Regras interpretáveis\n",
    "- 🧠 **Redes Neurais**: Aprendizado automático (backpropagation)\n",
    "\n",
    "### Vantagens sobre Wang-Mendel:\n",
    "- ✅ **Refina** as funções de pertinência (MFs)\n",
    "- ✅ **Otimiza** parâmetros (não apenas gera regras)\n",
    "- ✅ **Adapta-se** aos dados via gradient descent\n",
    "\n",
    "---\n",
    "\n",
    "## 📚 Referências\n",
    "- Jang, J. S. (1993). \"ANFIS: adaptive-network-based fuzzy inference system.\" *IEEE transactions on systems, man, and cybernetics*, 23(3), 665-685.\n",
    "- Fisher, R. A. (1936). \"The use of multiple measurements in taxonomic problems.\"\n",
    "\n",
    "---"
   ]
  },
  {
   "cell_type": "markdown",
   "metadata": {},
   "source": [
    "## 🔧 Instalação"
   ]
  },
  {
   "cell_type": "code",
   "execution_count": null,
   "metadata": {},
   "outputs": [],
   "source": [
    "!pip install pyfuzzy-toolbox[ml] scikit-learn -q\n",
    "\n",
    "print('✅ pyfuzzy-toolbox e scikit-learn instalados com sucesso!')"
   ]
  },
  {
   "cell_type": "markdown",
   "metadata": {},
   "source": [
    "## 📦 Importações"
   ]
  },
  {
   "cell_type": "code",
   "execution_count": null,
   "metadata": {},
   "outputs": [],
   "source": [
    "import numpy as np\n",
    "import matplotlib.pyplot as plt\n",
    "import seaborn as sns\n",
    "import fuzzy_systems as fs\n",
    "from fuzzy_systems.learning import ANFIS\n",
    "from sklearn.datasets import load_iris\n",
    "from sklearn.model_selection import train_test_split\n",
    "from sklearn.preprocessing import StandardScaler\n",
    "from sklearn.metrics import accuracy_score, confusion_matrix, classification_report\n",
    "import pandas as pd\n",
    "\n",
    "%matplotlib inline\n",
    "\n",
    "# Configurações\n",
    "plt.rcParams['figure.figsize'] = (12, 6)\n",
    "sns.set_palette('husl')\n",
    "np.random.seed(42)\n",
    "\n",
    "print('✅ Bibliotecas importadas!')\n",
    "print(f'   pyfuzzy-toolbox: {fs.__version__}')"
   ]
  },
  {
   "cell_type": "markdown",
   "metadata": {},
   "source": [
    "## 📊 Passo 1: Carregar e Explorar Dataset Iris"
   ]
  },
  {
   "cell_type": "code",
   "execution_count": null,
   "metadata": {},
   "outputs": [],
   "source": [
    "# Carregar dataset\n",
    "iris = load_iris()\n",
    "X_full = iris.data\n",
    "y_full = iris.target\n",
    "\n",
    "# Criar DataFrame para facilitar visualização\n",
    "df = pd.DataFrame(X_full, columns=iris.feature_names)\n",
    "df['species'] = iris.target_names[y_full]\n",
    "\n",
    "print('📊 Dataset Iris carregado!')\n",
    "print(f'\\nShape: {X_full.shape}')\n",
    "print(f'\\nClasses: {iris.target_names}')\n",
    "print(f'\\nFeatures: {iris.feature_names}')\n",
    "print('\\nPrimeiras 5 amostras:')\n",
    "df.head()"
   ]
  },
  {
   "cell_type": "markdown",
   "metadata": {},
   "source": [
    "## 📈 Visualizar Distribuição das Features"
   ]
  },
  {
   "cell_type": "code",
   "execution_count": null,
   "metadata": {},
   "outputs": [],
   "source": [
    "# Visualizar distribuição das features\n",
    "fig, axes = plt.subplots(2, 2, figsize=(14, 10))\n",
    "axes = axes.flatten()\n",
    "\n",
    "for idx, feature in enumerate(iris.feature_names):\n",
    "    for species_id, species_name in enumerate(iris.target_names):\n",
    "        data = df[df['species'] == species_name][feature]\n",
    "        axes[idx].hist(data, alpha=0.6, bins=15, label=species_name)\n",
    "    \n",
    "    axes[idx].set_xlabel(feature, fontsize=11)\n",
    "    axes[idx].set_ylabel('Frequência', fontsize=11)\n",
    "    axes[idx].set_title(f'Distribuição: {feature}', fontsize=12, weight='bold')\n",
    "    axes[idx].legend()\n",
    "    axes[idx].grid(True, alpha=0.3)\n",
    "\n",
    "plt.tight_layout()\n",
    "plt.show()\n",
    "\n",
    "print('✅ Visualização criada!')"
   ]
  },
  {
   "cell_type": "markdown",
   "metadata": {},
   "source": [
    "## 🎯 Passo 2: Preparar Dados - Classificação Binária (2 Features)\n",
    "\n",
    "Vamos começar com um problema **mais simples**:\n",
    "- Usar apenas **2 features**: Petal Length e Petal Width\n",
    "- **Classificação binária**: Setosa vs Não-Setosa\n",
    "\n",
    "**Por quê?** Setosa é linearmente separável das outras espécies!"
   ]
  },
  {
   "cell_type": "code",
   "execution_count": null,
   "metadata": {},
   "outputs": [],
   "source": [
    "# Selecionar apenas as features da pétala (colunas 2 e 3)\n",
    "X_2d = X_full[:, 2:4]  # petal length e petal width\n",
    "\n",
    "# Criar labels binários: Setosa (0) vs Outras (1)\n",
    "y_binary = (y_full != 0).astype(int)  # 0 = Setosa, 1 = Não-Setosa\n",
    "\n",
    "print('Features selecionadas:')\n",
    "print(f'  - {iris.feature_names[2]}')\n",
    "print(f'  - {iris.feature_names[3]}')\n",
    "print(f'\\nDistribuição das classes:')\n",
    "print(f'  Setosa:     {np.sum(y_binary == 0)} amostras')\n",
    "print(f'  Não-Setosa: {np.sum(y_binary == 1)} amostras')"
   ]
  },
  {
   "cell_type": "markdown",
   "metadata": {},
   "source": [
    "## 📈 Visualizar Separabilidade"
   ]
  },
  {
   "cell_type": "code",
   "execution_count": null,
   "metadata": {},
   "outputs": [],
   "source": [
    "# Visualizar separabilidade\n",
    "fig, ax = plt.subplots(figsize=(10, 8))\n",
    "\n",
    "colors = ['red', 'blue']\n",
    "labels = ['Setosa', 'Não-Setosa']\n",
    "\n",
    "for class_id in [0, 1]:\n",
    "    mask = y_binary == class_id\n",
    "    ax.scatter(X_2d[mask, 0], X_2d[mask, 1], \n",
    "              c=colors[class_id], label=labels[class_id],\n",
    "              s=80, alpha=0.7, edgecolors='black', linewidth=1)\n",
    "\n",
    "ax.set_xlabel(iris.feature_names[2] + ' (cm)', fontsize=13)\n",
    "ax.set_ylabel(iris.feature_names[3] + ' (cm)', fontsize=13)\n",
    "ax.set_title('Iris Dataset - 2 Features (Pétala)', fontsize=15, weight='bold')\n",
    "ax.legend(fontsize=12)\n",
    "ax.grid(True, alpha=0.3)\n",
    "plt.tight_layout()\n",
    "plt.show()\n",
    "\n",
    "print('Note: Setosa é claramente separável das outras classes!')"
   ]
  },
  {
   "cell_type": "markdown",
   "metadata": {},
   "source": [
    "## 📦 Passo 3: Dividir e Normalizar Dados"
   ]
  },
  {
   "cell_type": "code",
   "execution_count": null,
   "metadata": {},
   "outputs": [],
   "source": [
    "# Dividir dados: 70% treino, 15% validação, 15% teste\n",
    "X_train_2d, X_temp_2d, y_train_2d, y_temp_2d = train_test_split(\n",
    "    X_2d, y_binary, test_size=0.3, random_state=42, stratify=y_binary\n",
    ")\n",
    "\n",
    "X_val_2d, X_test_2d, y_val_2d, y_test_2d = train_test_split(\n",
    "    X_temp_2d, y_temp_2d, test_size=0.5, random_state=42, stratify=y_temp_2d\n",
    ")\n",
    "\n",
    "print(f'Conjunto de treino:    {len(X_train_2d)} amostras')\n",
    "print(f'Conjunto de validação: {len(X_val_2d)} amostras')\n",
    "print(f'Conjunto de teste:     {len(X_test_2d)} amostras')\n",
    "\n",
    "# Normalizar dados\n",
    "scaler_2d = StandardScaler()\n",
    "X_train_2d_norm = scaler_2d.fit_transform(X_train_2d)\n",
    "X_val_2d_norm = scaler_2d.transform(X_val_2d)\n",
    "X_test_2d_norm = scaler_2d.transform(X_test_2d)\n",
    "\n",
    "print('\\n✅ Dados normalizados!')\n",
    "print(f'\\nRanges após normalização:')\n",
    "print(f'  Feature 1: [{X_train_2d_norm[:, 0].min():.2f}, {X_train_2d_norm[:, 0].max():.2f}]')\n",
    "print(f'  Feature 2: [{X_train_2d_norm[:, 1].min():.2f}, {X_train_2d_norm[:, 1].max():.2f}]')"
   ]
  },
  {
   "cell_type": "markdown",
   "metadata": {},
   "source": [
    "## 🧠 Passo 4: Criar e Treinar Modelo ANFIS\n",
    "\n",
    "### Arquitetura ANFIS:\n",
    "\n",
    "- **2 entradas** (petal_length, petal_width)\n",
    "- **3 MFs** por entrada → 3² = **9 regras**\n",
    "- **Regularização L2** para evitar overfitting\n",
    "- **Learning rate**: 1e-3"
   ]
  },
  {
   "cell_type": "code",
   "execution_count": null,
   "metadata": {},
   "outputs": [],
   "source": [
    "# Criar modelo ANFIS\n",
    "anfis_2d = ANFIS(\n",
    "    n_inputs=2,\n",
    "    n_mfs=3,\n",
    "    learning_rate=1e-3,\n",
    "    lambda_l2=0.01,  # Regularização L2\n",
    "    classification=True\n",
    ")\n",
    "\n",
    "print('✅ Modelo ANFIS criado!')\n",
    "print(f'\\n📊 Arquitetura:')\n",
    "print(f'   • Entradas: 2')\n",
    "print(f'   • MFs por entrada: 3')\n",
    "print(f'   • Total de regras: 9')\n",
    "print(f'   • Learning rate: 0.001')\n",
    "print(f'   • Regularização: L2 (λ=0.01)')"
   ]
  },
  {
   "cell_type": "markdown",
   "metadata": {},
   "source": [
    "## 🏋️ Treinar ANFIS"
   ]
  },
  {
   "cell_type": "code",
   "execution_count": null,
   "metadata": {},
   "outputs": [],
   "source": [
    "# Treinar\n",
    "print('Iniciando treinamento...\\n')\n",
    "\n",
    "anfis_2d.fit(\n",
    "    X_train_2d_norm, y_train_2d,\n",
    "    epochs=200,\n",
    "    validation_data=(X_val_2d_norm, y_val_2d),\n",
    "    early_stopping_patience=30,\n",
    "    verbose=True\n",
    ")\n",
    "\n",
    "print('\\n' + '='*60)\n",
    "print('✅ Treinamento concluído!')\n",
    "print('='*60)"
   ]
  },
  {
   "cell_type": "markdown",
   "metadata": {},
   "source": [
    "## 📈 Visualizar Convergência"
   ]
  },
  {
   "cell_type": "code",
   "execution_count": null,
   "metadata": {},
   "outputs": [],
   "source": [
    "# Plotar curvas de aprendizado\n",
    "history = anfis_2d.history\n",
    "\n",
    "fig, (ax1, ax2) = plt.subplots(1, 2, figsize=(15, 5))\n",
    "\n",
    "# Loss\n",
    "ax1.plot(history['loss'], 'b-', linewidth=2, label='Treino', alpha=0.8)\n",
    "ax1.plot(history['val_loss'], 'r--', linewidth=2, label='Validação', alpha=0.8)\n",
    "ax1.set_xlabel('Época', fontsize=12)\n",
    "ax1.set_ylabel('Loss', fontsize=12)\n",
    "ax1.set_title('Convergência - Loss', fontsize=14, weight='bold')\n",
    "ax1.legend(fontsize=11)\n",
    "ax1.grid(True, alpha=0.3)\n",
    "\n",
    "# Accuracy\n",
    "ax2.plot(history['accuracy'], 'b-', linewidth=2, label='Treino', alpha=0.8)\n",
    "ax2.plot(history['val_accuracy'], 'r--', linewidth=2, label='Validação', alpha=0.8)\n",
    "ax2.set_xlabel('Época', fontsize=12)\n",
    "ax2.set_ylabel('Acurácia', fontsize=12)\n",
    "ax2.set_title('Convergência - Acurácia', fontsize=14, weight='bold')\n",
    "ax2.legend(fontsize=11)\n",
    "ax2.grid(True, alpha=0.3)\n",
    "\n",
    "plt.tight_layout()\n",
    "plt.show()\n",
    "\n",
    "print('✅ Curvas de aprendizado geradas!')"
   ]
  },
  {
   "cell_type": "markdown",
   "metadata": {},
   "source": [
    "## 🎯 Passo 5: Avaliar Desempenho"
   ]
  },
  {
   "cell_type": "code",
   "execution_count": null,
   "metadata": {},
   "outputs": [],
   "source": [
    "# Predições\n",
    "y_train_pred_2d = anfis_2d.predict(X_train_2d_norm)\n",
    "y_val_pred_2d = anfis_2d.predict(X_val_2d_norm)\n",
    "y_test_pred_2d = anfis_2d.predict(X_test_2d_norm)\n",
    "\n",
    "# Acurácias\n",
    "acc_train_2d = accuracy_score(y_train_2d, y_train_pred_2d)\n",
    "acc_val_2d = accuracy_score(y_val_2d, y_val_pred_2d)\n",
    "acc_test_2d = accuracy_score(y_test_2d, y_test_pred_2d)\n",
    "\n",
    "print('='*70)\n",
    "print('📊 RESULTADOS - CLASSIFICAÇÃO BINÁRIA (2 FEATURES)')\n",
    "print('='*70)\n",
    "print(f'Acurácia Treino:    {acc_train_2d*100:6.2f}%')\n",
    "print(f'Acurácia Validação: {acc_val_2d*100:6.2f}%')\n",
    "print(f'Acurácia Teste:     {acc_test_2d*100:6.2f}%')\n",
    "print('='*70)"
   ]
  },
  {
   "cell_type": "markdown",
   "metadata": {},
   "source": [
    "## 📊 Matriz de Confusão"
   ]
  },
  {
   "cell_type": "code",
   "execution_count": null,
   "metadata": {},
   "outputs": [],
   "source": [
    "# Matriz de confusão\n",
    "cm_test_2d = confusion_matrix(y_test_2d, y_test_pred_2d)\n",
    "\n",
    "fig, ax = plt.subplots(figsize=(8, 6))\n",
    "sns.heatmap(cm_test_2d, annot=True, fmt='d', cmap='Blues', ax=ax,\n",
    "            xticklabels=['Setosa', 'Não-Setosa'],\n",
    "            yticklabels=['Setosa', 'Não-Setosa'],\n",
    "            cbar_kws={'label': 'Contagem'})\n",
    "ax.set_xlabel('Predito', fontsize=13)\n",
    "ax.set_ylabel('Real', fontsize=13)\n",
    "ax.set_title(f'Matriz de Confusão - Teste\\nAcurácia: {acc_test_2d*100:.2f}%',\n",
    "            fontsize=14, weight='bold')\n",
    "plt.tight_layout()\n",
    "plt.show()\n",
    "\n",
    "# Relatório detalhado\n",
    "print('\\n📋 RELATÓRIO DE CLASSIFICAÇÃO - CONJUNTO DE TESTE')\n",
    "print('='*70)\n",
    "print(classification_report(y_test_2d, y_test_pred_2d,\n",
    "                           target_names=['Setosa', 'Não-Setosa'],\n",
    "                           digits=4))"
   ]
  },
  {
   "cell_type": "markdown",
   "metadata": {},
   "source": [
    "## 🗺️ Visualizar Fronteira de Decisão"
   ]
  },
  {
   "cell_type": "code",
   "execution_count": null,
   "metadata": {},
   "outputs": [],
   "source": [
    "# Criar grid para a superfície de decisão\n",
    "x1_min, x1_max = X_train_2d_norm[:, 0].min() - 0.5, X_train_2d_norm[:, 0].max() + 0.5\n",
    "x2_min, x2_max = X_train_2d_norm[:, 1].min() - 0.5, X_train_2d_norm[:, 1].max() + 0.5\n",
    "\n",
    "xx1, xx2 = np.meshgrid(np.linspace(x1_min, x1_max, 200),\n",
    "                       np.linspace(x2_min, x2_max, 200))\n",
    "\n",
    "# Fazer predições no grid\n",
    "print('Gerando superfície de decisão...')\n",
    "Z = anfis_2d.predict(np.c_[xx1.ravel(), xx2.ravel()]).reshape(xx1.shape)\n",
    "print('Superfície gerada!')\n",
    "\n",
    "# Plotar fronteira de decisão\n",
    "fig, ax = plt.subplots(figsize=(12, 10))\n",
    "\n",
    "# Superfície\n",
    "contour = ax.contourf(xx1, xx2, Z, levels=[0, 0.5, 1],\n",
    "                      colors=['#ffcccc', '#ccccff'], alpha=0.6)\n",
    "\n",
    "# Contorno da fronteira\n",
    "ax.contour(xx1, xx2, Z, levels=[0.5], colors='black',\n",
    "           linewidths=3, linestyles='solid')\n",
    "\n",
    "# Pontos com indicação de erro\n",
    "corretos = y_test_2d == y_test_pred_2d\n",
    "incorretos = ~corretos\n",
    "\n",
    "ax.scatter(X_test_2d_norm[corretos, 0], X_test_2d_norm[corretos, 1],\n",
    "           c='green', marker='o', s=100, label='Correto',\n",
    "           edgecolors='black', linewidth=1.5, alpha=0.8)\n",
    "ax.scatter(X_test_2d_norm[incorretos, 0], X_test_2d_norm[incorretos, 1],\n",
    "           c='orange', marker='X', s=150, label='Erro',\n",
    "           edgecolors='red', linewidth=2, alpha=0.9)\n",
    "\n",
    "ax.set_xlabel('Comprimento da Pétala (normalizado)', fontsize=12)\n",
    "ax.set_ylabel('Largura da Pétala (normalizado)', fontsize=12)\n",
    "ax.set_title(f'Fronteira de Decisão ANFIS\\nErros: {np.sum(incorretos)}/{len(y_test_2d)}',\n",
    "             fontsize=14, weight='bold')\n",
    "ax.legend(fontsize=11)\n",
    "ax.grid(True, alpha=0.3)\n",
    "\n",
    "plt.tight_layout()\n",
    "plt.show()"
   ]
  },
  {
   "cell_type": "markdown",
   "metadata": {},
   "source": [
    "---\n",
    "\n",
    "## 🎓 Conclusões\n",
    "\n",
    "### ✅ O que aprendemos?\n",
    "\n",
    "1. **ANFIS combina o melhor de dois mundos**:\n",
    "   - **Fuzzy**: Regras interpretáveis\n",
    "   - **Neural**: Aprendizado automático via backpropagation\n",
    "\n",
    "2. **Vantagens sobre Wang-Mendel**:\n",
    "   - Wang-Mendel: Gera regras, MFs fixas\n",
    "   - ANFIS: **Refina** MFs e consequentes via gradient descent\n",
    "\n",
    "3. **Regularização é importante**:\n",
    "   - L2 (Ridge) evita overfitting\n",
    "   - Especialmente útil com poucas amostras\n",
    "\n",
    "4. **Trade-offs**:\n",
    "   - ANFIS: Mais parâmetros, mais flexível, treino mais lento\n",
    "   - Wang-Mendel: Menos parâmetros, mais rápido, menos flexível\n",
    "\n",
    "---\n",
    "\n",
    "### 🔬 ANFIS vs Wang-Mendel\n",
    "\n",
    "| Aspecto | Wang-Mendel | ANFIS |\n",
    "|---------|-------------|-------|\n",
    "| Geração de regras | Automática (1 passo) | Inicialização + refinamento |\n",
    "| Funções de pertinência | Fixas | **Aprendidas** |\n",
    "| Consequentes | Fixos | **Otimizados** |\n",
    "| Tempo de treino | Rápido | Mais lento |\n",
    "| Flexibilidade | Menor | **Maior** |\n",
    "| Interpretabilidade | Alta | Alta (se MFs não mudam muito) |\n",
    "\n",
    "---\n",
    "\n",
    "### 🚀 Próximos Passos\n",
    "\n",
    "1. **Experimentar com 4 features** (todas as variáveis do Iris)\n",
    "2. **Testar diferentes valores de regularização** (λ)\n",
    "3. **Comparar com outros métodos** (SVM, Random Forest)\n",
    "4. **Aplicar a outros datasets** de classificação\n",
    "\n",
    "---\n",
    "\n",
    "### 📚 Recursos\n",
    "\n",
    "- **PyPI**: https://pypi.org/project/pyfuzzy-toolbox/\n",
    "- **GitHub**: https://github.com/1moi6/pyfuzzy-toolbox\n",
    "\n",
    "### 📖 Referências\n",
    "\n",
    "1. **Jang, J. S. (1993)**. \"ANFIS: adaptive-network-based fuzzy inference system.\" *IEEE transactions on systems, man, and cybernetics*, 23(3), 665-685.\n",
    "\n",
    "2. **Fisher, R. A. (1936)**. \"The use of multiple measurements in taxonomic problems.\" *Annals of Eugenics*, 7(2), 179-188.\n",
    "\n",
    "---\n",
    "\n",
    "**🎉 Parabéns! Você aplicou ANFIS para classificação!**\n",
    "\n",
    "*Notebook desenvolvido para o Minicurso de Sistemas de Inferência Fuzzy - Aula 4 - 2025*  \n",
    "*Usando pyfuzzy-toolbox v1.0.0*"
   ]
  }
 ],
 "metadata": {
  "kernelspec": {
   "display_name": "Python 3",
   "language": "python",
   "name": "python3"
  },
  "language_info": {
   "codemirror_mode": {
    "name": "ipython",
    "version": 3
   },
   "file_extension": ".py",
   "mimetype": "text/x-python",
   "name": "python",
   "nbconvert_exporter": "python",
   "pygments_lexer": "ipython3",
   "version": "3.8.0"
  },
  "colab": {
   "provenance": [],
   "include_colab_link": true
  }
 },
 "nbformat": 4,
 "nbformat_minor": 0
}
