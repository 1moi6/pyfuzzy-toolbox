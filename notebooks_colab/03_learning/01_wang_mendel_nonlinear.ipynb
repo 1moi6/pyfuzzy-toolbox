{
 "cells": [
  {
   "cell_type": "markdown",
   "metadata": {},
   "source": [
    "<a href=\"https://colab.research.google.com/github/1moi6/pyfuzzy-toolbox/blob/main/notebooks_colab/Aula_3/01_wang_mendel_didatico.ipynb\" target=\"_parent\"><img src=\"https://colab.research.google.com/assets/colab-badge.svg\" alt=\"Open In Colab\"/></a>"
   ]
  },
  {
   "cell_type": "markdown",
   "metadata": {},
   "source": [
    "# 📚 Método de Wang-Mendel para Geração Automática de Regras Fuzzy\n",
    "\n",
    "**Aula 3 - Minicurso de Sistemas de Inferência Fuzzy**\n",
    "\n",
    "---\n",
    "\n",
    "## 🎯 Objetivo\n",
    "\n",
    "Neste notebook, vamos aplicar o **Método de Wang-Mendel (1992)** para **gerar automaticamente regras fuzzy** a partir de dados.\n",
    "\n",
    "### Problema: Aproximar f(x) = sin(x) + 0.1x\n",
    "\n",
    "- **Domínio**: x ∈ [0, 2π]\n",
    "- **Função não-linear** (mais complexa que a reta!)\n",
    "- **Objetivo**: Gerar regras fuzzy que aproximem a função\n",
    "\n",
    "---\n",
    "\n",
    "## 📖 Referência Original\n",
    "\n",
    "**Wang, L. X., & Mendel, J. M. (1992)**. \"Generating fuzzy rules by learning from examples.\"  \n",
    "*IEEE Transactions on Systems, Man, and Cybernetics*, 22(6), 1414-1427.\n",
    "\n",
    "- 🏆 **Mais de 5000 citações**\n",
    "- 📊 Aplicações: Controle fuzzy, séries temporais, aproximação de funções\n",
    "- 🧠 Algoritmo simples mas poderoso: **um único passo pelos dados**\n",
    "\n",
    "---"
   ]
  },
  {
   "cell_type": "markdown",
   "metadata": {},
   "source": [
    "## 🔧 Instalação"
   ]
  },
  {
   "cell_type": "code",
   "execution_count": null,
   "metadata": {},
   "outputs": [],
   "source": [
    "!pip install pyfuzzy-toolbox[ml] -q\n",
    "\n",
    "print('✅ pyfuzzy-toolbox instalado com sucesso!')"
   ]
  },
  {
   "cell_type": "markdown",
   "metadata": {},
   "source": [
    "## 📦 Importações"
   ]
  },
  {
   "cell_type": "code",
   "execution_count": null,
   "metadata": {},
   "outputs": [],
   "source": [
    "import numpy as np\n",
    "import matplotlib.pyplot as plt\n",
    "import fuzzy_systems as fs\n",
    "from fuzzy_systems.learning import WangMendel\n",
    "\n",
    "%matplotlib inline\n",
    "\n",
    "# Configuração\n",
    "plt.rcParams['figure.figsize'] = (12, 6)\n",
    "np.random.seed(42)\n",
    "\n",
    "print('✅ Bibliotecas importadas!')\n",
    "print(f'   pyfuzzy-toolbox: {fs.__version__}')"
   ]
  },
  {
   "cell_type": "markdown",
   "metadata": {},
   "source": [
    "## 🔍 Passo 1: O Problema - Aproximar f(x) = sin(x) + 0.1x\n",
    "\n",
    "Vamos gerar dados de uma função **não-linear** e aplicar Wang-Mendel!"
   ]
  },
  {
   "cell_type": "code",
   "execution_count": null,
   "metadata": {},
   "outputs": [],
   "source": [
    "# Função verdadeira\n",
    "def funcao_real(x):\n",
    "    \"\"\"f(x) = sin(x) + 0.1x\"\"\"\n",
    "    return np.sin(x) + 0.1 * x\n",
    "\n",
    "# Gerar dados de treinamento\n",
    "n_samples = 50\n",
    "X_train = np.linspace(0, 2*np.pi, n_samples)\n",
    "y_train = funcao_real(X_train) + np.random.normal(0, 0.05, n_samples)\n",
    "\n",
    "# Dados de teste\n",
    "X_test = np.linspace(0, 2*np.pi, 200)\n",
    "y_true = funcao_real(X_test)\n",
    "\n",
    "# Visualizar\n",
    "plt.figure(figsize=(12, 6))\n",
    "plt.plot(X_test, y_true, 'k-', linewidth=3, label='f(x) = sin(x) + 0.1x (Real)', alpha=0.7)\n",
    "plt.scatter(X_train, y_train, color='red', s=100, zorder=5, \n",
    "           edgecolors='black', linewidths=1.5, label=f'Dados Observados (n={n_samples})', alpha=0.8)\n",
    "plt.xlabel('x', fontsize=13)\n",
    "plt.ylabel('y', fontsize=13)\n",
    "plt.title('Problema: Aproximar função não-linear com regras fuzzy', fontsize=14, fontweight='bold')\n",
    "plt.legend(fontsize=12)\n",
    "plt.grid(True, alpha=0.3)\n",
    "plt.tight_layout()\n",
    "plt.show()\n",
    "\n",
    "print(f'📊 Configuração:')\n",
    "print(f'   • Função: f(x) = sin(x) + 0.1x')\n",
    "print(f'   • Domínio: x ∈ [0, 2π] = [0, {2*np.pi:.3f}]')\n",
    "print(f'   • Imagem: y ∈ [{y_train.min():.3f}, {y_train.max():.3f}]')\n",
    "print(f'   • Amostras de treino: {n_samples}')\n",
    "print(f'   • Amostras de teste: {len(X_test)}')"
   ]
  },
  {
   "cell_type": "markdown",
   "metadata": {},
   "source": [
    "## 🧠 Passo 2: Criar e Treinar Modelo Wang-Mendel\n",
    "\n",
    "Vamos criar um modelo com **15 partições** para capturar bem a não-linearidade!\n",
    "\n",
    "### Os 5 Passos do Algoritmo Wang-Mendel:\n",
    "\n",
    "1. **Particionar domínios**: Dividir entradas e saída em partições fuzzy\n",
    "2. **Gerar regras**: Para cada amostra, criar uma regra\n",
    "3. **Atribuir graus**: Calcular força de cada regra\n",
    "4. **Resolver conflitos**: Se 2 regras têm mesma entrada mas saídas diferentes, manter a de maior grau\n",
    "5. **Criar sistema fuzzy**: Construir FIS Mamdani com as regras"
   ]
  },
  {
   "cell_type": "code",
   "execution_count": null,
   "metadata": {},
   "outputs": [],
   "source": [
    "# Criar modelo Wang-Mendel\n",
    "wm = WangMendel(\n",
    "    n_partitions=15,\n",
    "    margin=0.10,\n",
    "    input_names=['x'],\n",
    "    output_name='y'\n",
    ")\n",
    "\n",
    "print('✅ Modelo Wang-Mendel criado!')\n",
    "print('   • 15 partições (captura não-linearidades)')\n",
    "print('   • Margem: 10% (evita overfitting)\\n')\n",
    "\n",
    "# Treinar (executa os 5 passos automaticamente)\n",
    "wm.fit(X_train.reshape(-1, 1), y_train)\n",
    "\n",
    "print('\\n✅ Treinamento completo!')\n",
    "print(f'   • Regras geradas: {wm.n_rules}')"
   ]
  },
  {
   "cell_type": "markdown",
   "metadata": {},
   "source": [
    "## 📊 Passo 3: Visualizar Partições Fuzzy\n",
    "\n",
    "Vamos ver como o Wang-Mendel dividiu o espaço de entrada e saída!"
   ]
  },
  {
   "cell_type": "code",
   "execution_count": null,
   "metadata": {},
   "outputs": [],
   "source": [
    "# Visualizar partições da entrada\n",
    "fig, axes = plt.subplots(2, 1, figsize=(14, 10))\n",
    "\n",
    "# Partições de x\n",
    "x_universe = np.linspace(wm.fis.inputs['x'].universe[0], wm.fis.inputs['x'].universe[1], 300)\n",
    "for term_name, term in wm.fis.inputs['x'].terms.items():\n",
    "    mu = term.membership(x_universe)\n",
    "    axes[0].plot(x_universe, mu, linewidth=2, label=term_name, alpha=0.7)\n",
    "\n",
    "axes[0].set_title('Partições da Entrada x (15 termos linguísticos)', fontsize=13, fontweight='bold')\n",
    "axes[0].set_xlabel('x', fontsize=12)\n",
    "axes[0].set_ylabel('Grau de Pertinência', fontsize=12)\n",
    "axes[0].grid(True, alpha=0.3)\n",
    "axes[0].set_ylim([-0.05, 1.05])\n",
    "\n",
    "# Partições de y\n",
    "y_universe = np.linspace(wm.fis.outputs['y'].universe[0], wm.fis.outputs['y'].universe[1], 300)\n",
    "for term_name, term in wm.fis.outputs['y'].terms.items():\n",
    "    mu = term.membership(y_universe)\n",
    "    axes[1].plot(y_universe, mu, linewidth=2, label=term_name, alpha=0.7)\n",
    "\n",
    "axes[1].set_title('Partições da Saída y (15 termos linguísticos)', fontsize=13, fontweight='bold')\n",
    "axes[1].set_xlabel('y', fontsize=12)\n",
    "axes[1].set_ylabel('Grau de Pertinência', fontsize=12)\n",
    "axes[1].grid(True, alpha=0.3)\n",
    "axes[1].set_ylim([-0.05, 1.05])\n",
    "\n",
    "plt.tight_layout()\n",
    "plt.show()\n",
    "\n",
    "print('✅ Partições visualizadas!')"
   ]
  },
  {
   "cell_type": "markdown",
   "metadata": {},
   "source": [
    "## 📜 Passo 4: Inspecionar Regras Geradas\n",
    "\n",
    "Vamos ver algumas das regras que o Wang-Mendel criou automaticamente!"
   ]
  },
  {
   "cell_type": "code",
   "execution_count": null,
   "metadata": {},
   "outputs": [],
   "source": [
    "print('='*70)\n",
    "print('📜 BASE DE REGRAS GERADAS AUTOMATICAMENTE')\n",
    "print('='*70)\n",
    "print(f'\\nTotal de regras: {len(wm.fis.rules)}\\n')\n",
    "\n",
    "print('Exemplos de regras (mostrando primeiras 10):\\n')\n",
    "for i, rule in enumerate(wm.fis.rules[:10], 1):\n",
    "    # Extrair antecedentes\n",
    "    ant_str = ', '.join([f'{var} é {term}' for var, term in rule.antecedents.items()])\n",
    "    # Extrair consequentes\n",
    "    cons_str = ', '.join([f'{var} é {term}' for var, term in rule.consequent.items()])\n",
    "    print(f'   {i:2d}. SE {ant_str} ENTÃO {cons_str}')\n",
    "\n",
    "if len(wm.fis.rules) > 10:\n",
    "    print(f'\\n   ... (e mais {len(wm.fis.rules) - 10} regras)')\n",
    "\n",
    "print('\\n' + '='*70)\n",
    "print('💡 Cada regra foi gerada automaticamente a partir dos dados!')\n",
    "print('='*70)"
   ]
  },
  {
   "cell_type": "markdown",
   "metadata": {},
   "source": [
    "## 🧪 Passo 5: Avaliar Desempenho\n",
    "\n",
    "Vamos testar o sistema e calcular métricas de qualidade!"
   ]
  },
  {
   "cell_type": "code",
   "execution_count": null,
   "metadata": {},
   "outputs": [],
   "source": [
    "# Fazer predições\n",
    "y_pred = wm.predict(X_test.reshape(-1, 1))\n",
    "\n",
    "# Calcular métricas\n",
    "mse = np.mean((y_pred - y_true) ** 2)\n",
    "rmse = np.sqrt(mse)\n",
    "mae = np.mean(np.abs(y_pred - y_true))\n",
    "r2 = 1 - (np.sum((y_true - y_pred)**2) / np.sum((y_true - np.mean(y_true))**2))\n",
    "\n",
    "print('='*70)\n",
    "print('📊 MÉTRICAS DE DESEMPENHO')\n",
    "print('='*70)\n",
    "print(f'   • MSE (Erro Médio Quadrático):      {mse:.6f}')\n",
    "print(f'   • RMSE (Raiz do MSE):               {rmse:.6f}')\n",
    "print(f'   • MAE (Erro Absoluto Médio):        {mae:.6f}')\n",
    "print(f'   • R² (Coeficiente de Determinação): {r2:.6f}')\n",
    "print('='*70)\n",
    "print(f'\\n✅ Qualidade da aproximação: {\"Excelente!\" if r2 > 0.95 else \"Boa!\" if r2 > 0.9 else \"Razoável\"}')"
   ]
  },
  {
   "cell_type": "markdown",
   "metadata": {},
   "source": [
    "## 📈 Passo 6: Visualização da Aproximação"
   ]
  },
  {
   "cell_type": "code",
   "execution_count": null,
   "metadata": {},
   "outputs": [],
   "source": [
    "# Gráfico principal\n",
    "fig, (ax1, ax2) = plt.subplots(2, 1, figsize=(14, 10))\n",
    "\n",
    "# Subplot 1: Aproximação\n",
    "ax1.plot(X_test, y_true, 'k-', linewidth=3, label='Função Real', alpha=0.7)\n",
    "ax1.scatter(X_train, y_train, color='red', s=80, zorder=5, \n",
    "           edgecolors='black', linewidths=1.5, label='Dados de Treino', alpha=0.8)\n",
    "ax1.plot(X_test, y_pred, 'b-', linewidth=2.5, \n",
    "         label=f'Wang-Mendel (15 partições, {wm.n_rules} regras)', alpha=0.85)\n",
    "ax1.set_xlabel('x', fontsize=13)\n",
    "ax1.set_ylabel('y', fontsize=13)\n",
    "ax1.set_title(f'Aproximação com Wang-Mendel | MSE = {mse:.6f} | R² = {r2:.4f}', \n",
    "             fontsize=14, fontweight='bold')\n",
    "ax1.legend(fontsize=11)\n",
    "ax1.grid(True, alpha=0.3)\n",
    "\n",
    "# Subplot 2: Análise do erro\n",
    "erro = y_pred - y_true\n",
    "ax2.plot(X_test, erro, 'r-', linewidth=2.5, label='Erro')\n",
    "ax2.fill_between(X_test, 0, erro, alpha=0.3, color='red')\n",
    "ax2.axhline(y=0, color='black', linestyle='--', linewidth=1.5, alpha=0.5)\n",
    "ax2.set_xlabel('x', fontsize=13)\n",
    "ax2.set_ylabel('Erro (y_pred - y_true)', fontsize=13)\n",
    "ax2.set_title(f'Análise do Erro | MAE = {mae:.6f}', fontsize=14, fontweight='bold')\n",
    "ax2.legend(fontsize=11)\n",
    "ax2.grid(True, alpha=0.3)\n",
    "\n",
    "plt.tight_layout()\n",
    "plt.show()\n",
    "\n",
    "print('✅ Aproximação visualizada!')"
   ]
  },
  {
   "cell_type": "markdown",
   "metadata": {},
   "source": [
    "## 🔍 Passo 7: Exemplo de Inferência Detalhada\n",
    "\n",
    "Vamos analisar **passo a passo** como o sistema faz uma predição!"
   ]
  },
  {
   "cell_type": "code",
   "execution_count": null,
   "metadata": {},
   "outputs": [],
   "source": [
    "# Escolher um ponto interessante (máximo da função seno)\n",
    "x_teste = np.pi / 2\n",
    "y_real = funcao_real(x_teste)\n",
    "\n",
    "print('='*70)\n",
    "print(f'🔍 ANÁLISE DETALHADA PARA x = π/2 ≈ {x_teste:.4f}')\n",
    "print('='*70)\n",
    "print(f'📌 Valor real: y = sin({x_teste:.4f}) + 0.1({x_teste:.4f}) = {y_real:.4f}')\n",
    "print('='*70)\n",
    "print()\n",
    "\n",
    "# Fuzzificação\n",
    "graus_x = wm.fis.inputs['x'].fuzzify(x_teste)\n",
    "print('[ETAPA 1] FUZZIFICAÇÃO')\n",
    "print('-'*70)\n",
    "print(f'x = {x_teste:.4f}')\n",
    "for termo, mu in graus_x.items():\n",
    "    if mu > 0:\n",
    "        print(f'  μ({termo}) = {mu:.3f}')\n",
    "\n",
    "# Fazer predição\n",
    "y_predito = wm.predict([[x_teste]])[0]\n",
    "\n",
    "print()\n",
    "print('='*70)\n",
    "print(f'✅ Resultado: y_predito = {y_predito:.4f}')\n",
    "print(f'✅ Valor real: y_real = {y_real:.4f}')\n",
    "print(f'✅ Erro: |{y_predito:.4f} - {y_real:.4f}| = {abs(y_predito - y_real):.4f}')\n",
    "print('='*70)"
   ]
  },
  {
   "cell_type": "markdown",
   "metadata": {},
   "source": [
    "---\n",
    "\n",
    "## 🎓 Conclusões\n",
    "\n",
    "### ✅ O que aprendemos?\n",
    "\n",
    "1. **Wang-Mendel é um Aproximador Universal**\n",
    "   - Pode aproximar qualquer função contínua (teorema provado no paper original)\n",
    "   - Funciona tanto para funções lineares quanto não-lineares\n",
    "   - Não é interpolação! É aproximação robusta a ruído\n",
    "\n",
    "2. **Geração Automática de Regras**\n",
    "   - Regras são extraídas **automaticamente** dos dados\n",
    "   - Algoritmo simples: **um único passo** pelos dados\n",
    "   - Conflitos resolvidos mantendo regra com maior grau\n",
    "\n",
    "3. **Interpretabilidade**\n",
    "   - Cada regra é **linguística** e **interpretável**\n",
    "   - Diferente de redes neurais (caixa-preta)\n",
    "   - Podemos entender **como** o sistema funciona\n",
    "\n",
    "4. **Parâmetros Importantes**\n",
    "   - **n_partitions**: Afeta precisão e complexidade\n",
    "   - **margin**: Importante para generalização (dados não vistos)\n",
    "   - Trade-off: mais partições = menor erro, mas mais regras\n",
    "\n",
    "---\n",
    "\n",
    "### 🔬 Vantagens do Wang-Mendel\n",
    "\n",
    "✅ Rápido (um único passo pelos dados)  \n",
    "✅ Regras interpretáveis  \n",
    "✅ Não requer especialista  \n",
    "✅ Funciona para classificação e regressão  \n",
    "✅ Robusto a ruído  \n",
    "\n",
    "### ⚠️ Limitações\n",
    "\n",
    "⚠️ Número de partições fixo (escolhido a priori)  \n",
    "⚠️ Pode gerar muitas regras com muitas entradas (explosão combinatória)  \n",
    "⚠️ Não refina as regras (diferente do ANFIS que vem na Aula 4!)  \n",
    "\n",
    "---\n",
    "\n",
    "### 🚀 Próximos Passos\n",
    "\n",
    "1. **Regressão Linear**: Aplicar Wang-Mendel a uma reta (`02_wang_mendel_reta.ipynb`)\n",
    "2. **Classificação**: Aplicar Wang-Mendel ao dataset Iris (`03_wang_mendel_iris.ipynb`)\n",
    "3. **ANFIS** (Aula 4): Usar Wang-Mendel para inicializar + refinar com backpropagation\n",
    "\n",
    "---\n",
    "\n",
    "### 📚 Recursos\n",
    "\n",
    "- **PyPI**: https://pypi.org/project/pyfuzzy-toolbox/\n",
    "- **GitHub**: https://github.com/1moi6/pyfuzzy-toolbox\n",
    "\n",
    "### 📖 Referências\n",
    "\n",
    "1. **Wang, L. X., & Mendel, J. M. (1992)**. \"Generating fuzzy rules by learning from examples.\"  \n",
    "   *IEEE Transactions on Systems, Man, and Cybernetics*, 22(6), 1414-1427.\n",
    "\n",
    "2. **Ross, T. J. (2010)**. *Fuzzy Logic with Engineering Applications*. 3rd ed. Wiley.\n",
    "\n",
    "3. **Jang et al. (1997)**. *Neuro-Fuzzy and Soft Computing*. Prentice Hall.\n",
    "\n",
    "---\n",
    "\n",
    "*Notebook desenvolvido para o Minicurso de Sistemas de Inferência Fuzzy - Aula 3 - 2025*  \n",
    "*Usando pyfuzzy-toolbox v1.0.0*"
   ]
  }
 ],
 "metadata": {
  "kernelspec": {
   "display_name": "Python 3",
   "language": "python",
   "name": "python3"
  },
  "language_info": {
   "codemirror_mode": {
    "name": "ipython",
    "version": 3
   },
   "file_extension": ".py",
   "mimetype": "text/x-python",
   "name": "python",
   "nbconvert_exporter": "python",
   "pygments_lexer": "ipython3",
   "version": "3.8.0"
  },
  "colab": {
   "provenance": [],
   "include_colab_link": true
  }
 },
 "nbformat": 4,
 "nbformat_minor": 0
}
