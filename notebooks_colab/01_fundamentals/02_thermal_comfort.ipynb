{
 "cells": [
  {
   "cell_type": "markdown",
   "metadata": {},
   "source": [
    "# Thermal Comfort Modeling\n",
    "\n",
    "**Practical Application: Multi-variable Fuzzy System**"
   ]
  },
  {
   "cell_type": "code",
   "execution_count": null,
   "metadata": {},
   "outputs": [],
   "source": [
    "!pip install pyfuzzy-toolbox -q"
   ]
  },
  {
   "cell_type": "code",
   "execution_count": null,
   "metadata": {},
   "outputs": [],
   "source": [
    "import numpy as np\n",
    "import matplotlib.pyplot as plt\n",
    "from fuzzy_systems.core import LinguisticVariable\n",
    "\n",
    "plt.rcParams['figure.figsize'] = (12, 6)\n",
    "%matplotlib inline"
   ]
  },
  {
   "cell_type": "markdown",
   "metadata": {},
   "source": [
    "### 1. Temperature Variable"
   ]
  },
  {
   "cell_type": "code",
   "execution_count": null,
   "metadata": {},
   "outputs": [],
   "source": [
    "# Model temperature: cold (0-20°C), warm (15-29°C), hot (26-40°C)\n",
    "temperature = LinguisticVariable(\"temperature\", universe=(0, 40))\n",
    "temperature.add_term(\"cold\", \"trapezoidal\", (0, 0, 10, 20))\n",
    "temperature.add_term(\"warm\", \"triangular\", (15, 22, 29))\n",
    "temperature.add_term(\"hot\", \"trapezoidal\", (26, 32, 40, 40))\n",
    "\n",
    "temperature.plot(figsize=(12, 5), show=True)"
   ]
  },
  {
   "cell_type": "markdown",
   "metadata": {},
   "source": [
    "### 2. Humidity Variable"
   ]
  },
  {
   "cell_type": "code",
   "execution_count": null,
   "metadata": {},
   "outputs": [],
   "source": [
    "# Model humidity: low (0-40%), normal (30-70%), high (60-100%)\n",
    "humidity = LinguisticVariable(\"humidity\", universe=(0, 100))\n",
    "humidity.add_term(\"low\", \"trapezoidal\", (0, 0, 20, 40))\n",
    "humidity.add_term(\"normal\", \"triangular\", (30, 50, 70))\n",
    "humidity.add_term(\"high\", \"trapezoidal\", (60, 80, 100, 100))\n",
    "\n",
    "humidity.plot(figsize=(12, 5), show=True)"
   ]
  },
  {
   "cell_type": "code",
   "execution_count": null,
   "metadata": {},
   "outputs": [],
   "source": [
    "# Side-by-side visualization\n",
    "fig, (ax1, ax2) = plt.subplots(1, 2, figsize=(14, 5))\n",
    "\n",
    "# Temperature\n",
    "temp_x = np.linspace(0, 40, 500)\n",
    "colors_temp = {'cold': 'b', 'warm': 'g', 'hot': 'r'}\n",
    "for name, term in temperature.terms.items():\n",
    "    mu = term.membership(temp_x)\n",
    "    ax1.plot(temp_x, mu, color=colors_temp[name], linewidth=2, label=name.upper())\n",
    "    ax1.fill_between(temp_x, 0, mu, alpha=0.2, color=colors_temp[name])\n",
    "ax1.set_xlabel('Temperature (°C)')\n",
    "ax1.set_ylabel('μ(T)')\n",
    "ax1.set_title('TEMPERATURE')\n",
    "ax1.legend()\n",
    "ax1.grid(True, alpha=0.3)\n",
    "\n",
    "# Humidity\n",
    "hum_x = np.linspace(0, 100, 500)\n",
    "colors_hum = {'low': 'b', 'normal': 'g', 'high': 'r'}\n",
    "for name, term in humidity.terms.items():\n",
    "    mu = term.membership(hum_x)\n",
    "    ax2.plot(hum_x, mu, color=colors_hum[name], linewidth=2, label=name.upper())\n",
    "    ax2.fill_between(hum_x, 0, mu, alpha=0.2, color=colors_hum[name])\n",
    "ax2.set_xlabel('Humidity (%)')\n",
    "ax2.set_ylabel('μ(H)')\n",
    "ax2.set_title('HUMIDITY')\n",
    "ax2.legend()\n",
    "ax2.grid(True, alpha=0.3)\n",
    "\n",
    "plt.tight_layout()\n",
    "plt.show()"
   ]
  },
  {
   "cell_type": "markdown",
   "metadata": {},
   "source": [
    "### 3. Fuzzy Rules for Comfort"
   ]
  },
  {
   "cell_type": "code",
   "execution_count": null,
   "metadata": {},
   "outputs": [],
   "source": [
    "def calculate_comfort(temp_val, hum_val):\n",
    "    \"\"\"\n",
    "    Calculate thermal comfort using fuzzy rules.\n",
    "    \n",
    "    Rules:\n",
    "    - Ideal comfort: warm AND normal\n",
    "    - Good comfort: (warm AND low) OR (cold AND normal)\n",
    "    - Discomfort: (hot AND high) OR (cold AND high) OR (hot AND low)\n",
    "    \"\"\"\n",
    "    mu_temp = temperature.fuzzify(temp_val)\n",
    "    mu_hum = humidity.fuzzify(hum_val)\n",
    "    \n",
    "    # Apply fuzzy rules using min (AND) and max (OR)\n",
    "    ideal = min(mu_temp['warm'], mu_hum['normal'])\n",
    "    good = max(\n",
    "        min(mu_temp['warm'], mu_hum['low']),\n",
    "        min(mu_temp['cold'], mu_hum['normal'])\n",
    "    )\n",
    "    discomfort = max(\n",
    "        max(\n",
    "            min(mu_temp['hot'], mu_hum['high']),\n",
    "            min(mu_temp['cold'], mu_hum['high'])\n",
    "        ),\n",
    "        min(mu_temp['hot'], mu_hum['low'])\n",
    "    )\n",
    "    \n",
    "    return mu_temp, mu_hum, ideal, good, discomfort"
   ]
  },
  {
   "cell_type": "markdown",
   "metadata": {},
   "source": [
    "### 4. Test Cases"
   ]
  },
  {
   "cell_type": "code",
   "execution_count": null,
   "metadata": {},
   "outputs": [],
   "source": [
    "# Test different conditions\n",
    "test_cases = [\n",
    "    (22, 50, \"Ideal conditions\"),\n",
    "    (18, 45, \"Cool and dry\"),\n",
    "    (32, 75, \"Hot and humid\"),\n",
    "    (25, 30, \"Good temp, dry air\"),\n",
    "    (28, 65, \"Slightly warm and humid\")\n",
    "]\n",
    "\n",
    "for temp, hum, desc in test_cases:\n",
    "    mu_t, mu_h, ideal, good, disc = calculate_comfort(temp, hum)\n",
    "    print(f\"\\n{desc}: T={temp}°C, H={hum}%\")\n",
    "    print(f\"  Temperature: cold={mu_t['cold']:.2f}, warm={mu_t['warm']:.2f}, hot={mu_t['hot']:.2f}\")\n",
    "    print(f\"  Humidity: low={mu_h['low']:.2f}, normal={mu_h['normal']:.2f}, high={mu_h['high']:.2f}\")\n",
    "    print(f\"  Comfort: ideal={ideal:.2f}, good={good:.2f}, discomfort={disc:.2f}\")"
   ]
  },
  {
   "cell_type": "markdown",
   "metadata": {},
   "source": [
    "### 5. Thermal Comfort Map"
   ]
  },
  {
   "cell_type": "code",
   "execution_count": null,
   "metadata": {},
   "outputs": [],
   "source": [
    "# Create 2D comfort map for all temperature-humidity combinations\n",
    "temps = np.linspace(0, 40, 100)\n",
    "hums = np.linspace(0, 100, 100)\n",
    "comfort_map = np.zeros((len(hums), len(temps)))\n",
    "\n",
    "for i, h in enumerate(hums):\n",
    "    for j, t in enumerate(temps):\n",
    "        _, _, ideal, good, _ = calculate_comfort(t, h)\n",
    "        comfort_map[i, j] = max(ideal, 0.5 * good)  # Weighted comfort score\n",
    "\n",
    "plt.figure(figsize=(12, 8))\n",
    "contour = plt.contourf(temps, hums, comfort_map, levels=20, cmap='RdYlGn')\n",
    "plt.colorbar(contour, label='Comfort Degree')\n",
    "plt.xlabel('Temperature (°C)')\n",
    "plt.ylabel('Humidity (%)')\n",
    "plt.title('Thermal Comfort Map (Green = More Comfortable)')\n",
    "plt.grid(True, alpha=0.3, color='white')\n",
    "\n",
    "# Mark ideal region\n",
    "plt.plot([15, 29, 29, 15, 15], [30, 30, 70, 70, 30], 'b--', linewidth=2, label='Ideal range')\n",
    "plt.legend()\n",
    "plt.show()"
   ]
  },
  {
   "cell_type": "markdown",
   "metadata": {},
   "source": [
    "### 🎯 Exercise 1: Test Your Own Values"
   ]
  },
  {
   "cell_type": "code",
   "execution_count": null,
   "metadata": {},
   "outputs": [],
   "source": [
    "# Modify these values to test different conditions\n",
    "my_temperature = 25  # °C\n",
    "my_humidity = 60     # %\n",
    "\n",
    "mu_t, mu_h, ideal, good, disc = calculate_comfort(my_temperature, my_humidity)\n",
    "print(f\"Your test: T={my_temperature}°C, H={my_humidity}%\")\n",
    "print(f\"  Comfort scores: ideal={ideal:.3f}, good={good:.3f}, discomfort={disc:.3f}\")"
   ]
  },
  {
   "cell_type": "markdown",
   "metadata": {},
   "source": [
    "### 🎯 Exercise 2: Modify Membership Functions"
   ]
  },
  {
   "cell_type": "code",
   "execution_count": null,
   "metadata": {},
   "outputs": [],
   "source": [
    "# Create custom temperature model with different parameters\n",
    "temp_custom = LinguisticVariable(\"temperature_custom\", universe=(0, 40))\n",
    "temp_custom.add_term(\"cold\", \"trapezoidal\", (0, 0, 12, 18))   # Try different values\n",
    "temp_custom.add_term(\"warm\", \"triangular\", (16, 24, 28))\n",
    "temp_custom.add_term(\"hot\", \"trapezoidal\", (25, 30, 40, 40))\n",
    "\n",
    "temp_custom.plot(figsize=(12, 5), show=True)"
   ]
  },
  {
   "cell_type": "markdown",
   "metadata": {},
   "source": [
    "### 🎯 Exercise 3: Add New Rules"
   ]
  },
  {
   "cell_type": "code",
   "execution_count": null,
   "metadata": {},
   "outputs": [],
   "source": [
    "# Implement your own comfort rules\n",
    "def custom_comfort_rules(temp_val, hum_val):\n",
    "    mu_temp = temperature.fuzzify(temp_val)\n",
    "    mu_hum = humidity.fuzzify(hum_val)\n",
    "    \n",
    "    # TODO: Add your own rules here\n",
    "    # Example:\n",
    "    # rule1 = min(mu_temp['cold'], mu_hum['low'])\n",
    "    # rule2 = min(mu_temp['hot'], mu_hum['normal'])\n",
    "    \n",
    "    pass\n",
    "\n",
    "# Test your custom rules"
   ]
  }
 ],
 "metadata": {
  "colab": {
   "name": "02_Atividade_Temperatura_Confortavel.ipynb",
   "provenance": []
  },
  "kernelspec": {
   "display_name": "Python (generico)",
   "language": "python",
   "name": "generico"
  },
  "language_info": {
   "codemirror_mode": {
    "name": "ipython",
    "version": 3
   },
   "file_extension": ".py",
   "mimetype": "text/x-python",
   "name": "python",
   "nbconvert_exporter": "python",
   "pygments_lexer": "ipython3",
   "version": "3.11.9"
  }
 },
 "nbformat": 4,
 "nbformat_minor": 0
}
