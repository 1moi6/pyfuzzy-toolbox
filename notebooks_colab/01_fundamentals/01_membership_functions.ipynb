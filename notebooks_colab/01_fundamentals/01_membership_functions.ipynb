{
 "cells": [
  {
   "cell_type": "markdown",
   "metadata": {},
   "source": [
    "# Fuzzy Logic Fundamentals\n",
    "\n",
    "**Lesson 1: Fuzzy Sets and Membership Functions**"
   ]
  },
  {
   "cell_type": "code",
   "execution_count": null,
   "metadata": {},
   "outputs": [],
   "source": [
    "# Install pyfuzzy-toolbox from PyPI\n",
    "!pip install pyfuzzy-toolbox -q"
   ]
  },
  {
   "cell_type": "code",
   "execution_count": null,
   "metadata": {},
   "outputs": [],
   "source": [
    "import numpy as np\n",
    "import matplotlib.pyplot as plt\n",
    "from fuzzy_systems.core import (\n",
    "    triangular, trapezoidal, gaussian, sigmoid,\n",
    "    FuzzySet, LinguisticVariable,\n",
    "    fuzzy_and_min, fuzzy_or_max, fuzzy_not\n",
    ")\n",
    "\n",
    "plt.style.use('seaborn-v0_8-darkgrid')\n",
    "%matplotlib inline"
   ]
  },
  {
   "cell_type": "markdown",
   "metadata": {},
   "source": [
    "### 1. Membership Functions"
   ]
  },
  {
   "cell_type": "code",
   "execution_count": null,
   "metadata": {},
   "outputs": [],
   "source": [
    "# Triangular membership function\n",
    "x = np.linspace(0, 10, 100)\n",
    "tri = triangular(x, (2, 5, 8))  # (a, b, c) parameters\n",
    "\n",
    "plt.figure(figsize=(10, 4))\n",
    "plt.plot(x, tri, 'r-', linewidth=2.5)\n",
    "plt.fill_between(x, 0, tri, alpha=0.3, color='red')\n",
    "plt.title('Triangular Membership Function')\n",
    "plt.xlabel('Universe of Discourse (x)')\n",
    "plt.ylabel('Membership Degree μ(x)')\n",
    "plt.grid(True, alpha=0.4)\n",
    "plt.ylim([-0.1, 1.1])\n",
    "plt.show()"
   ]
  },
  {
   "cell_type": "code",
   "execution_count": null,
   "metadata": {},
   "outputs": [],
   "source": [
    "# Trapezoidal membership function\n",
    "trap = trapezoidal(x, (1, 3, 7, 9))  # (a, b, c, d) parameters\n",
    "\n",
    "plt.figure(figsize=(10, 4))\n",
    "plt.plot(x, trap, 'g-', linewidth=2.5)\n",
    "plt.fill_between(x, 0, trap, alpha=0.3, color='green')\n",
    "plt.title('Trapezoidal Membership Function')\n",
    "plt.xlabel('x')\n",
    "plt.ylabel('μ(x)')\n",
    "plt.grid(True, alpha=0.4)\n",
    "plt.ylim([-0.1, 1.1])\n",
    "plt.show()"
   ]
  },
  {
   "cell_type": "code",
   "execution_count": null,
   "metadata": {},
   "outputs": [],
   "source": [
    "# Gaussian membership function\n",
    "gauss = gaussian(x, (5, 1.5))  # (mean, sigma) parameters\n",
    "\n",
    "plt.figure(figsize=(10, 4))\n",
    "plt.plot(x, gauss, 'b-', linewidth=2.5)\n",
    "plt.fill_between(x, 0, gauss, alpha=0.3, color='blue')\n",
    "plt.title('Gaussian Membership Function')\n",
    "plt.xlabel('x')\n",
    "plt.ylabel('μ(x)')\n",
    "plt.grid(True, alpha=0.4)\n",
    "plt.ylim([-0.1, 1.1])\n",
    "plt.show()"
   ]
  },
  {
   "cell_type": "code",
   "execution_count": null,
   "metadata": {},
   "outputs": [],
   "source": [
    "# Sigmoid membership function\n",
    "sig = sigmoid(x, (1, 5))  # (slope, center) parameters\n",
    "\n",
    "plt.figure(figsize=(10, 4))\n",
    "plt.plot(x, sig, 'm-', linewidth=2.5)\n",
    "plt.fill_between(x, 0, sig, alpha=0.3, color='magenta')\n",
    "plt.title('Sigmoid Membership Function')\n",
    "plt.xlabel('x')\n",
    "plt.ylabel('μ(x)')\n",
    "plt.grid(True, alpha=0.4)\n",
    "plt.ylim([-0.1, 1.1])\n",
    "plt.show()"
   ]
  },
  {
   "cell_type": "code",
   "execution_count": null,
   "metadata": {},
   "outputs": [],
   "source": [
    "# Comparison of all membership functions\n",
    "fig, axes = plt.subplots(2, 2, figsize=(12, 8))\n",
    "\n",
    "axes[0,0].plot(x, triangular(x, (2, 5, 8)), 'r-', linewidth=2)\n",
    "axes[0,0].fill_between(x, 0, triangular(x, (2, 5, 8)), alpha=0.3, color='red')\n",
    "axes[0,0].set_title('Triangular')\n",
    "axes[0,0].grid(True, alpha=0.3)\n",
    "\n",
    "axes[0,1].plot(x, trapezoidal(x, (1, 3, 7, 9)), 'g-', linewidth=2)\n",
    "axes[0,1].fill_between(x, 0, trapezoidal(x, (1, 3, 7, 9)), alpha=0.3, color='green')\n",
    "axes[0,1].set_title('Trapezoidal')\n",
    "axes[0,1].grid(True, alpha=0.3)\n",
    "\n",
    "axes[1,0].plot(x, gaussian(x, (5, 1.5)), 'b-', linewidth=2)\n",
    "axes[1,0].fill_between(x, 0, gaussian(x, (5, 1.5)), alpha=0.3, color='blue')\n",
    "axes[1,0].set_title('Gaussian')\n",
    "axes[1,0].grid(True, alpha=0.3)\n",
    "\n",
    "axes[1,1].plot(x, sigmoid(x, (1, 5)), 'm-', linewidth=2)\n",
    "axes[1,1].fill_between(x, 0, sigmoid(x, (1, 5)), alpha=0.3, color='magenta')\n",
    "axes[1,1].set_title('Sigmoid')\n",
    "axes[1,1].grid(True, alpha=0.3)\n",
    "\n",
    "plt.tight_layout()\n",
    "plt.show()"
   ]
  },
  {
   "cell_type": "markdown",
   "metadata": {},
   "source": [
    "### 🎯 Exercise 1: Create Your Own FuzzySet\n",
    "\n",
    "Model \"comfortable temperature\" (20-25°C) using FuzzySet class"
   ]
  },
  {
   "cell_type": "code",
   "execution_count": null,
   "metadata": {},
   "outputs": [],
   "source": [
    "# Create FuzzySet for comfortable temperature\n",
    "temp_universe = np.linspace(0, 50, 200)\n",
    "temp_comfortable = FuzzySet(\"comfortable\", \"triangular\", (15, 22.5, 30))\n",
    "mu_comfortable = temp_comfortable.membership(temp_universe)\n",
    "\n",
    "plt.figure(figsize=(10, 4))\n",
    "plt.plot(temp_universe, mu_comfortable, 'orange', linewidth=2.5)\n",
    "plt.fill_between(temp_universe, 0, mu_comfortable, alpha=0.3, color='orange')\n",
    "plt.title('Comfortable Temperature')\n",
    "plt.xlabel('Temperature (°C)')\n",
    "plt.ylabel('μ(T)')\n",
    "plt.grid(True)\n",
    "plt.show()"
   ]
  },
  {
   "cell_type": "markdown",
   "metadata": {},
   "source": [
    "### 2. Linguistic Variables"
   ]
  },
  {
   "cell_type": "code",
   "execution_count": null,
   "metadata": {},
   "outputs": [],
   "source": [
    "# Create linguistic variable for temperature\n",
    "temperature = LinguisticVariable(\"temperature\", universe=(0, 50))\n",
    "temperature.add_term(\"cold\", \"trapezoidal\", (0, 0, 10, 20))\n",
    "temperature.add_term(\"warm\", \"triangular\", (15, 25, 35))\n",
    "temperature.add_term(\"hot\", \"trapezoidal\", (30, 40, 50, 50))\n",
    "\n",
    "temperature.plot(figsize=(12, 5), show=True)"
   ]
  },
  {
   "cell_type": "markdown",
   "metadata": {},
   "source": [
    "### 3. Fuzzification"
   ]
  },
  {
   "cell_type": "code",
   "execution_count": null,
   "metadata": {},
   "outputs": [],
   "source": [
    "# Fuzzify a crisp value\n",
    "test_value = 28  # °C\n",
    "degrees = temperature.fuzzify(test_value)\n",
    "\n",
    "print(f\"Fuzzification of {test_value}°C:\")\n",
    "for term, mu in degrees.items():\n",
    "    print(f\"  {term}: μ = {mu:.3f}\")"
   ]
  },
  {
   "cell_type": "code",
   "execution_count": null,
   "metadata": {},
   "outputs": [],
   "source": [
    "# Visualize fuzzification\n",
    "temp_x = np.linspace(0, 50, 200)\n",
    "mu_cold = temperature.terms[\"cold\"].membership(temp_x)\n",
    "mu_warm = temperature.terms[\"warm\"].membership(temp_x)\n",
    "mu_hot = temperature.terms[\"hot\"].membership(temp_x)\n",
    "\n",
    "plt.figure(figsize=(12, 5))\n",
    "plt.plot(temp_x, mu_cold, 'b-', linewidth=2, label='Cold')\n",
    "plt.plot(temp_x, mu_warm, 'g-', linewidth=2, label='Warm')\n",
    "plt.plot(temp_x, mu_hot, 'r-', linewidth=2, label='Hot')\n",
    "plt.axvline(x=test_value, color='orange', linestyle='--', linewidth=2, label=f'Value: {test_value}°C')\n",
    "\n",
    "# Mark membership degrees\n",
    "for term, mu_val in degrees.items():\n",
    "    if mu_val > 0.01:\n",
    "        color_map = {'cold': 'blue', 'warm': 'green', 'hot': 'red'}\n",
    "        plt.plot(test_value, mu_val, 'o', color=color_map[term], markersize=10)\n",
    "\n",
    "plt.xlabel('Temperature (°C)')\n",
    "plt.ylabel('μ(x)')\n",
    "plt.title(f'Fuzzification: {test_value}°C')\n",
    "plt.legend()\n",
    "plt.grid(True)\n",
    "plt.show()"
   ]
  },
  {
   "cell_type": "markdown",
   "metadata": {},
   "source": [
    "### 🎯 Exercise 2: Test Multiple Values\n",
    "\n",
    "Fuzzify: 15°C, 22°C, 35°C, 45°C"
   ]
  },
  {
   "cell_type": "code",
   "execution_count": null,
   "metadata": {},
   "outputs": [],
   "source": [
    "# Test multiple values\n",
    "test_values = [15, 22, 35, 45]\n",
    "\n",
    "for val in test_values:\n",
    "    degrees = temperature.fuzzify(val)\n",
    "    dominant = max(degrees, key=degrees.get)\n",
    "    print(f\"{val}°C: {', '.join([f'{t}={mu:.2f}' for t, mu in degrees.items()])} → Dominant: {dominant}\")"
   ]
  },
  {
   "cell_type": "markdown",
   "metadata": {},
   "source": [
    "### 4. Fuzzy Operations"
   ]
  },
  {
   "cell_type": "code",
   "execution_count": null,
   "metadata": {},
   "outputs": [],
   "source": [
    "# Fuzzy Union (OR/MAX)\n",
    "x_op = np.linspace(0, 10, 100)\n",
    "set_A = triangular(x_op, (2, 4, 6))\n",
    "set_B = triangular(x_op, (4, 6, 8))\n",
    "union = fuzzy_or_max(set_A, set_B)\n",
    "\n",
    "plt.figure(figsize=(10, 4))\n",
    "plt.plot(x_op, set_A, 'b-', linewidth=2, label='Set A', alpha=0.7)\n",
    "plt.plot(x_op, set_B, 'r-', linewidth=2, label='Set B', alpha=0.7)\n",
    "plt.plot(x_op, union, 'g-', linewidth=3, label='A ∪ B')\n",
    "plt.fill_between(x_op, 0, union, alpha=0.3, color='green')\n",
    "plt.title('Fuzzy Union (OR/MAX)')\n",
    "plt.xlabel('x')\n",
    "plt.ylabel('μ(x)')\n",
    "plt.legend()\n",
    "plt.grid(True)\n",
    "plt.show()"
   ]
  },
  {
   "cell_type": "code",
   "execution_count": null,
   "metadata": {},
   "outputs": [],
   "source": [
    "# Fuzzy Intersection (AND/MIN)\n",
    "intersection = fuzzy_and_min(set_A, set_B)\n",
    "\n",
    "plt.figure(figsize=(10, 4))\n",
    "plt.plot(x_op, set_A, 'b-', linewidth=2, label='Set A', alpha=0.7)\n",
    "plt.plot(x_op, set_B, 'r-', linewidth=2, label='Set B', alpha=0.7)\n",
    "plt.plot(x_op, intersection, 'purple', linewidth=3, label='A ∩ B')\n",
    "plt.fill_between(x_op, 0, intersection, alpha=0.3, color='purple')\n",
    "plt.title('Fuzzy Intersection (AND/MIN)')\n",
    "plt.xlabel('x')\n",
    "plt.ylabel('μ(x)')\n",
    "plt.legend()\n",
    "plt.grid(True)\n",
    "plt.show()"
   ]
  },
  {
   "cell_type": "code",
   "execution_count": null,
   "metadata": {},
   "outputs": [],
   "source": [
    "# Fuzzy Complement (NOT)\n",
    "complement_A = fuzzy_not(set_A)\n",
    "\n",
    "plt.figure(figsize=(10, 4))\n",
    "plt.plot(x_op, set_A, 'b-', linewidth=2, label='Set A', alpha=0.7)\n",
    "plt.plot(x_op, complement_A, 'orange', linewidth=3, label='NOT A')\n",
    "plt.fill_between(x_op, 0, complement_A, alpha=0.3, color='orange')\n",
    "plt.title('Fuzzy Complement (NOT)')\n",
    "plt.xlabel('x')\n",
    "plt.ylabel('μ(x)')\n",
    "plt.legend()\n",
    "plt.grid(True)\n",
    "plt.show()"
   ]
  },
  {
   "cell_type": "markdown",
   "metadata": {},
   "source": [
    "### 🎯 Exercise 3: Apply Fuzzy Operations\n",
    "\n",
    "Calculate:\n",
    "1. NOT Cold\n",
    "2. Warm OR Hot\n",
    "3. Warm AND (NOT Hot)"
   ]
  },
  {
   "cell_type": "code",
   "execution_count": null,
   "metadata": {},
   "outputs": [],
   "source": [
    "# Apply fuzzy operations to temperature\n",
    "temp_x = np.linspace(0, 50, 200)\n",
    "mu_cold = temperature.terms[\"cold\"].membership(temp_x)\n",
    "mu_warm = temperature.terms[\"warm\"].membership(temp_x)\n",
    "mu_hot = temperature.terms[\"hot\"].membership(temp_x)\n",
    "\n",
    "not_cold = fuzzy_not(mu_cold)\n",
    "warm_or_hot = fuzzy_or_max(mu_warm, mu_hot)\n",
    "warm_and_not_hot = fuzzy_and_min(mu_warm, fuzzy_not(mu_hot))\n",
    "\n",
    "fig, axes = plt.subplots(3, 1, figsize=(12, 9))\n",
    "\n",
    "axes[0].plot(temp_x, mu_cold, 'b--', label='Cold', alpha=0.5)\n",
    "axes[0].plot(temp_x, not_cold, 'orange', linewidth=2, label='NOT Cold')\n",
    "axes[0].fill_between(temp_x, 0, not_cold, alpha=0.3, color='orange')\n",
    "axes[0].set_title('NOT Cold')\n",
    "axes[0].legend()\n",
    "axes[0].grid(True)\n",
    "\n",
    "axes[1].plot(temp_x, mu_warm, 'g--', label='Warm', alpha=0.5)\n",
    "axes[1].plot(temp_x, mu_hot, 'r--', label='Hot', alpha=0.5)\n",
    "axes[1].plot(temp_x, warm_or_hot, 'purple', linewidth=2, label='Warm OR Hot')\n",
    "axes[1].fill_between(temp_x, 0, warm_or_hot, alpha=0.3, color='purple')\n",
    "axes[1].set_title('Warm OR Hot')\n",
    "axes[1].legend()\n",
    "axes[1].grid(True)\n",
    "\n",
    "axes[2].plot(temp_x, mu_warm, 'g--', label='Warm', alpha=0.5)\n",
    "axes[2].plot(temp_x, fuzzy_not(mu_hot), 'pink', label='NOT Hot', alpha=0.5)\n",
    "axes[2].plot(temp_x, warm_and_not_hot, 'darkgreen', linewidth=2, label='Warm AND (NOT Hot)')\n",
    "axes[2].fill_between(temp_x, 0, warm_and_not_hot, alpha=0.3, color='darkgreen')\n",
    "axes[2].set_title('Warm AND (NOT Hot)')\n",
    "axes[2].set_xlabel('Temperature (°C)')\n",
    "axes[2].legend()\n",
    "axes[2].grid(True)\n",
    "\n",
    "plt.tight_layout()\n",
    "plt.show()"
   ]
  }
 ],
 "metadata": {
  "colab": {
   "name": "01_Fundamentos_Logica_Fuzzy_v2.ipynb",
   "provenance": []
  },
  "kernelspec": {
   "display_name": "Python (generico)",
   "language": "python",
   "name": "generico"
  },
  "language_info": {
   "codemirror_mode": {
    "name": "ipython",
    "version": 3
   },
   "file_extension": ".py",
   "mimetype": "text/x-python",
   "name": "python",
   "nbconvert_exporter": "python",
   "pygments_lexer": "ipython3",
   "version": "3.11.9"
  }
 },
 "nbformat": 4,
 "nbformat_minor": 0
}
